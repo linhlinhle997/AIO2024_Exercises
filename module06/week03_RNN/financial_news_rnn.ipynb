{
 "cells": [
  {
   "cell_type": "code",
   "execution_count": 1,
   "metadata": {},
   "outputs": [
    {
     "name": "stderr",
     "output_type": "stream",
     "text": [
      "[nltk_data] Downloading package stopwords to /home/linhle/nltk_data...\n",
      "[nltk_data]   Package stopwords is already up-to-date!\n"
     ]
    }
   ],
   "source": [
    "import torch\n",
    "import torch.nn as nn\n",
    "\n",
    "seed = 1\n",
    "torch.manual_seed(seed)\n",
    "\n",
    "import os\n",
    "import numpy as np\n",
    "import pandas as pd\n",
    "import matplotlib.pyplot as plt\n",
    "import re\n",
    "import nltk\n",
    "import unidecode\n",
    "\n",
    "nltk.download(\"stopwords\")\n",
    "from nltk.corpus import stopwords\n",
    "from nltk.stem.porter import PorterStemmer\n",
    "\n",
    "from torch.utils.data import Dataset, DataLoader\n",
    "from sklearn.model_selection import train_test_split"
   ]
  },
  {
   "cell_type": "markdown",
   "metadata": {},
   "source": [
    "## Load Dataset"
   ]
  },
  {
   "cell_type": "code",
   "execution_count": 2,
   "metadata": {},
   "outputs": [
    {
     "name": "stdout",
     "output_type": "stream",
     "text": [
      "Downloading...\n",
      "From: https://drive.google.com/uc?id=1uYXI4O3oWBA6QC8ZJ-r6yaTTfkdAnl_Q\n",
      "To: /mnt/d/AIO2024/homework/AIO2024_Exercises/module06/week03_RNN/data.zip\n",
      "100%|████████████████████████████████████████| 230k/230k [00:00<00:00, 1.78MB/s]\n",
      "Archive:  data.zip\n",
      "   creating: dataset/\n",
      "  inflating: dataset/all-data.csv    \n"
     ]
    }
   ],
   "source": [
    "!gdown 1uYXI4O3oWBA6QC8ZJ-r6yaTTfkdAnl_Q -O data.zip\n",
    "!unzip data.zip \n",
    "!rm data.zip"
   ]
  },
  {
   "cell_type": "code",
   "execution_count": 2,
   "metadata": {},
   "outputs": [
    {
     "data": {
      "text/html": [
       "<div>\n",
       "<style scoped>\n",
       "    .dataframe tbody tr th:only-of-type {\n",
       "        vertical-align: middle;\n",
       "    }\n",
       "\n",
       "    .dataframe tbody tr th {\n",
       "        vertical-align: top;\n",
       "    }\n",
       "\n",
       "    .dataframe thead th {\n",
       "        text-align: right;\n",
       "    }\n",
       "</style>\n",
       "<table border=\"1\" class=\"dataframe\">\n",
       "  <thead>\n",
       "    <tr style=\"text-align: right;\">\n",
       "      <th></th>\n",
       "      <th>sentiment</th>\n",
       "      <th>content</th>\n",
       "    </tr>\n",
       "  </thead>\n",
       "  <tbody>\n",
       "    <tr>\n",
       "      <th>0</th>\n",
       "      <td>neutral</td>\n",
       "      <td>According to Gran , the company has no plans t...</td>\n",
       "    </tr>\n",
       "    <tr>\n",
       "      <th>1</th>\n",
       "      <td>neutral</td>\n",
       "      <td>Technopolis plans to develop in stages an area...</td>\n",
       "    </tr>\n",
       "    <tr>\n",
       "      <th>2</th>\n",
       "      <td>negative</td>\n",
       "      <td>The international electronic industry company ...</td>\n",
       "    </tr>\n",
       "    <tr>\n",
       "      <th>3</th>\n",
       "      <td>positive</td>\n",
       "      <td>With the new production plant the company woul...</td>\n",
       "    </tr>\n",
       "    <tr>\n",
       "      <th>4</th>\n",
       "      <td>positive</td>\n",
       "      <td>According to the company 's updated strategy f...</td>\n",
       "    </tr>\n",
       "  </tbody>\n",
       "</table>\n",
       "</div>"
      ],
      "text/plain": [
       "  sentiment                                            content\n",
       "0   neutral  According to Gran , the company has no plans t...\n",
       "1   neutral  Technopolis plans to develop in stages an area...\n",
       "2  negative  The international electronic industry company ...\n",
       "3  positive  With the new production plant the company woul...\n",
       "4  positive  According to the company 's updated strategy f..."
      ]
     },
     "execution_count": 2,
     "metadata": {},
     "output_type": "execute_result"
    }
   ],
   "source": [
    "headers = [\"sentiment\", \"content\"]\n",
    "df = pd.read_csv(\"dataset/all-data.csv\", names=headers, encoding=\"ISO-8859-1\")\n",
    "df.head()"
   ]
  },
  {
   "cell_type": "code",
   "execution_count": 3,
   "metadata": {},
   "outputs": [
    {
     "data": {
      "text/html": [
       "<div>\n",
       "<style scoped>\n",
       "    .dataframe tbody tr th:only-of-type {\n",
       "        vertical-align: middle;\n",
       "    }\n",
       "\n",
       "    .dataframe tbody tr th {\n",
       "        vertical-align: top;\n",
       "    }\n",
       "\n",
       "    .dataframe thead th {\n",
       "        text-align: right;\n",
       "    }\n",
       "</style>\n",
       "<table border=\"1\" class=\"dataframe\">\n",
       "  <thead>\n",
       "    <tr style=\"text-align: right;\">\n",
       "      <th></th>\n",
       "      <th>sentiment</th>\n",
       "      <th>content</th>\n",
       "    </tr>\n",
       "  </thead>\n",
       "  <tbody>\n",
       "    <tr>\n",
       "      <th>0</th>\n",
       "      <td>0</td>\n",
       "      <td>According to Gran , the company has no plans t...</td>\n",
       "    </tr>\n",
       "    <tr>\n",
       "      <th>1</th>\n",
       "      <td>0</td>\n",
       "      <td>Technopolis plans to develop in stages an area...</td>\n",
       "    </tr>\n",
       "    <tr>\n",
       "      <th>2</th>\n",
       "      <td>1</td>\n",
       "      <td>The international electronic industry company ...</td>\n",
       "    </tr>\n",
       "    <tr>\n",
       "      <th>3</th>\n",
       "      <td>2</td>\n",
       "      <td>With the new production plant the company woul...</td>\n",
       "    </tr>\n",
       "    <tr>\n",
       "      <th>4</th>\n",
       "      <td>2</td>\n",
       "      <td>According to the company 's updated strategy f...</td>\n",
       "    </tr>\n",
       "  </tbody>\n",
       "</table>\n",
       "</div>"
      ],
      "text/plain": [
       "   sentiment                                            content\n",
       "0          0  According to Gran , the company has no plans t...\n",
       "1          0  Technopolis plans to develop in stages an area...\n",
       "2          1  The international electronic industry company ...\n",
       "3          2  With the new production plant the company woul...\n",
       "4          2  According to the company 's updated strategy f..."
      ]
     },
     "execution_count": 3,
     "metadata": {},
     "output_type": "execute_result"
    }
   ],
   "source": [
    "classes = {class_name: idx for idx, class_name in enumerate(df[\"sentiment\"].unique().tolist())}\n",
    "df[\"sentiment\"] = df[\"sentiment\"].apply(lambda x: classes[x])\n",
    "df.head()"
   ]
  },
  {
   "cell_type": "markdown",
   "metadata": {},
   "source": [
    "## Preprocessing"
   ]
  },
  {
   "cell_type": "code",
   "execution_count": 4,
   "metadata": {},
   "outputs": [
    {
     "data": {
      "text/html": [
       "<div>\n",
       "<style scoped>\n",
       "    .dataframe tbody tr th:only-of-type {\n",
       "        vertical-align: middle;\n",
       "    }\n",
       "\n",
       "    .dataframe tbody tr th {\n",
       "        vertical-align: top;\n",
       "    }\n",
       "\n",
       "    .dataframe thead th {\n",
       "        text-align: right;\n",
       "    }\n",
       "</style>\n",
       "<table border=\"1\" class=\"dataframe\">\n",
       "  <thead>\n",
       "    <tr style=\"text-align: right;\">\n",
       "      <th></th>\n",
       "      <th>sentiment</th>\n",
       "      <th>content</th>\n",
       "    </tr>\n",
       "  </thead>\n",
       "  <tbody>\n",
       "    <tr>\n",
       "      <th>0</th>\n",
       "      <td>0</td>\n",
       "      <td>accord gran  compani plan move product russia ...</td>\n",
       "    </tr>\n",
       "    <tr>\n",
       "      <th>1</th>\n",
       "      <td>0</td>\n",
       "      <td>technopoli plan develop stage area less 100000...</td>\n",
       "    </tr>\n",
       "    <tr>\n",
       "      <th>2</th>\n",
       "      <td>1</td>\n",
       "      <td>intern electron industri compani elcoteq laid ...</td>\n",
       "    </tr>\n",
       "    <tr>\n",
       "      <th>3</th>\n",
       "      <td>2</td>\n",
       "      <td>new product plant compani would increas capac ...</td>\n",
       "    </tr>\n",
       "    <tr>\n",
       "      <th>4</th>\n",
       "      <td>2</td>\n",
       "      <td>accord compani updat strategi year 20092012  b...</td>\n",
       "    </tr>\n",
       "  </tbody>\n",
       "</table>\n",
       "</div>"
      ],
      "text/plain": [
       "   sentiment                                            content\n",
       "0          0  accord gran  compani plan move product russia ...\n",
       "1          0  technopoli plan develop stage area less 100000...\n",
       "2          1  intern electron industri compani elcoteq laid ...\n",
       "3          2  new product plant compani would increas capac ...\n",
       "4          2  accord compani updat strategi year 20092012  b..."
      ]
     },
     "execution_count": 4,
     "metadata": {},
     "output_type": "execute_result"
    }
   ],
   "source": [
    "english_stop_words = stopwords.words(\"english\")\n",
    "stemmer = PorterStemmer()\n",
    "\n",
    "def text_normalize(text):\n",
    "    text = text.lower()\n",
    "    text = unidecode.unidecode(text)\n",
    "    text = text.strip()\n",
    "    text = re.sub(r\"[^\\w\\s]\", \"\", text)\n",
    "    text = \" \".join([word for word in text.split(\" \") if word not in english_stop_words])\n",
    "    text = \" \".join([stemmer.stem(word) for word in text.split(\" \")])\n",
    "    return text\n",
    "\n",
    "df[\"content\"] = df[\"content\"].apply(lambda x: text_normalize(x))\n",
    "df.head()"
   ]
  },
  {
   "cell_type": "markdown",
   "metadata": {},
   "source": [
    "### Build Vocab"
   ]
  },
  {
   "cell_type": "code",
   "execution_count": 5,
   "metadata": {},
   "outputs": [
    {
     "data": {
      "text/plain": [
       "8908"
      ]
     },
     "execution_count": 5,
     "metadata": {},
     "output_type": "execute_result"
    }
   ],
   "source": [
    "vocab = []\n",
    "for sentence in df[\"content\"]:\n",
    "    tokens = sentence.split()\n",
    "    for token in tokens:\n",
    "        if token not in vocab:\n",
    "            vocab.append(token)\n",
    "\n",
    "vocab.append(\"UNK\")\n",
    "vocab.append(\"PAD\")\n",
    "\n",
    "word_to_idx = {word: idx for idx, word in enumerate(vocab)}\n",
    "vocab_size = len(vocab)\n",
    "vocab_size"
   ]
  },
  {
   "cell_type": "code",
   "execution_count": 6,
   "metadata": {},
   "outputs": [
    {
     "data": {
      "text/plain": [
       "[('accord', 0), ('gran', 1), ('compani', 2), ('plan', 3), ('move', 4)]"
      ]
     },
     "execution_count": 6,
     "metadata": {},
     "output_type": "execute_result"
    }
   ],
   "source": [
    "list(word_to_idx.items())[:5]"
   ]
  },
  {
   "cell_type": "code",
   "execution_count": 7,
   "metadata": {},
   "outputs": [],
   "source": [
    "def transform(text, word_to_idx, max_seq_len):\n",
    "    tokens = []\n",
    "    for w in text.split():\n",
    "        try:\n",
    "            tokens.append(word_to_idx[w])\n",
    "        except KeyError:\n",
    "            tokens.append(word_to_idx[\"UNK\"])\n",
    "    \n",
    "    if len(tokens) < max_seq_len:\n",
    "        tokens += [word_to_idx[\"PAD\"]] * (max_seq_len - len(tokens))\n",
    "    elif len(tokens) > max_seq_len:\n",
    "        tokens = tokens[:max_seq_len]\n",
    "    return tokens"
   ]
  },
  {
   "cell_type": "markdown",
   "metadata": {},
   "source": [
    "### Train Val Test Split"
   ]
  },
  {
   "cell_type": "code",
   "execution_count": 8,
   "metadata": {},
   "outputs": [],
   "source": [
    "texts = df[\"content\"].tolist()\n",
    "labels = df[\"sentiment\"].tolist()"
   ]
  },
  {
   "cell_type": "code",
   "execution_count": 9,
   "metadata": {},
   "outputs": [
    {
     "data": {
      "text/plain": [
       "(3876, 970, 3876, 970)"
      ]
     },
     "execution_count": 9,
     "metadata": {},
     "output_type": "execute_result"
    }
   ],
   "source": [
    "X_train, X_val, y_train, y_val = train_test_split(\n",
    "    texts, labels,\n",
    "    test_size=0.2,\n",
    "    random_state=seed,\n",
    "    shuffle=True\n",
    ")\n",
    "\n",
    "len(X_train), len(X_val), len(y_train), len(y_val)"
   ]
  },
  {
   "cell_type": "code",
   "execution_count": 10,
   "metadata": {},
   "outputs": [
    {
     "data": {
      "text/plain": [
       "(3391, 485, 3391, 485)"
      ]
     },
     "execution_count": 10,
     "metadata": {},
     "output_type": "execute_result"
    }
   ],
   "source": [
    "X_train, X_test, y_train, y_test = train_test_split(\n",
    "    X_train, y_train,\n",
    "    test_size=0.125,\n",
    "    random_state=seed,\n",
    "    shuffle=True\n",
    ")\n",
    "\n",
    "len(X_train), len(X_test), len(y_train), len(y_test)"
   ]
  },
  {
   "cell_type": "markdown",
   "metadata": {},
   "source": [
    "### Pytorch Datasets"
   ]
  },
  {
   "cell_type": "code",
   "execution_count": 11,
   "metadata": {},
   "outputs": [],
   "source": [
    "class FinancialNews(Dataset):\n",
    "    def __init__(self, X, y, word_to_idx, max_seq_len, transform=None):\n",
    "        self.texts = X\n",
    "        self.labels = y\n",
    "        self.word_to_idx = word_to_idx\n",
    "        self.max_seq_len = max_seq_len\n",
    "        self.transform = transform\n",
    "    \n",
    "    def __len__(self):\n",
    "        return len(self.texts)\n",
    "    \n",
    "    def __getitem__(self, idx):\n",
    "        text = self.texts[idx]\n",
    "        label = self.labels[idx]\n",
    "        \n",
    "        if self.transform:\n",
    "            text = self.transform(\n",
    "                text,\n",
    "                self.word_to_idx,\n",
    "                self.max_seq_len\n",
    "            )\n",
    "        text = torch.tensor(text)\n",
    "        return text, label"
   ]
  },
  {
   "cell_type": "markdown",
   "metadata": {},
   "source": [
    "### DataLoader"
   ]
  },
  {
   "cell_type": "code",
   "execution_count": 12,
   "metadata": {},
   "outputs": [
    {
     "data": {
      "text/plain": [
       "(3391, 970, 485)"
      ]
     },
     "execution_count": 12,
     "metadata": {},
     "output_type": "execute_result"
    }
   ],
   "source": [
    "train_dataset = FinancialNews(\n",
    "    X_train, y_train,\n",
    "    word_to_idx=word_to_idx,\n",
    "    max_seq_len=32,\n",
    "    transform=transform\n",
    ")\n",
    "val_dataset = FinancialNews(\n",
    "    X_val, y_val,\n",
    "    word_to_idx=word_to_idx,\n",
    "    max_seq_len=32,\n",
    "    transform=transform\n",
    ")\n",
    "test_dataset = FinancialNews(\n",
    "    X_test, y_test,\n",
    "    word_to_idx=word_to_idx,\n",
    "    max_seq_len=32,\n",
    "    transform=transform\n",
    ")\n",
    "\n",
    "len(train_dataset), len(val_dataset), len(test_dataset)"
   ]
  },
  {
   "cell_type": "code",
   "execution_count": 13,
   "metadata": {},
   "outputs": [
    {
     "data": {
      "text/plain": [
       "(27, 122, 61)"
      ]
     },
     "execution_count": 13,
     "metadata": {},
     "output_type": "execute_result"
    }
   ],
   "source": [
    "train_loader = DataLoader(\n",
    "    train_dataset,\n",
    "    batch_size=128,\n",
    "    shuffle=True\n",
    ")\n",
    "val_loader = DataLoader(\n",
    "    val_dataset,\n",
    "    batch_size=8,\n",
    "    shuffle=False\n",
    ")\n",
    "test_loader = DataLoader(\n",
    "    test_dataset,\n",
    "    batch_size=8,\n",
    "    shuffle=False\n",
    ")\n",
    "\n",
    "len(train_loader), len(val_loader), len(test_loader)"
   ]
  },
  {
   "cell_type": "markdown",
   "metadata": {},
   "source": [
    "## RNN"
   ]
  },
  {
   "cell_type": "code",
   "execution_count": 14,
   "metadata": {},
   "outputs": [],
   "source": [
    "class SentimentClassifier(nn.Module):\n",
    "    def __init__(self, vocab_size, embedding_dim, hidden_size, n_layers, n_classes, dropout_prob):\n",
    "        super(SentimentClassifier, self).__init__()\n",
    "        self.embedding = nn.Embedding(vocab_size, embedding_dim)\n",
    "        self.rnn = nn.RNN(embedding_dim, hidden_size, n_layers, batch_first=True)\n",
    "        self.norm = nn.LayerNorm(hidden_size)\n",
    "        self.dropout = nn.Dropout(dropout_prob)\n",
    "        self.fc1 = nn.Linear(hidden_size, 16)\n",
    "        self.relu = nn.ReLU()\n",
    "        self.fc2 = nn.Linear(16, n_classes)\n",
    "    \n",
    "    def forward(self, x):\n",
    "        x = self.embedding(x)\n",
    "        x, hn = self.rnn(x)\n",
    "        x = x[:, -1, :]\n",
    "        x = self.norm(x)\n",
    "        x = self.dropout(x)\n",
    "        x = self.fc1(x)\n",
    "        x = self.relu(x)\n",
    "        x = self.fc2(x)\n",
    "        return x"
   ]
  },
  {
   "cell_type": "code",
   "execution_count": 15,
   "metadata": {},
   "outputs": [],
   "source": [
    "n_classes = len(classes.keys())\n",
    "device = \"cuda\" if torch.cuda.is_available() else \"cpu\"\n",
    "\n",
    "model = SentimentClassifier(\n",
    "    vocab_size=vocab_size,\n",
    "    embedding_dim=64,\n",
    "    hidden_size=64,\n",
    "    n_layers=2,\n",
    "    n_classes=n_classes,\n",
    "    dropout_prob=0.2\n",
    ").to(device)"
   ]
  },
  {
   "cell_type": "code",
   "execution_count": 16,
   "metadata": {},
   "outputs": [],
   "source": [
    "lr = 1e-4\n",
    "epochs = 50\n",
    "\n",
    "criterion = nn.CrossEntropyLoss()\n",
    "optimizer = torch.optim.Adam(model.parameters(), lr=lr)"
   ]
  },
  {
   "cell_type": "code",
   "execution_count": 17,
   "metadata": {},
   "outputs": [],
   "source": [
    "def fit(model, train_loader, val_loader, criterion, optimizer, device, epochs):\n",
    "    train_losses, train_accs = [], []\n",
    "    val_losses, val_accs = [], []\n",
    "    \n",
    "    for epoch in range(epochs):\n",
    "        # Training phase\n",
    "        batch_train_losses = []\n",
    "        correct, total = 0, 0\n",
    "        model.train()\n",
    "        for idx, (inputs, labels) in enumerate(train_loader):\n",
    "            inputs, labels = inputs.to(device), labels.to(device)\n",
    "            \n",
    "            # Forward pass\n",
    "            outputs = model(inputs)\n",
    "            loss = criterion(outputs, labels)\n",
    "            batch_train_losses.append(loss.item())\n",
    "            \n",
    "            # Backward pass and optimize\n",
    "            optimizer.zero_grad()\n",
    "            loss.backward()\n",
    "            optimizer.step()\n",
    "            \n",
    "            # Accuracy\n",
    "            _, predicted = torch.max(outputs, 1)\n",
    "            total += labels.size(0)\n",
    "            correct += (predicted == labels).sum().item()\n",
    "        \n",
    "        train_loss = sum(batch_train_losses) / len(train_loader)\n",
    "        train_acc = 100 * correct / total\n",
    "        train_losses.append(train_loss)\n",
    "        train_accs.append(train_acc)\n",
    "        \n",
    "        # Validation phase\n",
    "        val_loss, val_acc = evaluate(model, val_loader, criterion, device)\n",
    "        val_losses.append(val_loss)\n",
    "        val_accs.append(val_acc)\n",
    "        \n",
    "        print(\n",
    "            f\"Epoch {epoch+1}/{epochs} | Train Loss: {train_loss:.4f}, Train Accuracy: {train_acc:.2f}% | \"\n",
    "            f\"Val Loss: {val_loss:.4f}, Val Accuracy: {val_acc:.2f}%\"\n",
    "        )\n",
    "    return train_losses, train_accs, val_losses, val_accs\n",
    "\n",
    "\n",
    "def evaluate(model, dataloader, criterion, device):\n",
    "    model.eval()\n",
    "    losses = []\n",
    "    correct, total = 0, 0\n",
    "    with torch.no_grad():\n",
    "        for inputs, labels in dataloader:\n",
    "            inputs, labels = inputs.to(device), labels.to(device)\n",
    "            \n",
    "            # Forward pass\n",
    "            outputs = model(inputs)\n",
    "            loss = criterion(outputs, labels)\n",
    "            losses.append(loss.item())\n",
    "            \n",
    "            # Calculate accuracy\n",
    "            _, predicted = torch.max(outputs, 1)\n",
    "            total += labels.size(0)\n",
    "            correct += (predicted == labels).sum().item()\n",
    "    \n",
    "    loss = np.mean(losses) \n",
    "    acc = 100 * correct / total\n",
    "    return loss, acc"
   ]
  },
  {
   "cell_type": "code",
   "execution_count": 18,
   "metadata": {},
   "outputs": [
    {
     "name": "stdout",
     "output_type": "stream",
     "text": [
      "Epoch 1/50 | Train Loss: 1.0059, Train Accuracy: 57.86% | Val Loss: 0.9538, Val Accuracy: 58.76%\n",
      "Epoch 2/50 | Train Loss: 0.9443, Train Accuracy: 59.22% | Val Loss: 0.9328, Val Accuracy: 58.76%\n",
      "Epoch 3/50 | Train Loss: 0.9317, Train Accuracy: 59.22% | Val Loss: 0.9292, Val Accuracy: 58.76%\n",
      "Epoch 4/50 | Train Loss: 0.9334, Train Accuracy: 59.19% | Val Loss: 0.9286, Val Accuracy: 58.76%\n",
      "Epoch 5/50 | Train Loss: 0.9265, Train Accuracy: 59.19% | Val Loss: 0.9285, Val Accuracy: 58.76%\n",
      "Epoch 6/50 | Train Loss: 0.9296, Train Accuracy: 59.22% | Val Loss: 0.9282, Val Accuracy: 58.76%\n",
      "Epoch 7/50 | Train Loss: 0.9313, Train Accuracy: 59.22% | Val Loss: 0.9284, Val Accuracy: 58.76%\n",
      "Epoch 8/50 | Train Loss: 0.9309, Train Accuracy: 59.22% | Val Loss: 0.9282, Val Accuracy: 58.76%\n",
      "Epoch 9/50 | Train Loss: 0.9278, Train Accuracy: 59.22% | Val Loss: 0.9282, Val Accuracy: 58.76%\n",
      "Epoch 10/50 | Train Loss: 0.9295, Train Accuracy: 59.27% | Val Loss: 0.9281, Val Accuracy: 58.76%\n",
      "Epoch 11/50 | Train Loss: 0.9287, Train Accuracy: 59.27% | Val Loss: 0.9281, Val Accuracy: 58.76%\n",
      "Epoch 12/50 | Train Loss: 0.9292, Train Accuracy: 59.30% | Val Loss: 0.9281, Val Accuracy: 58.76%\n",
      "Epoch 13/50 | Train Loss: 0.9284, Train Accuracy: 59.27% | Val Loss: 0.9280, Val Accuracy: 58.76%\n",
      "Epoch 14/50 | Train Loss: 0.9323, Train Accuracy: 59.36% | Val Loss: 0.9278, Val Accuracy: 58.76%\n",
      "Epoch 15/50 | Train Loss: 0.9285, Train Accuracy: 59.25% | Val Loss: 0.9279, Val Accuracy: 58.76%\n",
      "Epoch 16/50 | Train Loss: 0.9255, Train Accuracy: 59.30% | Val Loss: 0.9280, Val Accuracy: 58.76%\n",
      "Epoch 17/50 | Train Loss: 0.9298, Train Accuracy: 59.33% | Val Loss: 0.9279, Val Accuracy: 58.76%\n",
      "Epoch 18/50 | Train Loss: 0.9282, Train Accuracy: 59.25% | Val Loss: 0.9277, Val Accuracy: 58.76%\n",
      "Epoch 19/50 | Train Loss: 0.9283, Train Accuracy: 59.27% | Val Loss: 0.9276, Val Accuracy: 58.76%\n",
      "Epoch 20/50 | Train Loss: 0.9292, Train Accuracy: 59.33% | Val Loss: 0.9276, Val Accuracy: 58.76%\n",
      "Epoch 21/50 | Train Loss: 0.9281, Train Accuracy: 59.30% | Val Loss: 0.9276, Val Accuracy: 58.76%\n",
      "Epoch 22/50 | Train Loss: 0.9258, Train Accuracy: 59.33% | Val Loss: 0.9275, Val Accuracy: 58.76%\n",
      "Epoch 23/50 | Train Loss: 0.9250, Train Accuracy: 59.36% | Val Loss: 0.9275, Val Accuracy: 58.76%\n",
      "Epoch 24/50 | Train Loss: 0.9283, Train Accuracy: 59.33% | Val Loss: 0.9274, Val Accuracy: 58.76%\n",
      "Epoch 25/50 | Train Loss: 0.9284, Train Accuracy: 59.39% | Val Loss: 0.9272, Val Accuracy: 58.76%\n",
      "Epoch 26/50 | Train Loss: 0.9248, Train Accuracy: 59.36% | Val Loss: 0.9271, Val Accuracy: 58.76%\n",
      "Epoch 27/50 | Train Loss: 0.9260, Train Accuracy: 59.39% | Val Loss: 0.9267, Val Accuracy: 58.87%\n",
      "Epoch 28/50 | Train Loss: 0.9249, Train Accuracy: 59.42% | Val Loss: 0.9269, Val Accuracy: 58.87%\n",
      "Epoch 29/50 | Train Loss: 0.9276, Train Accuracy: 59.48% | Val Loss: 0.9269, Val Accuracy: 58.87%\n",
      "Epoch 30/50 | Train Loss: 0.9253, Train Accuracy: 59.45% | Val Loss: 0.9263, Val Accuracy: 58.97%\n",
      "Epoch 31/50 | Train Loss: 0.9266, Train Accuracy: 59.45% | Val Loss: 0.9267, Val Accuracy: 58.97%\n",
      "Epoch 32/50 | Train Loss: 0.9241, Train Accuracy: 59.63% | Val Loss: 0.9258, Val Accuracy: 58.87%\n",
      "Epoch 33/50 | Train Loss: 0.9238, Train Accuracy: 59.75% | Val Loss: 0.9245, Val Accuracy: 59.07%\n",
      "Epoch 34/50 | Train Loss: 0.9215, Train Accuracy: 59.95% | Val Loss: 0.9236, Val Accuracy: 59.38%\n",
      "Epoch 35/50 | Train Loss: 0.9171, Train Accuracy: 60.01% | Val Loss: 0.9217, Val Accuracy: 59.18%\n",
      "Epoch 36/50 | Train Loss: 0.9081, Train Accuracy: 60.10% | Val Loss: 0.9266, Val Accuracy: 59.38%\n",
      "Epoch 37/50 | Train Loss: 0.9244, Train Accuracy: 59.92% | Val Loss: 0.9241, Val Accuracy: 59.18%\n",
      "Epoch 38/50 | Train Loss: 0.9222, Train Accuracy: 59.95% | Val Loss: 0.9233, Val Accuracy: 59.38%\n",
      "Epoch 39/50 | Train Loss: 0.9180, Train Accuracy: 59.95% | Val Loss: 0.9217, Val Accuracy: 59.59%\n",
      "Epoch 40/50 | Train Loss: 0.9127, Train Accuracy: 60.19% | Val Loss: 0.9216, Val Accuracy: 59.90%\n",
      "Epoch 41/50 | Train Loss: 0.9150, Train Accuracy: 60.40% | Val Loss: 0.9223, Val Accuracy: 59.07%\n",
      "Epoch 42/50 | Train Loss: 0.8962, Train Accuracy: 60.93% | Val Loss: 0.9102, Val Accuracy: 59.38%\n",
      "Epoch 43/50 | Train Loss: 0.8992, Train Accuracy: 60.78% | Val Loss: 0.9194, Val Accuracy: 59.59%\n",
      "Epoch 44/50 | Train Loss: 0.9058, Train Accuracy: 60.78% | Val Loss: 0.8980, Val Accuracy: 60.62%\n",
      "Epoch 45/50 | Train Loss: 0.8700, Train Accuracy: 63.11% | Val Loss: 0.9034, Val Accuracy: 60.31%\n",
      "Epoch 46/50 | Train Loss: 0.8543, Train Accuracy: 63.73% | Val Loss: 0.8874, Val Accuracy: 61.34%\n",
      "Epoch 47/50 | Train Loss: 0.8460, Train Accuracy: 64.26% | Val Loss: 0.8888, Val Accuracy: 61.34%\n",
      "Epoch 48/50 | Train Loss: 0.8314, Train Accuracy: 64.94% | Val Loss: 0.9177, Val Accuracy: 59.28%\n",
      "Epoch 49/50 | Train Loss: 0.8278, Train Accuracy: 65.23% | Val Loss: 0.8883, Val Accuracy: 61.96%\n",
      "Epoch 50/50 | Train Loss: 0.8222, Train Accuracy: 65.50% | Val Loss: 0.8708, Val Accuracy: 63.71%\n"
     ]
    }
   ],
   "source": [
    "train_losses, train_accs, val_losses, val_accs = fit(model, train_loader, val_loader, criterion, optimizer, device, epochs)"
   ]
  },
  {
   "cell_type": "code",
   "execution_count": 19,
   "metadata": {},
   "outputs": [
    {
     "data": {
      "image/png": "[encoded data removed]",
      "text/plain": [
       "<Figure size 1500x600 with 2 Axes>"
      ]
     },
     "metadata": {},
     "output_type": "display_data"
    }
   ],
   "source": [
    "fig, axes = plt.subplots(1, 2, figsize=(15, 6))\n",
    "\n",
    "axes[0].plot(train_losses, label='Train Loss')\n",
    "axes[0].plot(val_losses, label='Validation Loss', linestyle='--')\n",
    "axes[0].set_xlabel('Epochs')\n",
    "axes[0].set_ylabel('Loss')\n",
    "axes[0].set_title('Training and Validation Loss')\n",
    "axes[0].legend()\n",
    "\n",
    "axes[1].plot(train_accs, label='Train Accuracy')\n",
    "axes[1].plot(val_accs, label='Validation Accuracy', linestyle='--')\n",
    "axes[1].set_xlabel('Epochs')\n",
    "axes[1].set_ylabel('Accuracy (%)')\n",
    "axes[1].set_title('Training and Validation Accuracy')\n",
    "axes[1].legend()\n",
    "\n",
    "# Show the plots\n",
    "plt.tight_layout()\n",
    "plt.show()"
   ]
  },
  {
   "cell_type": "code",
   "execution_count": 20,
   "metadata": {},
   "outputs": [
    {
     "name": "stdout",
     "output_type": "stream",
     "text": [
      "Evaluation on val/test dataset\n",
      "Val acc:  63.71134020618557\n",
      "Test acc:  64.12371134020619\n"
     ]
    }
   ],
   "source": [
    "_, val_acc = evaluate(model, val_loader, criterion, device)\n",
    "_, test_acc = evaluate(model, test_loader, criterion, device)\n",
    "\n",
    "print(\"Evaluation on val/test dataset\")\n",
    "print(\"Val acc: \", val_acc)\n",
    "print(\"Test acc: \", test_acc)"
   ]
  }
 ],
 "metadata": {
  "kernelspec": {
   "display_name": "py312",
   "language": "python",
   "name": "python3"
  },
  "language_info": {
   "codemirror_mode": {
    "name": "ipython",
    "version": 3
   },
   "file_extension": ".py",
   "mimetype": "text/x-python",
   "name": "python",
   "nbconvert_exporter": "python",
   "pygments_lexer": "ipython3",
   "version": "3.12.7"
  }
 },
 "nbformat": 4,
 "nbformat_minor": 2
}

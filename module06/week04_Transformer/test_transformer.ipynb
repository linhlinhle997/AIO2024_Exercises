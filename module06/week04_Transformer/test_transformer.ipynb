{
 "cells": [
  {
   "cell_type": "code",
   "execution_count": 1,
   "metadata": {},
   "outputs": [],
   "source": [
    "import torch\n",
    "from transformer_model import Transformer"
   ]
  },
  {
   "cell_type": "code",
   "execution_count": 2,
   "metadata": {},
   "outputs": [],
   "source": [
    "batch_size = 128\n",
    "src_vocab_size = 1000\n",
    "tgt_vocab_size = 2000\n",
    "embed_dim = 200\n",
    "max_length = 100\n",
    "num_layers = 2\n",
    "num_heads = 4\n",
    "ff_dim = 256"
   ]
  },
  {
   "cell_type": "code",
   "execution_count": null,
   "metadata": {},
   "outputs": [],
   "source": [
    "model = Transformer(\n",
    "    src_vocab_size, \n",
    "    tgt_vocab_size, \n",
    "    embed_dim,\n",
    "    max_length,\n",
    "    num_layers,\n",
    "    num_heads,\n",
    "    ff_dim\n",
    ")"
   ]
  },
  {
   "cell_type": "code",
   "execution_count": 4,
   "metadata": {},
   "outputs": [
    {
     "data": {
      "text/plain": [
       "torch.Size([128, 100, 2000])"
      ]
     },
     "execution_count": 4,
     "metadata": {},
     "output_type": "execute_result"
    }
   ],
   "source": [
    "src = torch.randint(high=2, size=(batch_size, max_length), dtype=torch.int64)\n",
    "tgt = torch.randint(high=2, size=(batch_size, max_length), dtype=torch.int64)\n",
    "\n",
    "prediction = model(src, tgt)\n",
    "prediction.shape"
   ]
  }
 ],
 "metadata": {
  "kernelspec": {
   "display_name": "py310",
   "language": "python",
   "name": "python3"
  },
  "language_info": {
   "codemirror_mode": {
    "name": "ipython",
    "version": 3
   },
   "file_extension": ".py",
   "mimetype": "text/x-python",
   "name": "python",
   "nbconvert_exporter": "python",
   "pygments_lexer": "ipython3",
   "version": "3.10.15"
  }
 },
 "nbformat": 4,
 "nbformat_minor": 2
}

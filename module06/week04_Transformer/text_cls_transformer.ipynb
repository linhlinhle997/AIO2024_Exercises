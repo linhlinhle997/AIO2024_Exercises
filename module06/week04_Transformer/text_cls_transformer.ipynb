{
  "cells": [
    {
      "cell_type": "code",
      "execution_count": null,
      "metadata": {
        "id": "d9L1B5StRtGd"
      },
      "outputs": [],
      "source": [
        "!pip install datasets\n",
        "!pip install -q torchtext==0.17.2"
      ]
    },
    {
      "cell_type": "code",
      "execution_count": 1,
      "metadata": {
        "id": "8b7-2NSQRbQu"
      },
      "outputs": [],
      "source": [
        "import os\n",
        "import re\n",
        "import string\n",
        "\n",
        "from datasets import load_dataset\n",
        "import numpy as np\n",
        "import matplotlib.pyplot as plt\n",
        "\n",
        "import torch\n",
        "import torch.nn as nn\n",
        "import torch.optim as optim\n",
        "from torch.utils.data import DataLoader\n",
        "from torchtext.data import get_tokenizer\n",
        "from torchtext.vocab import build_vocab_from_iterator\n",
        "from torchtext.data.functional import to_map_style_dataset\n",
        "\n",
        "from transformer_model import TransformerEncoder"
      ]
    },
    {
      "cell_type": "code",
      "execution_count": null,
      "metadata": {
        "id": "qRNr25oSRrt6"
      },
      "outputs": [],
      "source": [
        "ds = load_dataset(\"thainq107/ntc-scv\")"
      ]
    },
    {
      "cell_type": "markdown",
      "metadata": {
        "id": "EsEVQJ6GVvNL"
      },
      "source": [
        "## Preprocessing"
      ]
    },
    {
      "cell_type": "code",
      "execution_count": 3,
      "metadata": {
        "id": "y_iSohpXR-0R"
      },
      "outputs": [],
      "source": [
        "def preprocess_text(text):\n",
        "    # Remove URLs https://www.\n",
        "    url_pattern = re.compile(r\"https?://\\+\\www\\.\\s+\")\n",
        "    text = url_pattern.sub(r\"\", text)\n",
        "\n",
        "    # Remove HTMl tags: <>\n",
        "    html_pattern = re.compile(r\"<[^<>]+>\")\n",
        "    text = html_pattern.sub(\" \", text)\n",
        "\n",
        "    # Remove puncs and digits\n",
        "    replace_chars = list(string.punctuation + string.digits)\n",
        "    for char in replace_chars:\n",
        "        text = text.replace(char, \" \")\n",
        "\n",
        "    # Remove emoji\n",
        "    emoji_pattern = re.compile(\n",
        "        \"[\"\n",
        "        u\"\\U0001F600-\\U0001F64F\"  # Emoticons\n",
        "        u\"\\U0001F300-\\U0001F5FF\"  # Symbols & pictographs\n",
        "        u\"\\U0001F680-\\U0001F6FF\"  # Transport & map symbols\n",
        "        u\"\\U0001F1E0-\\U0001F1FF\"  # Flags\n",
        "        u\"\\U00002702-\\U000027B0\"  # Dingbats\n",
        "        u\"\\U000024C2-\\U0001F251\"  # Enclosed characters\n",
        "        u\"\\U0001F926-\\U0001F937\"  # Additional emoticons\n",
        "        u\"\\U0001F1F2\"  # Macau flag\n",
        "        u\"\\U0001F1F4\"  # Specific flag\n",
        "        u\"\\U0001F620\"  # Angry face\n",
        "        u\"\\u200d\"      # Zero width joiner\n",
        "        u\"\\u2640-\\u2642\"  # Gender symbols\n",
        "        \"]\", flags=re.UNICODE\n",
        "    )\n",
        "    text = emoji_pattern.sub(r\" \", text)\n",
        "\n",
        "    # Normalize whitespace\n",
        "    text = \" \".join(text.split())\n",
        "\n",
        "    # Lowercasting\n",
        "    text = textlower()\n",
        "    return text\n",
        "\n",
        "\n",
        "def yield_tokens(sentences, tokenizer):\n",
        "    for sentence in sentences:\n",
        "        yield tokenizer(sentence)\n",
        "\n",
        "\n",
        "def prepare_dataset(df):\n",
        "    # Create iterator for dataset (sentence, label)\n",
        "    for row in df:\n",
        "        sentence = row[\"preprocessed_sentence\"]\n",
        "        encoded_sentence = vocabulary(tokenizer(sentence))\n",
        "        label = row[\"label\"]\n",
        "        yield encoded_sentence, label\n"
      ]
    },
    {
      "cell_type": "markdown",
      "metadata": {
        "id": "TgjM6-hdV0Xn"
      },
      "source": [
        "### Representation"
      ]
    },
    {
      "cell_type": "code",
      "execution_count": 4,
      "metadata": {
        "id": "sLEiFm1mUgix"
      },
      "outputs": [],
      "source": [
        "tokenizer = get_tokenizer(\"basic_english\")\n",
        "\n",
        "vocab_size = 10000\n",
        "vocabulary = build_vocab_from_iterator(\n",
        "    yield_tokens(ds[\"train\"][\"preprocessed_sentence\"], tokenizer),\n",
        "    max_tokens=vocab_size,\n",
        "    specials=[\"<pad>\", \"<unk>\"]\n",
        ")\n",
        "vocabulary.set_default_index(vocabulary[\"<unk>\"])"
      ]
    },
    {
      "cell_type": "code",
      "execution_count": 5,
      "metadata": {
        "id": "KXxhq54eU4cZ"
      },
      "outputs": [],
      "source": [
        "train_dataset = prepare_dataset(ds[\"train\"])\n",
        "train_dataset = to_map_style_dataset(train_dataset)\n",
        "\n",
        "valid_dataset = prepare_dataset(ds[\"valid\"])\n",
        "valid_dataset = to_map_style_dataset(valid_dataset)\n",
        "\n",
        "test_dataset = prepare_dataset(ds[\"test\"])\n",
        "test_dataset = to_map_style_dataset(test_dataset)"
      ]
    },
    {
      "cell_type": "code",
      "execution_count": 6,
      "metadata": {
        "colab": {
          "base_uri": "https://localhost:8080/"
        },
        "id": "qPFQt2UFW2_o",
        "outputId": "b21f8f93-c225-4609-e40a-f34f1638379e"
      },
      "outputs": [
        {
          "data": {
            "text/plain": [
              "(30000, 10000, 10000)"
            ]
          },
          "execution_count": 6,
          "metadata": {},
          "output_type": "execute_result"
        }
      ],
      "source": [
        "len(train_dataset), len(valid_dataset), len(test_dataset)"
      ]
    },
    {
      "cell_type": "markdown",
      "metadata": {
        "id": "M_1VRwTBV1ez"
      },
      "source": [
        "### DataLoader"
      ]
    },
    {
      "cell_type": "code",
      "execution_count": 7,
      "metadata": {
        "id": "Jknt9IZFVlTq"
      },
      "outputs": [],
      "source": [
        "seq_length = 100\n",
        "\n",
        "def collate_batch(batch):\n",
        "    # Create inputs, offsets, lebels for batch\n",
        "    sentences, labels = list(zip(*batch))\n",
        "    encoded_sentences = [\n",
        "        sentence + ([0] * (seq_length - len(sentence))) if len(sentence) < seq_length else sentence[:seq_length]\n",
        "        for sentence in sentences\n",
        "    ]\n",
        "\n",
        "    encoded_sentences = torch.tensor(encoded_sentences, dtype=torch.int64)\n",
        "    labels = torch.tensor(labels)\n",
        "    return encoded_sentences, labels"
      ]
    },
    {
      "cell_type": "code",
      "execution_count": 8,
      "metadata": {
        "colab": {
          "base_uri": "https://localhost:8080/"
        },
        "id": "3nj2e2ccWlIy",
        "outputId": "34a0f505-b6be-4515-ada1-9b308be2fc8e"
      },
      "outputs": [
        {
          "data": {
            "text/plain": [
              "(235, 79, 79)"
            ]
          },
          "execution_count": 8,
          "metadata": {},
          "output_type": "execute_result"
        }
      ],
      "source": [
        "batch_size = 128\n",
        "\n",
        "train_dataloader = DataLoader(\n",
        "    train_dataset,\n",
        "    batch_size=batch_size,\n",
        "    shuffle=True,\n",
        "    collate_fn=collate_batch\n",
        ")\n",
        "\n",
        "valid_dataloader = DataLoader(\n",
        "    valid_dataset,\n",
        "    batch_size=batch_size,\n",
        "    shuffle=False,\n",
        "    collate_fn=collate_batch\n",
        ")\n",
        "\n",
        "test_dataloader = DataLoader(\n",
        "    test_dataset,\n",
        "    batch_size=batch_size,\n",
        "    shuffle=False,\n",
        "    collate_fn=collate_batch\n",
        ")\n",
        "\n",
        "len(train_dataloader), len(valid_dataloader), len(test_dataloader)"
      ]
    },
    {
      "cell_type": "markdown",
      "metadata": {
        "id": "P3Qsrcr4XFvv"
      },
      "source": [
        "## Model Setup and Workflow"
      ]
    },
    {
      "cell_type": "markdown",
      "metadata": {
        "id": "0mFjga3Mqpe4"
      },
      "source": [
        "### Model Training, Evaluation, and Plotting Functions"
      ]
    },
    {
      "cell_type": "code",
      "execution_count": 9,
      "metadata": {
        "id": "cATtX6agW-TT"
      },
      "outputs": [],
      "source": [
        "def train_epoch(model, optimizer, criterion, dataloader, device, epoch=0, log_interval=50):\n",
        "    model.train()\n",
        "\n",
        "    total_acc, total_count = 0, 0\n",
        "    losses = []\n",
        "    for idx, (inputs, labels) in enumerate(dataloader):\n",
        "        inputs, labels = inputs.to(device), labels.to(device)\n",
        "\n",
        "        # Forward pass\n",
        "        preds = model(inputs)\n",
        "        loss = criterion(preds, labels) # Calculate loss\n",
        "        losses.append(loss.item())\n",
        "\n",
        "        # Backward pass\n",
        "        optimizer.zero_grad()\n",
        "        loss.backward()\n",
        "        optimizer.step()\n",
        "\n",
        "        # Calculate accuracy\n",
        "        total_acc += (preds.argmax(1) == labels).sum().item()\n",
        "        total_count += labels.size(0)\n",
        "\n",
        "        # Log progress\n",
        "        if idx % log_interval == 0 and idx > 0:\n",
        "            print(\n",
        "                \"| epoch {:3d} | {:5d}/{:5d} batches | accuracy {:8.3f}\".format(\n",
        "                    epoch, idx, len(dataloader), total_acc / total_count\n",
        "                )\n",
        "            )\n",
        "            total_acc, total_count = 0, 0\n",
        "\n",
        "    # Calculate epoch metrics\n",
        "    epoch_acc = total_acc / total_count\n",
        "    epoch_loss = np.mean(losses)\n",
        "\n",
        "    return epoch_acc, epoch_loss\n",
        "\n",
        "\n",
        "def evaluate_epoch(model, criterion, dataloader, device):\n",
        "    model.eval()\n",
        "\n",
        "    total_acc, total_count = 0, 0\n",
        "    losses = []\n",
        "\n",
        "    with torch.no_grad():\n",
        "        for idx, (inputs, labels) in enumerate(dataloader):\n",
        "            inputs, labels = inputs.to(device), labels.to(device)\n",
        "\n",
        "            preds = model(inputs)\n",
        "            loss = criterion(preds, labels)\n",
        "            losses.append(loss.item())\n",
        "\n",
        "            total_acc += (preds.argmax(1) == labels).sum().item()\n",
        "            total_count += labels.size(0)\n",
        "\n",
        "    epoch_acc = total_acc / total_count\n",
        "    epoch_loss = np.mean(losses)\n",
        "\n",
        "    return epoch_acc, epoch_loss"
      ]
    },
    {
      "cell_type": "code",
      "execution_count": 10,
      "metadata": {
        "id": "fPlUrBuZZ5J6"
      },
      "outputs": [],
      "source": [
        "def train(model, model_name, save_model, optimizer, criterion, train_dataloader, valid_dataloader, num_epochs, device):\n",
        "    train_accs, train_losses = [], []\n",
        "    eval_accs, eval_losses = [], []\n",
        "\n",
        "    best_lost_eval = 100\n",
        "\n",
        "    for epoch in range(1, num_epochs + 1):\n",
        "\n",
        "        # Training\n",
        "        train_acc, train_loss = train_epoch(model, optimizer, criterion, train_dataloader, device)\n",
        "        train_accs.append(train_acc)\n",
        "        train_losses.append(train_loss)\n",
        "\n",
        "        # Evaluation\n",
        "        eval_acc, eval_loss = evaluate_epoch(model, criterion, valid_dataloader, device)\n",
        "        eval_accs.append(eval_acc)\n",
        "        eval_losses.append(eval_loss)\n",
        "\n",
        "        # Save best model\n",
        "        if eval_loss < best_lost_eval:\n",
        "            best_lost_eval = eval_loss\n",
        "            torch.save(model.state_dict(), save_model + f\"/{model_name}.pt\")\n",
        "\n",
        "        # Log progress\n",
        "        print(\"=\" * 50)\n",
        "        print(\"| End of epoch {:3d} | Train Accuracy {:8.3f} | Train Loss {:8.3f} | Valid Accuracy {:8.3f} | Valid Loss {:8.3f}\".format(epoch, train_acc, train_loss, eval_acc, eval_loss))\n",
        "        print(\"=\" * 50)\n",
        "\n",
        "    # Load best model\n",
        "    model.load_state_dict(torch.load(save_model + f\"/{model_name}.pt\"))\n",
        "    model.eval()\n",
        "    return model, train_accs, train_losses, eval_accs, eval_losses"
      ]
    },
    {
      "cell_type": "code",
      "execution_count": 24,
      "metadata": {
        "id": "7JTp2JKxerjj"
      },
      "outputs": [],
      "source": [
        "def plot_result(num_epochs, train_accs, eval_accs, train_losses, eval_losses):\n",
        "    fig, ax = plt.subplots(1, 2, figsize=(12, 6))\n",
        "\n",
        "    ax[0].plot(num_epochs, train_accs, label=\"Training\")\n",
        "    ax[0].plot(num_epochs, eval_accs, label=\"Evaluation\")\n",
        "    ax[0].set_xlabel(\"Epochs\")\n",
        "    ax[0].set_ylabel(\"Accuracy\")\n",
        "\n",
        "    ax[1].plot(num_epochs, train_losses, label=\"Training\")\n",
        "    ax[1].plot(num_epochs, eval_losses, label=\"Evaluation\")\n",
        "    ax[1].set_xlabel(\"Epochs\")\n",
        "    ax[1].set_ylabel(\"Loss\")\n",
        "\n",
        "    plt.legend()\n",
        "    plt.show()"
      ]
    },
    {
      "cell_type": "markdown",
      "metadata": {
        "id": "naSCriMmqDcI"
      },
      "source": [
        "### Transformer Encoder Classifier"
      ]
    },
    {
      "cell_type": "code",
      "execution_count": 15,
      "metadata": {
        "id": "LAJXbNMKfOhM"
      },
      "outputs": [],
      "source": [
        "class TransformerEncoderCls(nn.Module):\n",
        "    def __init__(self, vocab_size, max_length, num_layers, embed_dim, num_heads, ff_dim, dropout=0.1, device=\"cpu\"):\n",
        "        super().__init__()\n",
        "        self.encoder = TransformerEncoder(vocab_size, embed_dim, max_length, num_layers, num_heads, ff_dim, dropout, device)\n",
        "        self.pooling = nn.AvgPool1d(kernel_size=max_length)\n",
        "        self.fc1 = nn.Linear(in_features=embed_dim, out_features=20)\n",
        "        self.fc2 = nn.Linear(in_features=20, out_features=2)\n",
        "        self.dropout = nn.Dropout(p=dropout)\n",
        "        self.relu = nn.ReLU()\n",
        "\n",
        "    def forward(self, x):\n",
        "        output = self.encoder(x)\n",
        "        output = self.pooling(output.permute(0, 2, 1)).squeeze()\n",
        "        output = self.dropout(output)\n",
        "        output = self.fc1(output)\n",
        "        output = self.dropout(output)\n",
        "        output = self.fc2(output)\n",
        "        return output"
      ]
    },
    {
      "cell_type": "markdown",
      "metadata": {
        "id": "O-7Tj4PYqKwz"
      },
      "source": [
        "## Train"
      ]
    },
    {
      "cell_type": "code",
      "execution_count": 17,
      "metadata": {
        "collapsed": true,
        "id": "HloUiUe_gN0k"
      },
      "outputs": [],
      "source": [
        "vocab_size = 10000\n",
        "max_length = 100\n",
        "embed_dim = 200\n",
        "num_layers = 2\n",
        "num_heads = 4\n",
        "ff_dim = 128\n",
        "dropout = 0.1\n",
        "device = torch.device(\"cuda\" if torch.cuda.is_available else \"cpu\")\n",
        "\n",
        "model = TransformerEncoderCls(vocab_size, max_length, num_layers, embed_dim, num_heads, ff_dim, dropout, device).to(device)\n",
        "\n",
        "criterion = torch.nn.CrossEntropyLoss()\n",
        "optimizer = optim.Adam(model.parameters(), lr=0.00005)"
      ]
    },
    {
      "cell_type": "code",
      "execution_count": 18,
      "metadata": {
        "colab": {
          "base_uri": "https://localhost:8080/"
        },
        "id": "WyLDlr_chHI0",
        "outputId": "a5aaced7-bcf1-4146-b639-aeb6a14e8386"
      },
      "outputs": [
        {
          "name": "stdout",
          "output_type": "stream",
          "text": [
            "| epoch   0 |    50/  235 batches | accuracy    0.549\n",
            "| epoch   0 |   100/  235 batches | accuracy    0.603\n",
            "| epoch   0 |   150/  235 batches | accuracy    0.693\n",
            "| epoch   0 |   200/  235 batches | accuracy    0.740\n",
            "==================================================\n",
            "| End of epoch   1 | Train Accuracy    0.749 | Train Loss    0.626 | Valid Accuracy    0.763 | Valid Loss    0.512\n",
            "==================================================\n",
            "| epoch   0 |    50/  235 batches | accuracy    0.774\n",
            "| epoch   0 |   100/  235 batches | accuracy    0.783\n",
            "| epoch   0 |   150/  235 batches | accuracy    0.794\n",
            "| epoch   0 |   200/  235 batches | accuracy    0.796\n",
            "==================================================\n",
            "| End of epoch   2 | Train Accuracy    0.785 | Train Loss    0.467 | Valid Accuracy    0.796 | Valid Loss    0.450\n",
            "==================================================\n",
            "| epoch   0 |    50/  235 batches | accuracy    0.810\n",
            "| epoch   0 |   100/  235 batches | accuracy    0.807\n",
            "| epoch   0 |   150/  235 batches | accuracy    0.804\n",
            "| epoch   0 |   200/  235 batches | accuracy    0.806\n",
            "==================================================\n",
            "| End of epoch   3 | Train Accuracy    0.814 | Train Loss    0.428 | Valid Accuracy    0.799 | Valid Loss    0.439\n",
            "==================================================\n",
            "| epoch   0 |    50/  235 batches | accuracy    0.820\n",
            "| epoch   0 |   100/  235 batches | accuracy    0.827\n",
            "| epoch   0 |   150/  235 batches | accuracy    0.812\n",
            "| epoch   0 |   200/  235 batches | accuracy    0.824\n",
            "==================================================\n",
            "| End of epoch   4 | Train Accuracy    0.817 | Train Loss    0.406 | Valid Accuracy    0.817 | Valid Loss    0.416\n",
            "==================================================\n",
            "| epoch   0 |    50/  235 batches | accuracy    0.832\n",
            "| epoch   0 |   100/  235 batches | accuracy    0.827\n",
            "| epoch   0 |   150/  235 batches | accuracy    0.829\n",
            "| epoch   0 |   200/  235 batches | accuracy    0.837\n",
            "==================================================\n",
            "| End of epoch   5 | Train Accuracy    0.834 | Train Loss    0.388 | Valid Accuracy    0.817 | Valid Loss    0.412\n",
            "==================================================\n",
            "| epoch   0 |    50/  235 batches | accuracy    0.828\n",
            "| epoch   0 |   100/  235 batches | accuracy    0.836\n",
            "| epoch   0 |   150/  235 batches | accuracy    0.846\n",
            "| epoch   0 |   200/  235 batches | accuracy    0.844\n",
            "==================================================\n",
            "| End of epoch   6 | Train Accuracy    0.831 | Train Loss    0.373 | Valid Accuracy    0.824 | Valid Loss    0.399\n",
            "==================================================\n",
            "| epoch   0 |    50/  235 batches | accuracy    0.842\n",
            "| epoch   0 |   100/  235 batches | accuracy    0.843\n",
            "| epoch   0 |   150/  235 batches | accuracy    0.844\n",
            "| epoch   0 |   200/  235 batches | accuracy    0.843\n",
            "==================================================\n",
            "| End of epoch   7 | Train Accuracy    0.851 | Train Loss    0.361 | Valid Accuracy    0.832 | Valid Loss    0.393\n",
            "==================================================\n",
            "| epoch   0 |    50/  235 batches | accuracy    0.856\n",
            "| epoch   0 |   100/  235 batches | accuracy    0.851\n",
            "| epoch   0 |   150/  235 batches | accuracy    0.851\n",
            "| epoch   0 |   200/  235 batches | accuracy    0.854\n",
            "==================================================\n",
            "| End of epoch   8 | Train Accuracy    0.843 | Train Loss    0.349 | Valid Accuracy    0.833 | Valid Loss    0.387\n",
            "==================================================\n",
            "| epoch   0 |    50/  235 batches | accuracy    0.857\n",
            "| epoch   0 |   100/  235 batches | accuracy    0.858\n",
            "| epoch   0 |   150/  235 batches | accuracy    0.854\n",
            "| epoch   0 |   200/  235 batches | accuracy    0.863\n",
            "==================================================\n",
            "| End of epoch   9 | Train Accuracy    0.849 | Train Loss    0.338 | Valid Accuracy    0.838 | Valid Loss    0.376\n",
            "==================================================\n",
            "| epoch   0 |    50/  235 batches | accuracy    0.868\n",
            "| epoch   0 |   100/  235 batches | accuracy    0.860\n",
            "| epoch   0 |   150/  235 batches | accuracy    0.861\n",
            "| epoch   0 |   200/  235 batches | accuracy    0.859\n",
            "==================================================\n",
            "| End of epoch  10 | Train Accuracy    0.863 | Train Loss    0.329 | Valid Accuracy    0.840 | Valid Loss    0.378\n",
            "==================================================\n",
            "| epoch   0 |    50/  235 batches | accuracy    0.866\n",
            "| epoch   0 |   100/  235 batches | accuracy    0.869\n",
            "| epoch   0 |   150/  235 batches | accuracy    0.870\n",
            "| epoch   0 |   200/  235 batches | accuracy    0.870\n",
            "==================================================\n",
            "| End of epoch  11 | Train Accuracy    0.871 | Train Loss    0.320 | Valid Accuracy    0.841 | Valid Loss    0.375\n",
            "==================================================\n",
            "| epoch   0 |    50/  235 batches | accuracy    0.867\n",
            "| epoch   0 |   100/  235 batches | accuracy    0.875\n",
            "| epoch   0 |   150/  235 batches | accuracy    0.871\n",
            "| epoch   0 |   200/  235 batches | accuracy    0.871\n",
            "==================================================\n",
            "| End of epoch  12 | Train Accuracy    0.872 | Train Loss    0.310 | Valid Accuracy    0.844 | Valid Loss    0.374\n",
            "==================================================\n",
            "| epoch   0 |    50/  235 batches | accuracy    0.873\n",
            "| epoch   0 |   100/  235 batches | accuracy    0.880\n",
            "| epoch   0 |   150/  235 batches | accuracy    0.873\n",
            "| epoch   0 |   200/  235 batches | accuracy    0.869\n",
            "==================================================\n",
            "| End of epoch  13 | Train Accuracy    0.882 | Train Loss    0.302 | Valid Accuracy    0.843 | Valid Loss    0.387\n",
            "==================================================\n",
            "| epoch   0 |    50/  235 batches | accuracy    0.881\n",
            "| epoch   0 |   100/  235 batches | accuracy    0.883\n",
            "| epoch   0 |   150/  235 batches | accuracy    0.880\n",
            "| epoch   0 |   200/  235 batches | accuracy    0.880\n",
            "==================================================\n",
            "| End of epoch  14 | Train Accuracy    0.884 | Train Loss    0.291 | Valid Accuracy    0.844 | Valid Loss    0.375\n",
            "==================================================\n",
            "| epoch   0 |    50/  235 batches | accuracy    0.885\n",
            "| epoch   0 |   100/  235 batches | accuracy    0.884\n",
            "| epoch   0 |   150/  235 batches | accuracy    0.889\n",
            "| epoch   0 |   200/  235 batches | accuracy    0.885\n",
            "==================================================\n",
            "| End of epoch  15 | Train Accuracy    0.887 | Train Loss    0.283 | Valid Accuracy    0.840 | Valid Loss    0.387\n",
            "==================================================\n",
            "| epoch   0 |    50/  235 batches | accuracy    0.890\n",
            "| epoch   0 |   100/  235 batches | accuracy    0.891\n",
            "| epoch   0 |   150/  235 batches | accuracy    0.888\n",
            "| epoch   0 |   200/  235 batches | accuracy    0.885\n",
            "==================================================\n",
            "| End of epoch  16 | Train Accuracy    0.889 | Train Loss    0.276 | Valid Accuracy    0.845 | Valid Loss    0.379\n",
            "==================================================\n",
            "| epoch   0 |    50/  235 batches | accuracy    0.891\n",
            "| epoch   0 |   100/  235 batches | accuracy    0.895\n",
            "| epoch   0 |   150/  235 batches | accuracy    0.894\n",
            "| epoch   0 |   200/  235 batches | accuracy    0.893\n",
            "==================================================\n",
            "| End of epoch  17 | Train Accuracy    0.901 | Train Loss    0.267 | Valid Accuracy    0.843 | Valid Loss    0.394\n",
            "==================================================\n",
            "| epoch   0 |    50/  235 batches | accuracy    0.899\n",
            "| epoch   0 |   100/  235 batches | accuracy    0.901\n",
            "| epoch   0 |   150/  235 batches | accuracy    0.900\n",
            "| epoch   0 |   200/  235 batches | accuracy    0.902\n",
            "==================================================\n",
            "| End of epoch  18 | Train Accuracy    0.893 | Train Loss    0.258 | Valid Accuracy    0.840 | Valid Loss    0.403\n",
            "==================================================\n",
            "| epoch   0 |    50/  235 batches | accuracy    0.912\n",
            "| epoch   0 |   100/  235 batches | accuracy    0.908\n",
            "| epoch   0 |   150/  235 batches | accuracy    0.900\n",
            "| epoch   0 |   200/  235 batches | accuracy    0.901\n",
            "==================================================\n",
            "| End of epoch  19 | Train Accuracy    0.895 | Train Loss    0.246 | Valid Accuracy    0.841 | Valid Loss    0.397\n",
            "==================================================\n",
            "| epoch   0 |    50/  235 batches | accuracy    0.912\n",
            "| epoch   0 |   100/  235 batches | accuracy    0.912\n",
            "| epoch   0 |   150/  235 batches | accuracy    0.905\n",
            "| epoch   0 |   200/  235 batches | accuracy    0.904\n",
            "==================================================\n",
            "| End of epoch  20 | Train Accuracy    0.897 | Train Loss    0.237 | Valid Accuracy    0.840 | Valid Loss    0.412\n",
            "==================================================\n",
            "| epoch   0 |    50/  235 batches | accuracy    0.915\n",
            "| epoch   0 |   100/  235 batches | accuracy    0.916\n",
            "| epoch   0 |   150/  235 batches | accuracy    0.914\n",
            "| epoch   0 |   200/  235 batches | accuracy    0.911\n",
            "==================================================\n",
            "| End of epoch  21 | Train Accuracy    0.911 | Train Loss    0.226 | Valid Accuracy    0.843 | Valid Loss    0.418\n",
            "==================================================\n",
            "| epoch   0 |    50/  235 batches | accuracy    0.919\n",
            "| epoch   0 |   100/  235 batches | accuracy    0.921\n",
            "| epoch   0 |   150/  235 batches | accuracy    0.921\n",
            "| epoch   0 |   200/  235 batches | accuracy    0.920\n",
            "==================================================\n",
            "| End of epoch  22 | Train Accuracy    0.917 | Train Loss    0.215 | Valid Accuracy    0.837 | Valid Loss    0.434\n",
            "==================================================\n",
            "| epoch   0 |    50/  235 batches | accuracy    0.928\n",
            "| epoch   0 |   100/  235 batches | accuracy    0.933\n",
            "| epoch   0 |   150/  235 batches | accuracy    0.926\n",
            "| epoch   0 |   200/  235 batches | accuracy    0.918\n",
            "==================================================\n",
            "| End of epoch  23 | Train Accuracy    0.922 | Train Loss    0.203 | Valid Accuracy    0.838 | Valid Loss    0.450\n",
            "==================================================\n",
            "| epoch   0 |    50/  235 batches | accuracy    0.934\n",
            "| epoch   0 |   100/  235 batches | accuracy    0.934\n",
            "| epoch   0 |   150/  235 batches | accuracy    0.927\n",
            "| epoch   0 |   200/  235 batches | accuracy    0.933\n",
            "==================================================\n",
            "| End of epoch  24 | Train Accuracy    0.919 | Train Loss    0.192 | Valid Accuracy    0.835 | Valid Loss    0.469\n",
            "==================================================\n",
            "| epoch   0 |    50/  235 batches | accuracy    0.937\n",
            "| epoch   0 |   100/  235 batches | accuracy    0.937\n",
            "| epoch   0 |   150/  235 batches | accuracy    0.935\n",
            "| epoch   0 |   200/  235 batches | accuracy    0.939\n",
            "==================================================\n",
            "| End of epoch  25 | Train Accuracy    0.929 | Train Loss    0.181 | Valid Accuracy    0.835 | Valid Loss    0.483\n",
            "==================================================\n",
            "| epoch   0 |    50/  235 batches | accuracy    0.947\n",
            "| epoch   0 |   100/  235 batches | accuracy    0.944\n",
            "| epoch   0 |   150/  235 batches | accuracy    0.943\n",
            "| epoch   0 |   200/  235 batches | accuracy    0.939\n",
            "==================================================\n",
            "| End of epoch  26 | Train Accuracy    0.935 | Train Loss    0.167 | Valid Accuracy    0.833 | Valid Loss    0.508\n",
            "==================================================\n",
            "| epoch   0 |    50/  235 batches | accuracy    0.951\n",
            "| epoch   0 |   100/  235 batches | accuracy    0.943\n",
            "| epoch   0 |   150/  235 batches | accuracy    0.941\n",
            "| epoch   0 |   200/  235 batches | accuracy    0.947\n",
            "==================================================\n",
            "| End of epoch  27 | Train Accuracy    0.949 | Train Loss    0.156 | Valid Accuracy    0.836 | Valid Loss    0.532\n",
            "==================================================\n",
            "| epoch   0 |    50/  235 batches | accuracy    0.955\n",
            "| epoch   0 |   100/  235 batches | accuracy    0.949\n",
            "| epoch   0 |   150/  235 batches | accuracy    0.950\n",
            "| epoch   0 |   200/  235 batches | accuracy    0.945\n",
            "==================================================\n",
            "| End of epoch  28 | Train Accuracy    0.954 | Train Loss    0.147 | Valid Accuracy    0.826 | Valid Loss    0.598\n",
            "==================================================\n",
            "| epoch   0 |    50/  235 batches | accuracy    0.959\n",
            "| epoch   0 |   100/  235 batches | accuracy    0.956\n",
            "| epoch   0 |   150/  235 batches | accuracy    0.958\n",
            "| epoch   0 |   200/  235 batches | accuracy    0.956\n",
            "==================================================\n",
            "| End of epoch  29 | Train Accuracy    0.962 | Train Loss    0.132 | Valid Accuracy    0.827 | Valid Loss    0.636\n",
            "==================================================\n",
            "| epoch   0 |    50/  235 batches | accuracy    0.966\n",
            "| epoch   0 |   100/  235 batches | accuracy    0.960\n",
            "| epoch   0 |   150/  235 batches | accuracy    0.963\n",
            "| epoch   0 |   200/  235 batches | accuracy    0.960\n",
            "==================================================\n",
            "| End of epoch  30 | Train Accuracy    0.960 | Train Loss    0.122 | Valid Accuracy    0.830 | Valid Loss    0.624\n",
            "==================================================\n",
            "| epoch   0 |    50/  235 batches | accuracy    0.972\n",
            "| epoch   0 |   100/  235 batches | accuracy    0.965\n",
            "| epoch   0 |   150/  235 batches | accuracy    0.962\n",
            "| epoch   0 |   200/  235 batches | accuracy    0.963\n",
            "==================================================\n",
            "| End of epoch  31 | Train Accuracy    0.962 | Train Loss    0.112 | Valid Accuracy    0.821 | Valid Loss    0.733\n",
            "==================================================\n",
            "| epoch   0 |    50/  235 batches | accuracy    0.970\n",
            "| epoch   0 |   100/  235 batches | accuracy    0.972\n",
            "| epoch   0 |   150/  235 batches | accuracy    0.968\n",
            "| epoch   0 |   200/  235 batches | accuracy    0.972\n",
            "==================================================\n",
            "| End of epoch  32 | Train Accuracy    0.969 | Train Loss    0.100 | Valid Accuracy    0.826 | Valid Loss    0.730\n",
            "==================================================\n",
            "| epoch   0 |    50/  235 batches | accuracy    0.974\n",
            "| epoch   0 |   100/  235 batches | accuracy    0.978\n",
            "| epoch   0 |   150/  235 batches | accuracy    0.974\n",
            "| epoch   0 |   200/  235 batches | accuracy    0.970\n",
            "==================================================\n",
            "| End of epoch  33 | Train Accuracy    0.973 | Train Loss    0.091 | Valid Accuracy    0.828 | Valid Loss    0.729\n",
            "==================================================\n",
            "| epoch   0 |    50/  235 batches | accuracy    0.982\n",
            "| epoch   0 |   100/  235 batches | accuracy    0.979\n",
            "| epoch   0 |   150/  235 batches | accuracy    0.976\n",
            "| epoch   0 |   200/  235 batches | accuracy    0.975\n",
            "==================================================\n",
            "| End of epoch  34 | Train Accuracy    0.975 | Train Loss    0.082 | Valid Accuracy    0.826 | Valid Loss    0.781\n",
            "==================================================\n",
            "| epoch   0 |    50/  235 batches | accuracy    0.980\n",
            "| epoch   0 |   100/  235 batches | accuracy    0.978\n",
            "| epoch   0 |   150/  235 batches | accuracy    0.976\n",
            "| epoch   0 |   200/  235 batches | accuracy    0.981\n",
            "==================================================\n",
            "| End of epoch  35 | Train Accuracy    0.979 | Train Loss    0.077 | Valid Accuracy    0.821 | Valid Loss    0.855\n",
            "==================================================\n",
            "| epoch   0 |    50/  235 batches | accuracy    0.981\n",
            "| epoch   0 |   100/  235 batches | accuracy    0.983\n",
            "| epoch   0 |   150/  235 batches | accuracy    0.985\n",
            "| epoch   0 |   200/  235 batches | accuracy    0.978\n",
            "==================================================\n",
            "| End of epoch  36 | Train Accuracy    0.981 | Train Loss    0.069 | Valid Accuracy    0.821 | Valid Loss    0.918\n",
            "==================================================\n",
            "| epoch   0 |    50/  235 batches | accuracy    0.984\n",
            "| epoch   0 |   100/  235 batches | accuracy    0.988\n",
            "| epoch   0 |   150/  235 batches | accuracy    0.985\n",
            "| epoch   0 |   200/  235 batches | accuracy    0.982\n",
            "==================================================\n",
            "| End of epoch  37 | Train Accuracy    0.979 | Train Loss    0.062 | Valid Accuracy    0.822 | Valid Loss    0.990\n",
            "==================================================\n",
            "| epoch   0 |    50/  235 batches | accuracy    0.984\n",
            "| epoch   0 |   100/  235 batches | accuracy    0.985\n",
            "| epoch   0 |   150/  235 batches | accuracy    0.989\n",
            "| epoch   0 |   200/  235 batches | accuracy    0.982\n",
            "==================================================\n",
            "| End of epoch  38 | Train Accuracy    0.977 | Train Loss    0.062 | Valid Accuracy    0.825 | Valid Loss    0.939\n",
            "==================================================\n",
            "| epoch   0 |    50/  235 batches | accuracy    0.987\n",
            "| epoch   0 |   100/  235 batches | accuracy    0.986\n",
            "| epoch   0 |   150/  235 batches | accuracy    0.985\n",
            "| epoch   0 |   200/  235 batches | accuracy    0.989\n",
            "==================================================\n",
            "| End of epoch  39 | Train Accuracy    0.988 | Train Loss    0.053 | Valid Accuracy    0.820 | Valid Loss    1.032\n",
            "==================================================\n",
            "| epoch   0 |    50/  235 batches | accuracy    0.993\n",
            "| epoch   0 |   100/  235 batches | accuracy    0.990\n",
            "| epoch   0 |   150/  235 batches | accuracy    0.991\n",
            "| epoch   0 |   200/  235 batches | accuracy    0.986\n",
            "==================================================\n",
            "| End of epoch  40 | Train Accuracy    0.987 | Train Loss    0.046 | Valid Accuracy    0.822 | Valid Loss    1.065\n",
            "==================================================\n",
            "| epoch   0 |    50/  235 batches | accuracy    0.989\n",
            "| epoch   0 |   100/  235 batches | accuracy    0.978\n",
            "| epoch   0 |   150/  235 batches | accuracy    0.990\n",
            "| epoch   0 |   200/  235 batches | accuracy    0.990\n",
            "==================================================\n",
            "| End of epoch  41 | Train Accuracy    0.989 | Train Loss    0.050 | Valid Accuracy    0.824 | Valid Loss    1.085\n",
            "==================================================\n",
            "| epoch   0 |    50/  235 batches | accuracy    0.990\n",
            "| epoch   0 |   100/  235 batches | accuracy    0.993\n",
            "| epoch   0 |   150/  235 batches | accuracy    0.991\n",
            "| epoch   0 |   200/  235 batches | accuracy    0.991\n",
            "==================================================\n",
            "| End of epoch  42 | Train Accuracy    0.989 | Train Loss    0.040 | Valid Accuracy    0.821 | Valid Loss    1.181\n",
            "==================================================\n",
            "| epoch   0 |    50/  235 batches | accuracy    0.994\n",
            "| epoch   0 |   100/  235 batches | accuracy    0.992\n",
            "| epoch   0 |   150/  235 batches | accuracy    0.992\n",
            "| epoch   0 |   200/  235 batches | accuracy    0.992\n",
            "==================================================\n",
            "| End of epoch  43 | Train Accuracy    0.991 | Train Loss    0.037 | Valid Accuracy    0.824 | Valid Loss    1.176\n",
            "==================================================\n",
            "| epoch   0 |    50/  235 batches | accuracy    0.994\n",
            "| epoch   0 |   100/  235 batches | accuracy    0.992\n",
            "| epoch   0 |   150/  235 batches | accuracy    0.985\n",
            "| epoch   0 |   200/  235 batches | accuracy    0.986\n",
            "==================================================\n",
            "| End of epoch  44 | Train Accuracy    0.989 | Train Loss    0.043 | Valid Accuracy    0.823 | Valid Loss    1.132\n",
            "==================================================\n",
            "| epoch   0 |    50/  235 batches | accuracy    0.992\n",
            "| epoch   0 |   100/  235 batches | accuracy    0.991\n",
            "| epoch   0 |   150/  235 batches | accuracy    0.992\n",
            "| epoch   0 |   200/  235 batches | accuracy    0.993\n",
            "==================================================\n",
            "| End of epoch  45 | Train Accuracy    0.995 | Train Loss    0.034 | Valid Accuracy    0.822 | Valid Loss    1.312\n",
            "==================================================\n",
            "| epoch   0 |    50/  235 batches | accuracy    0.994\n",
            "| epoch   0 |   100/  235 batches | accuracy    0.993\n",
            "| epoch   0 |   150/  235 batches | accuracy    0.992\n",
            "| epoch   0 |   200/  235 batches | accuracy    0.993\n",
            "==================================================\n",
            "| End of epoch  46 | Train Accuracy    0.993 | Train Loss    0.031 | Valid Accuracy    0.819 | Valid Loss    1.383\n",
            "==================================================\n",
            "| epoch   0 |    50/  235 batches | accuracy    0.995\n",
            "| epoch   0 |   100/  235 batches | accuracy    0.993\n",
            "| epoch   0 |   150/  235 batches | accuracy    0.993\n",
            "| epoch   0 |   200/  235 batches | accuracy    0.994\n",
            "==================================================\n",
            "| End of epoch  47 | Train Accuracy    0.994 | Train Loss    0.029 | Valid Accuracy    0.822 | Valid Loss    1.366\n",
            "==================================================\n",
            "| epoch   0 |    50/  235 batches | accuracy    0.995\n",
            "| epoch   0 |   100/  235 batches | accuracy    0.994\n",
            "| epoch   0 |   150/  235 batches | accuracy    0.992\n",
            "| epoch   0 |   200/  235 batches | accuracy    0.991\n",
            "==================================================\n",
            "| End of epoch  48 | Train Accuracy    0.993 | Train Loss    0.031 | Valid Accuracy    0.820 | Valid Loss    1.399\n",
            "==================================================\n",
            "| epoch   0 |    50/  235 batches | accuracy    0.993\n",
            "| epoch   0 |   100/  235 batches | accuracy    0.996\n",
            "| epoch   0 |   150/  235 batches | accuracy    0.994\n",
            "| epoch   0 |   200/  235 batches | accuracy    0.993\n",
            "==================================================\n",
            "| End of epoch  49 | Train Accuracy    0.996 | Train Loss    0.027 | Valid Accuracy    0.820 | Valid Loss    1.484\n",
            "==================================================\n",
            "| epoch   0 |    50/  235 batches | accuracy    0.995\n",
            "| epoch   0 |   100/  235 batches | accuracy    0.995\n",
            "| epoch   0 |   150/  235 batches | accuracy    0.995\n",
            "| epoch   0 |   200/  235 batches | accuracy    0.995\n",
            "==================================================\n",
            "| End of epoch  50 | Train Accuracy    0.993 | Train Loss    0.025 | Valid Accuracy    0.818 | Valid Loss    1.550\n",
            "==================================================\n"
          ]
        }
      ],
      "source": [
        "num_epochs = 50\n",
        "model_name = \"transformer\"\n",
        "save_model = \"./model\"\n",
        "os.makedirs(save_model, exist_ok=True)\n",
        "\n",
        "model, train_accs, train_losses, eval_accs, eval_losses = train(model, model_name, save_model, optimizer, criterion, train_dataloader, valid_dataloader, num_epochs, device)"
      ]
    },
    {
      "cell_type": "code",
      "execution_count": 30,
      "metadata": {
        "colab": {
          "base_uri": "https://localhost:8080/",
          "height": 542
        },
        "id": "t5F8kx1bjehs",
        "outputId": "54012dad-5433-496d-ae94-a530d60dec61"
      },
      "outputs": [
        {
          "data": {
            "image/png": "[encoded data removed]",
            "text/plain": [
              "<Figure size 1200x600 with 2 Axes>"
            ]
          },
          "metadata": {},
          "output_type": "display_data"
        }
      ],
      "source": [
        "num_epochs = np.arange(1, 51)\n",
        "\n",
        "plot_result(num_epochs, train_accs, eval_accs, train_losses, eval_losses)"
      ]
    },
    {
      "cell_type": "markdown",
      "metadata": {
        "id": "xy_99Iimo_tg"
      },
      "source": [
        "## Evaluation"
      ]
    },
    {
      "cell_type": "code",
      "execution_count": 34,
      "metadata": {
        "colab": {
          "base_uri": "https://localhost:8080/"
        },
        "id": "uiyvAIAln6Ge",
        "outputId": "ba5e8d84-82e5-4d28-a535-e45654dafa09"
      },
      "outputs": [
        {
          "name": "stdout",
          "output_type": "stream",
          "text": [
            "Evaluation on val/test dataset\n",
            "Val acc:  0.8441\n",
            "Test acc:  0.8455\n"
          ]
        }
      ],
      "source": [
        "val_acc, eval_loss = evaluate_epoch(model, criterion, valid_dataloader, device)\n",
        "test_acc, test_loss = evaluate_epoch(model, criterion, test_dataloader, device)\n",
        "\n",
        "print(\"Evaluation on val/test dataset\")\n",
        "print(\"Val acc: \", val_acc)\n",
        "print(\"Test acc: \", test_acc)"
      ]
    }
  ],
  "metadata": {
    "accelerator": "GPU",
    "colab": {
      "gpuType": "T4",
      "provenance": []
    },
    "kernelspec": {
      "display_name": "py311",
      "language": "python",
      "name": "python3"
    },
    "language_info": {
      "name": "python",
      "version": "3.12.2"
    }
  },
  "nbformat": 4,
  "nbformat_minor": 0
}

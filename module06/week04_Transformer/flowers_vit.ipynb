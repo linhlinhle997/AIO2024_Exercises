{
  "metadata": {
    "kernelspec": {
      "name": "python3",
      "display_name": "Python 3",
      "language": "python"
    },
    "language_info": {
      "name": "python",
      "version": "3.10.12",
      "mimetype": "text/x-python",
      "codemirror_mode": {
        "name": "ipython",
        "version": 3
      },
      "pygments_lexer": "ipython3",
      "nbconvert_exporter": "python",
      "file_extension": ".py"
    },
    "accelerator": "TPU",
    "colab": {
      "gpuType": "V28",
      "provenance": [],
      "name": "flowers_vit",
      "include_colab_link": true
    },
    "widgets": {
      "application/vnd.jupyter.widget-state+json": {}
    },
    "kaggle": {
      "accelerator": "gpu",
      "dataSources": [],
      "dockerImageVersionId": 30823,
      "isInternetEnabled": true,
      "language": "python",
      "sourceType": "notebook",
      "isGpuEnabled": true
    }
  },
  "nbformat_minor": 0,
  "nbformat": 4,
  "cells": [
    {
      "cell_type": "markdown",
      "metadata": {
        "id": "view-in-github",
        "colab_type": "text"
      },
      "source": [
        "<a href=\"https://colab.research.google.com/github/linhlinhle997/AIO2024_Exercises/blob/feature%2Fexercices-module06/module06/week04_Transformer/flowers_vit.ipynb\" target=\"_parent\"><img src=\"https://colab.research.google.com/assets/colab-badge.svg\" alt=\"Open In Colab\"/></a>"
      ]
    },
    {
      "cell_type": "code",
      "source": [
        "!pip install evaluate\n",
        "!pip install torchtext"
      ],
      "metadata": {
        "id": "WWqhMjn2jFPX",
        "trusted": true,
        "execution": {
          "iopub.status.busy": "2024-12-30T14:04:26.064053Z",
          "iopub.execute_input": "2024-12-30T14:04:26.064459Z",
          "iopub.status.idle": "2024-12-30T14:04:32.44295Z",
          "shell.execute_reply.started": "2024-12-30T14:04:26.064427Z",
          "shell.execute_reply": "2024-12-30T14:04:32.44183Z"
        },
        "collapsed": true,
        "jupyter": {
          "outputs_hidden": true
        }
      },
      "outputs": [],
      "execution_count": null
    },
    {
      "cell_type": "code",
      "source": [
        "import math\n",
        "import os\n",
        "import matplotlib.pyplot as plt\n",
        "import numpy as np\n",
        "\n",
        "import torch\n",
        "from torch import nn\n",
        "import torch.optim as optim\n",
        "from torch.utils.data import DataLoader, random_split\n",
        "\n",
        "import torchvision.transforms as transforms\n",
        "from torchvision.datasets import ImageFolder\n",
        "\n",
        "from transformers import ViTForImageClassification, ViTImageProcessor, TrainingArguments, Trainer\n",
        "\n",
        "import evaluate"
      ],
      "metadata": {
        "id": "kZetHgD6X3nh",
        "trusted": true,
        "execution": {
          "iopub.status.busy": "2024-12-30T14:04:32.444496Z",
          "iopub.execute_input": "2024-12-30T14:04:32.444763Z",
          "iopub.status.idle": "2024-12-30T14:04:32.449724Z",
          "shell.execute_reply.started": "2024-12-30T14:04:32.44474Z",
          "shell.execute_reply": "2024-12-30T14:04:32.448823Z"
        }
      },
      "outputs": [],
      "execution_count": null
    },
    {
      "cell_type": "markdown",
      "source": [
        "## Load Dataset"
      ],
      "metadata": {
        "id": "a5fa4tpaZqSr"
      }
    },
    {
      "cell_type": "code",
      "source": [
        "!gdown 1vSevps_hV5zhVf6aWuN8X7dd-qSAIgcc\n",
        "!unzip ./flower_photos.zip"
      ],
      "metadata": {
        "id": "BUjIsoOvYO79",
        "trusted": true,
        "execution": {
          "iopub.status.busy": "2024-12-30T14:06:49.752204Z",
          "iopub.execute_input": "2024-12-30T14:06:49.752534Z",
          "iopub.status.idle": "2024-12-30T14:06:57.645409Z",
          "shell.execute_reply.started": "2024-12-30T14:06:49.752502Z",
          "shell.execute_reply": "2024-12-30T14:06:57.644421Z"
        },
        "collapsed": true,
        "jupyter": {
          "outputs_hidden": true
        }
      },
      "outputs": [],
      "execution_count": null
    },
    {
      "cell_type": "code",
      "source": [
        "dataset = ImageFolder(root=\"/kaggle/working/flower_photos\")\n",
        "\n",
        "classes = dataset.classes\n",
        "num_samples = len(dataset)\n",
        "num_classes = len(dataset.classes)\n",
        "\n",
        "print(\"Classes: \", classes)\n",
        "num_samples, num_classes"
      ],
      "metadata": {
        "id": "bnGHD041YcIb",
        "trusted": true,
        "execution": {
          "iopub.status.busy": "2024-12-30T14:06:57.646911Z",
          "iopub.execute_input": "2024-12-30T14:06:57.647201Z",
          "iopub.status.idle": "2024-12-30T14:06:57.665635Z",
          "shell.execute_reply.started": "2024-12-30T14:06:57.647178Z",
          "shell.execute_reply": "2024-12-30T14:06:57.665042Z"
        },
        "outputId": "bebd1161-7da5-4f3d-9a6d-0b20bc21281a"
      },
      "outputs": [
        {
          "name": "stdout",
          "text": "Classes:  ['daisy', 'dandelion', 'roses', 'sunflowers', 'tulips']\n",
          "output_type": "stream"
        },
        {
          "execution_count": 27,
          "output_type": "execute_result",
          "data": {
            "text/plain": "(3670, 5)"
          },
          "metadata": {}
        }
      ],
      "execution_count": null
    },
    {
      "cell_type": "code",
      "source": [
        "TRAIN_RATIO, VALID_RATIO = 0.8, 0.1\n",
        "\n",
        "n_train_examples = int(num_samples * TRAIN_RATIO)\n",
        "n_valid_examples = int(num_samples * VALID_RATIO)\n",
        "n_test_examples = num_samples - n_train_examples - n_valid_examples\n",
        "\n",
        "train_dataset, valid_dataset, test_dataset = random_split(\n",
        "    dataset,\n",
        "    [n_train_examples, n_valid_examples, n_test_examples]\n",
        ")\n",
        "\n",
        "len(train_dataset), len(valid_dataset), len(test_dataset)"
      ],
      "metadata": {
        "id": "fRPy7tC3Y5VU",
        "trusted": true,
        "execution": {
          "iopub.status.busy": "2024-12-30T14:06:57.666935Z",
          "iopub.execute_input": "2024-12-30T14:06:57.667201Z",
          "iopub.status.idle": "2024-12-30T14:06:57.673176Z",
          "shell.execute_reply.started": "2024-12-30T14:06:57.66718Z",
          "shell.execute_reply": "2024-12-30T14:06:57.672319Z"
        },
        "outputId": "e62c9eb1-e821-4847-8ba5-5cba44f4c644"
      },
      "outputs": [
        {
          "execution_count": 28,
          "output_type": "execute_result",
          "data": {
            "text/plain": "(2936, 367, 367)"
          },
          "metadata": {}
        }
      ],
      "execution_count": null
    },
    {
      "cell_type": "markdown",
      "source": [
        "## Preprocessing"
      ],
      "metadata": {
        "id": "cQWN9RktZr5l"
      }
    },
    {
      "cell_type": "code",
      "source": [
        "IMG_SIZE = 224\n",
        "\n",
        "# Resize and convert to tensor\n",
        "train_transforms = transforms.Compose([\n",
        "    transforms.Resize((IMG_SIZE, IMG_SIZE)),\n",
        "    transforms.RandomHorizontalFlip(p=0.5),\n",
        "    transforms.RandomRotation(0.2),\n",
        "    transforms.ToTensor(),\n",
        "    transforms.Normalize([0.5, 0.5, 0.5], [0.5, 0.5, 0.5])\n",
        "])\n",
        "\n",
        "test_transforms = transforms.Compose([\n",
        "    transforms.Resize((IMG_SIZE, IMG_SIZE)),\n",
        "    transforms.ToTensor(),\n",
        "    transforms.Normalize([0.5, 0.5, 0.5], [0.5, 0.5, 0.5])\n",
        "])\n",
        "\n",
        "# Apply\n",
        "train_dataset.dataset.transform = train_transforms\n",
        "valid_dataset.dataset.transform = test_transforms\n",
        "test_dataset.dataset.transform = test_transforms"
      ],
      "metadata": {
        "id": "xbEVeyFCZjk7",
        "trusted": true,
        "execution": {
          "iopub.status.busy": "2024-12-30T14:06:57.674209Z",
          "iopub.execute_input": "2024-12-30T14:06:57.674442Z",
          "iopub.status.idle": "2024-12-30T14:06:57.688729Z",
          "shell.execute_reply.started": "2024-12-30T14:06:57.674423Z",
          "shell.execute_reply": "2024-12-30T14:06:57.688022Z"
        }
      },
      "outputs": [],
      "execution_count": null
    },
    {
      "cell_type": "markdown",
      "source": [
        "## DataLoader"
      ],
      "metadata": {
        "id": "2Br0m8DYaf0T"
      }
    },
    {
      "cell_type": "code",
      "source": [
        "BATCH_SIZE = 512\n",
        "\n",
        "train_loader = DataLoader(train_dataset, batch_size=BATCH_SIZE, shuffle=True)\n",
        "valid_loader = DataLoader(valid_dataset, batch_size=BATCH_SIZE)\n",
        "test_loader = DataLoader(test_dataset, batch_size=BATCH_SIZE)\n",
        "\n",
        "len(train_loader), len(valid_loader), len(test_loader)"
      ],
      "metadata": {
        "id": "HmXyME4baYPk",
        "trusted": true,
        "execution": {
          "iopub.status.busy": "2024-12-30T14:06:57.689485Z",
          "iopub.execute_input": "2024-12-30T14:06:57.689714Z",
          "iopub.status.idle": "2024-12-30T14:06:57.70774Z",
          "shell.execute_reply.started": "2024-12-30T14:06:57.689696Z",
          "shell.execute_reply": "2024-12-30T14:06:57.707052Z"
        },
        "outputId": "3ca9511d-eb8e-43bc-b207-1cef6592463e"
      },
      "outputs": [
        {
          "execution_count": 30,
          "output_type": "execute_result",
          "data": {
            "text/plain": "(6, 1, 1)"
          },
          "metadata": {}
        }
      ],
      "execution_count": null
    },
    {
      "cell_type": "markdown",
      "source": [
        "## Model Training, Evaluation, and Plotting Functions"
      ],
      "metadata": {
        "id": "O5XSP3M6fdzM"
      }
    },
    {
      "cell_type": "code",
      "source": [
        "def train_epoch(model, optimizer, criterion, dataloader, device, epoch=0, log_interval=50):\n",
        "    model.train()\n",
        "\n",
        "    total_acc, total_count = 0, 0\n",
        "    losses = []\n",
        "    for idx, (inputs, labels) in enumerate(dataloader):\n",
        "        inputs, labels = inputs.to(device), labels.to(device)\n",
        "\n",
        "        # Forward pass\n",
        "        preds = model(inputs)\n",
        "        loss = criterion(preds, labels) # Calculate loss\n",
        "        losses.append(loss.item())\n",
        "\n",
        "        # Backward pass\n",
        "        optimizer.zero_grad()\n",
        "        loss.backward()\n",
        "        optimizer.step()\n",
        "\n",
        "        # Calculate accuracy\n",
        "        total_acc += (preds.argmax(1) == labels).sum().item()\n",
        "        total_count += labels.size(0)\n",
        "\n",
        "        # Log progress\n",
        "        if idx % log_interval == 0 and idx > 0:\n",
        "            print(\n",
        "                \"| epoch {:3d} | {:5d}/{:5d} batches | accuracy {:8.3f}\".format(\n",
        "                    epoch, idx, len(dataloader), total_acc / total_count\n",
        "                )\n",
        "            )\n",
        "            total_acc, total_count = 0, 0\n",
        "\n",
        "    # Calculate epoch metrics\n",
        "    epoch_acc = total_acc / total_count\n",
        "    epoch_loss = np.mean(losses)\n",
        "\n",
        "    return epoch_acc, epoch_loss\n",
        "\n",
        "\n",
        "def evaluate_epoch(model, criterion, dataloader, device):\n",
        "    model.eval()\n",
        "\n",
        "    total_acc, total_count = 0, 0\n",
        "    losses = []\n",
        "\n",
        "    with torch.no_grad():\n",
        "        for idx, (inputs, labels) in enumerate(dataloader):\n",
        "            inputs, labels = inputs.to(device), labels.to(device)\n",
        "\n",
        "            preds = model(inputs)\n",
        "            loss = criterion(preds, labels)\n",
        "            losses.append(loss.item())\n",
        "\n",
        "            total_acc += (preds.argmax(1) == labels).sum().item()\n",
        "            total_count += labels.size(0)\n",
        "\n",
        "    epoch_acc = total_acc / total_count\n",
        "    epoch_loss = np.mean(losses)\n",
        "\n",
        "    return epoch_acc, epoch_loss"
      ],
      "metadata": {
        "id": "KSAboOWGfeDY"
      },
      "outputs": [],
      "execution_count": null
    },
    {
      "cell_type": "code",
      "source": [
        "def train(model, model_name, save_model, optimizer, criterion, train_dataloader, valid_dataloader, num_epochs, device):\n",
        "    train_accs, train_losses = [], []\n",
        "    eval_accs, eval_losses = [], []\n",
        "\n",
        "    best_lost_eval = 100\n",
        "\n",
        "    for epoch in range(1, num_epochs + 1):\n",
        "\n",
        "        # Training\n",
        "        train_acc, train_loss = train_epoch(model, optimizer, criterion, train_dataloader, device)\n",
        "        train_accs.append(train_acc)\n",
        "        train_losses.append(train_loss)\n",
        "\n",
        "        # Evaluation\n",
        "        eval_acc, eval_loss = evaluate_epoch(model, criterion, valid_dataloader, device)\n",
        "        eval_accs.append(eval_acc)\n",
        "        eval_losses.append(eval_loss)\n",
        "\n",
        "        # Save best model\n",
        "        if eval_loss < best_lost_eval:\n",
        "            best_lost_eval = eval_loss\n",
        "            torch.save(model.state_dict(), save_model + f\"/{model_name}.pt\")\n",
        "\n",
        "        # Log progress\n",
        "        print(\"=\" * 50)\n",
        "        print(\"| End of epoch {:3d} | Train Accuracy {:8.3f} | Train Loss {:8.3f} | Valid Accuracy {:8.3f} | Valid Loss {:8.3f}\".format(epoch, train_acc, train_loss, eval_acc, eval_loss))\n",
        "        print(\"=\" * 50)\n",
        "\n",
        "    # Load best model\n",
        "    model.load_state_dict(torch.load(save_model + f\"/{model_name}.pt\"))\n",
        "    model.eval()\n",
        "    return model, train_accs, train_losses, eval_accs, eval_losses"
      ],
      "metadata": {
        "id": "4_knH5Wafhhw"
      },
      "outputs": [],
      "execution_count": null
    },
    {
      "cell_type": "code",
      "source": [
        "def plot_result(num_epochs, train_accs, eval_accs, train_losses, eval_losses):\n",
        "    fig, ax = plt.subplots(1, 2, figsize=(12, 6))\n",
        "\n",
        "    ax[0].plot(num_epochs, train_accs, label=\"Training\")\n",
        "    ax[0].plot(num_epochs, eval_accs, label=\"Evaluation\")\n",
        "    ax[0].set_xlabel(\"Epochs\")\n",
        "    ax[0].set_ylabel(\"Accuracy\")\n",
        "\n",
        "    ax[1].plot(num_epochs, train_losses, label=\"Training\")\n",
        "    ax[1].plot(num_epochs, eval_losses, label=\"Evaluation\")\n",
        "    ax[1].set_xlabel(\"Epochs\")\n",
        "    ax[1].set_ylabel(\"Loss\")\n",
        "\n",
        "    plt.legend()\n",
        "    plt.show()"
      ],
      "metadata": {
        "id": "BP98WxGAfkVS"
      },
      "outputs": [],
      "execution_count": null
    },
    {
      "cell_type": "markdown",
      "source": [
        "## Training from Scratch"
      ],
      "metadata": {
        "id": "jGhFXmZwoSz6"
      }
    },
    {
      "cell_type": "markdown",
      "source": [
        "### Modeling"
      ],
      "metadata": {
        "id": "9QIYQvVLasIf"
      }
    },
    {
      "cell_type": "code",
      "source": [
        "class TransformerEncoder(nn.Module):\n",
        "    def __init__(self, embed_dim, num_heads, ff_dim, dropout=0.1):\n",
        "        super().__init__()\n",
        "        self.attn = nn.MultiheadAttention(embed_dim, num_heads, batch_first=True)\n",
        "        self.ffn = nn.Sequential(\n",
        "            nn.Linear(in_features=embed_dim, out_features=ff_dim, bias=True),\n",
        "            nn.ReLU(),\n",
        "            nn.Linear(in_features=ff_dim, out_features=embed_dim, bias=True)\n",
        "        )\n",
        "        self.layernorm_1 = nn.LayerNorm(normalized_shape=embed_dim, eps=1e-6)\n",
        "        self.layernorm_2 = nn.LayerNorm(normalized_shape=embed_dim, eps=1e-6)\n",
        "        self.dropout_1 = nn.Dropout(p=dropout)\n",
        "        self.dropout_2 = nn.Dropout(p=dropout)\n",
        "\n",
        "    def forward(self, query, key, value):\n",
        "        attn_output, _ = self.attn(query, key, value)\n",
        "        attn_output = self.dropout_1(attn_output)\n",
        "        out_1 = self.layernorm_1(query + attn_output)\n",
        "        ffn_output = self.ffn(out_1)\n",
        "        ffn_ouput = self.dropout_2(ffn_output)\n",
        "        out_2 = self.layernorm_2(out_1 + ffn_output)\n",
        "        return out_2"
      ],
      "metadata": {
        "id": "cEVYVjzOaq2F"
      },
      "outputs": [],
      "execution_count": null
    },
    {
      "cell_type": "code",
      "source": [
        "class PatchPositionEmbedding(nn.Module):\n",
        "    def __init__(self, image_size=224, embed_dim=512, patch_size=16, device=\"cpu\"):\n",
        "        super().__init__()\n",
        "        self.conv1 = nn.Conv2d(in_channels=3, out_channels=embed_dim, kernel_size=patch_size, stride=patch_size, bias=False)\n",
        "        scale = embed_dim ** -0.5\n",
        "        self.positional_embedding = nn.Parameter(scale * torch.randn((image_size // patch_size) ** 2, embed_dim))\n",
        "        self.device = device\n",
        "\n",
        "    def forward(self, x):\n",
        "        x = self.conv1(x) # shape [*, width, grid, grid]\n",
        "        x = x.reshape(x.shape[0], x.shape[1], -1) # shape [*, width, grid ** 2]\n",
        "        x = x.permute(0, 2, 1) # shape [*, grid **2, width]\n",
        "        x = x + self.positional_embedding.to(self.device)\n",
        "        return x"
      ],
      "metadata": {
        "id": "CLEkBZ2tbwEc"
      },
      "outputs": [],
      "execution_count": null
    },
    {
      "cell_type": "code",
      "source": [
        "class VisionTransformerCls(nn.Module):\n",
        "    def __init__(self, image_size, embed_dim, num_heads, ff_dim, dropout=0.1, num_classes=10, patch_size=16, device=\"cpu\"):\n",
        "        super().__init__()\n",
        "        self.embed_layer = PatchPositionEmbedding(image_size=image_size, embed_dim=embed_dim, patch_size=patch_size, device=device)\n",
        "        self.transformer_layer = TransformerEncoder(embed_dim=embed_dim, num_heads=num_heads, ff_dim=ff_dim, dropout=dropout)\n",
        "        self.fc1 = nn.Linear(in_features=embed_dim, out_features=20)\n",
        "        self.fc2 = nn.Linear(in_features=20, out_features=num_classes)\n",
        "        self.dropout = nn.Dropout(p=dropout)\n",
        "        self.relu = nn.ReLU()\n",
        "\n",
        "    def forward(self, x):\n",
        "        output = self.embed_layer(x)\n",
        "        output = self.transformer_layer(output, output, output)\n",
        "        output = output[:, 0, :]\n",
        "        output = self.dropout(output)\n",
        "        output = self.fc1(output)\n",
        "        output = self.dropout(output)\n",
        "        output = self.fc2(output)\n",
        "        return output"
      ],
      "metadata": {
        "id": "XrZ-e4sFcols"
      },
      "outputs": [],
      "execution_count": null
    },
    {
      "cell_type": "markdown",
      "source": [
        "### Training"
      ],
      "metadata": {
        "id": "h0ak0UTJd8KO"
      }
    },
    {
      "cell_type": "code",
      "source": [
        "image_size = 224\n",
        "embed_dim = 512\n",
        "num_heads = 4\n",
        "ff_dim = 128\n",
        "dropout = 0.1\n",
        "device = torch.device(\"cuda\" if torch.cuda.is_available() else \"cpu\")\n",
        "\n",
        "model = VisionTransformerCls(\n",
        "    image_size=image_size,\n",
        "    embed_dim=embed_dim,\n",
        "    num_heads=num_heads,\n",
        "    ff_dim=ff_dim,\n",
        "    dropout=dropout,\n",
        "    num_classes=num_classes,\n",
        "    device=device\n",
        ").to(device)\n",
        "\n",
        "criterion = torch.nn.CrossEntropyLoss()\n",
        "optimizer = optim.Adam(model.parameters(), lr=0.0005)"
      ],
      "metadata": {
        "id": "PVWKzwh_d6qN"
      },
      "outputs": [],
      "execution_count": null
    },
    {
      "cell_type": "code",
      "source": [
        "num_epochs = 100\n",
        "model_name = \"vit_flowers\"\n",
        "save_model = \"./vit_flowers\"\n",
        "os.makedirs(save_model, exist_ok=True)\n",
        "\n",
        "model, train_accs, train_losses, eval_accs, eval_losses = train(model, model_name, save_model, optimizer, criterion, train_loader, valid_loader, num_epochs, device)"
      ],
      "metadata": {
        "colab": {
          "base_uri": "https://localhost:8080/"
        },
        "id": "QAWbKM0YeXDU",
        "outputId": "1da9e373-61cf-4001-8b78-ba815912d6c5"
      },
      "outputs": [
        {
          "output_type": "stream",
          "name": "stdout",
          "text": [
            "==================================================\n",
            "| End of epoch   1 | Train Accuracy    0.294 | Train Loss    1.674 | Valid Accuracy    0.373 | Valid Loss    1.425\n",
            "==================================================\n",
            "==================================================\n",
            "| End of epoch   2 | Train Accuracy    0.369 | Train Loss    1.424 | Valid Accuracy    0.398 | Valid Loss    1.341\n",
            "==================================================\n",
            "==================================================\n",
            "| End of epoch   3 | Train Accuracy    0.410 | Train Loss    1.315 | Valid Accuracy    0.401 | Valid Loss    1.288\n",
            "==================================================\n",
            "==================================================\n",
            "| End of epoch   4 | Train Accuracy    0.439 | Train Loss    1.283 | Valid Accuracy    0.420 | Valid Loss    1.257\n",
            "==================================================\n",
            "==================================================\n",
            "| End of epoch   5 | Train Accuracy    0.468 | Train Loss    1.242 | Valid Accuracy    0.441 | Valid Loss    1.247\n",
            "==================================================\n",
            "==================================================\n",
            "| End of epoch   6 | Train Accuracy    0.472 | Train Loss    1.221 | Valid Accuracy    0.447 | Valid Loss    1.195\n",
            "==================================================\n",
            "==================================================\n",
            "| End of epoch   7 | Train Accuracy    0.491 | Train Loss    1.187 | Valid Accuracy    0.474 | Valid Loss    1.191\n",
            "==================================================\n",
            "==================================================\n",
            "| End of epoch   8 | Train Accuracy    0.503 | Train Loss    1.153 | Valid Accuracy    0.504 | Valid Loss    1.152\n",
            "==================================================\n",
            "==================================================\n",
            "| End of epoch   9 | Train Accuracy    0.517 | Train Loss    1.129 | Valid Accuracy    0.469 | Valid Loss    1.158\n",
            "==================================================\n",
            "==================================================\n",
            "| End of epoch  10 | Train Accuracy    0.518 | Train Loss    1.116 | Valid Accuracy    0.474 | Valid Loss    1.168\n",
            "==================================================\n",
            "==================================================\n",
            "| End of epoch  11 | Train Accuracy    0.546 | Train Loss    1.102 | Valid Accuracy    0.518 | Valid Loss    1.113\n",
            "==================================================\n",
            "==================================================\n",
            "| End of epoch  12 | Train Accuracy    0.560 | Train Loss    1.063 | Valid Accuracy    0.529 | Valid Loss    1.117\n",
            "==================================================\n",
            "==================================================\n",
            "| End of epoch  13 | Train Accuracy    0.577 | Train Loss    1.040 | Valid Accuracy    0.559 | Valid Loss    1.060\n",
            "==================================================\n",
            "==================================================\n",
            "| End of epoch  14 | Train Accuracy    0.602 | Train Loss    0.993 | Valid Accuracy    0.572 | Valid Loss    1.070\n",
            "==================================================\n",
            "==================================================\n",
            "| End of epoch  15 | Train Accuracy    0.596 | Train Loss    0.979 | Valid Accuracy    0.564 | Valid Loss    1.082\n",
            "==================================================\n",
            "==================================================\n",
            "| End of epoch  16 | Train Accuracy    0.614 | Train Loss    0.954 | Valid Accuracy    0.572 | Valid Loss    1.032\n",
            "==================================================\n",
            "==================================================\n",
            "| End of epoch  17 | Train Accuracy    0.629 | Train Loss    0.923 | Valid Accuracy    0.599 | Valid Loss    1.008\n",
            "==================================================\n",
            "==================================================\n",
            "| End of epoch  18 | Train Accuracy    0.650 | Train Loss    0.897 | Valid Accuracy    0.599 | Valid Loss    1.030\n",
            "==================================================\n",
            "==================================================\n",
            "| End of epoch  19 | Train Accuracy    0.653 | Train Loss    0.877 | Valid Accuracy    0.599 | Valid Loss    1.053\n",
            "==================================================\n",
            "==================================================\n",
            "| End of epoch  20 | Train Accuracy    0.669 | Train Loss    0.851 | Valid Accuracy    0.613 | Valid Loss    1.013\n",
            "==================================================\n",
            "==================================================\n",
            "| End of epoch  21 | Train Accuracy    0.684 | Train Loss    0.829 | Valid Accuracy    0.619 | Valid Loss    0.982\n",
            "==================================================\n",
            "==================================================\n",
            "| End of epoch  22 | Train Accuracy    0.684 | Train Loss    0.809 | Valid Accuracy    0.589 | Valid Loss    1.029\n",
            "==================================================\n",
            "==================================================\n",
            "| End of epoch  23 | Train Accuracy    0.702 | Train Loss    0.800 | Valid Accuracy    0.649 | Valid Loss    0.958\n",
            "==================================================\n",
            "==================================================\n",
            "| End of epoch  24 | Train Accuracy    0.701 | Train Loss    0.788 | Valid Accuracy    0.619 | Valid Loss    0.974\n",
            "==================================================\n",
            "==================================================\n",
            "| End of epoch  25 | Train Accuracy    0.706 | Train Loss    0.773 | Valid Accuracy    0.627 | Valid Loss    0.982\n",
            "==================================================\n",
            "==================================================\n",
            "| End of epoch  26 | Train Accuracy    0.721 | Train Loss    0.724 | Valid Accuracy    0.613 | Valid Loss    0.972\n",
            "==================================================\n",
            "==================================================\n",
            "| End of epoch  27 | Train Accuracy    0.739 | Train Loss    0.699 | Valid Accuracy    0.643 | Valid Loss    0.970\n",
            "==================================================\n",
            "==================================================\n",
            "| End of epoch  28 | Train Accuracy    0.744 | Train Loss    0.680 | Valid Accuracy    0.662 | Valid Loss    0.932\n",
            "==================================================\n",
            "==================================================\n",
            "| End of epoch  29 | Train Accuracy    0.739 | Train Loss    0.672 | Valid Accuracy    0.638 | Valid Loss    0.964\n",
            "==================================================\n",
            "==================================================\n",
            "| End of epoch  30 | Train Accuracy    0.747 | Train Loss    0.663 | Valid Accuracy    0.638 | Valid Loss    1.018\n",
            "==================================================\n",
            "==================================================\n",
            "| End of epoch  31 | Train Accuracy    0.755 | Train Loss    0.648 | Valid Accuracy    0.635 | Valid Loss    1.015\n",
            "==================================================\n",
            "==================================================\n",
            "| End of epoch  32 | Train Accuracy    0.762 | Train Loss    0.620 | Valid Accuracy    0.662 | Valid Loss    0.982\n",
            "==================================================\n",
            "==================================================\n",
            "| End of epoch  33 | Train Accuracy    0.780 | Train Loss    0.577 | Valid Accuracy    0.638 | Valid Loss    0.990\n",
            "==================================================\n",
            "==================================================\n",
            "| End of epoch  34 | Train Accuracy    0.784 | Train Loss    0.570 | Valid Accuracy    0.659 | Valid Loss    1.007\n",
            "==================================================\n",
            "==================================================\n",
            "| End of epoch  35 | Train Accuracy    0.796 | Train Loss    0.565 | Valid Accuracy    0.665 | Valid Loss    1.059\n",
            "==================================================\n",
            "==================================================\n",
            "| End of epoch  36 | Train Accuracy    0.802 | Train Loss    0.533 | Valid Accuracy    0.657 | Valid Loss    1.037\n",
            "==================================================\n",
            "==================================================\n",
            "| End of epoch  37 | Train Accuracy    0.815 | Train Loss    0.502 | Valid Accuracy    0.684 | Valid Loss    1.019\n",
            "==================================================\n",
            "==================================================\n",
            "| End of epoch  38 | Train Accuracy    0.814 | Train Loss    0.493 | Valid Accuracy    0.657 | Valid Loss    1.153\n",
            "==================================================\n",
            "==================================================\n",
            "| End of epoch  39 | Train Accuracy    0.832 | Train Loss    0.473 | Valid Accuracy    0.640 | Valid Loss    1.104\n",
            "==================================================\n",
            "==================================================\n",
            "| End of epoch  40 | Train Accuracy    0.831 | Train Loss    0.467 | Valid Accuracy    0.665 | Valid Loss    1.102\n",
            "==================================================\n",
            "==================================================\n",
            "| End of epoch  41 | Train Accuracy    0.842 | Train Loss    0.440 | Valid Accuracy    0.616 | Valid Loss    1.221\n",
            "==================================================\n",
            "==================================================\n",
            "| End of epoch  42 | Train Accuracy    0.825 | Train Loss    0.457 | Valid Accuracy    0.662 | Valid Loss    1.124\n",
            "==================================================\n",
            "==================================================\n",
            "| End of epoch  43 | Train Accuracy    0.847 | Train Loss    0.418 | Valid Accuracy    0.638 | Valid Loss    1.156\n",
            "==================================================\n",
            "==================================================\n",
            "| End of epoch  44 | Train Accuracy    0.848 | Train Loss    0.417 | Valid Accuracy    0.632 | Valid Loss    1.216\n",
            "==================================================\n",
            "==================================================\n",
            "| End of epoch  45 | Train Accuracy    0.857 | Train Loss    0.396 | Valid Accuracy    0.662 | Valid Loss    1.124\n",
            "==================================================\n",
            "==================================================\n",
            "| End of epoch  46 | Train Accuracy    0.868 | Train Loss    0.378 | Valid Accuracy    0.673 | Valid Loss    1.160\n",
            "==================================================\n",
            "==================================================\n",
            "| End of epoch  47 | Train Accuracy    0.861 | Train Loss    0.391 | Valid Accuracy    0.635 | Valid Loss    1.211\n",
            "==================================================\n",
            "==================================================\n",
            "| End of epoch  48 | Train Accuracy    0.854 | Train Loss    0.405 | Valid Accuracy    0.621 | Valid Loss    1.389\n",
            "==================================================\n",
            "==================================================\n",
            "| End of epoch  49 | Train Accuracy    0.863 | Train Loss    0.382 | Valid Accuracy    0.646 | Valid Loss    1.313\n",
            "==================================================\n",
            "==================================================\n",
            "| End of epoch  50 | Train Accuracy    0.874 | Train Loss    0.344 | Valid Accuracy    0.616 | Valid Loss    1.285\n",
            "==================================================\n",
            "==================================================\n",
            "| End of epoch  51 | Train Accuracy    0.891 | Train Loss    0.310 | Valid Accuracy    0.665 | Valid Loss    1.324\n",
            "==================================================\n",
            "==================================================\n",
            "| End of epoch  52 | Train Accuracy    0.908 | Train Loss    0.279 | Valid Accuracy    0.621 | Valid Loss    1.343\n",
            "==================================================\n",
            "==================================================\n",
            "| End of epoch  53 | Train Accuracy    0.911 | Train Loss    0.256 | Valid Accuracy    0.629 | Valid Loss    1.422\n",
            "==================================================\n",
            "==================================================\n",
            "| End of epoch  54 | Train Accuracy    0.924 | Train Loss    0.237 | Valid Accuracy    0.659 | Valid Loss    1.395\n",
            "==================================================\n",
            "==================================================\n",
            "| End of epoch  55 | Train Accuracy    0.930 | Train Loss    0.223 | Valid Accuracy    0.640 | Valid Loss    1.491\n",
            "==================================================\n",
            "==================================================\n",
            "| End of epoch  56 | Train Accuracy    0.923 | Train Loss    0.225 | Valid Accuracy    0.638 | Valid Loss    1.532\n",
            "==================================================\n",
            "==================================================\n",
            "| End of epoch  57 | Train Accuracy    0.920 | Train Loss    0.233 | Valid Accuracy    0.640 | Valid Loss    1.632\n",
            "==================================================\n",
            "==================================================\n",
            "| End of epoch  58 | Train Accuracy    0.924 | Train Loss    0.227 | Valid Accuracy    0.624 | Valid Loss    1.535\n",
            "==================================================\n",
            "==================================================\n",
            "| End of epoch  59 | Train Accuracy    0.928 | Train Loss    0.214 | Valid Accuracy    0.635 | Valid Loss    1.657\n",
            "==================================================\n",
            "==================================================\n",
            "| End of epoch  60 | Train Accuracy    0.922 | Train Loss    0.226 | Valid Accuracy    0.635 | Valid Loss    1.725\n",
            "==================================================\n",
            "==================================================\n",
            "| End of epoch  61 | Train Accuracy    0.912 | Train Loss    0.238 | Valid Accuracy    0.619 | Valid Loss    1.671\n",
            "==================================================\n",
            "==================================================\n",
            "| End of epoch  62 | Train Accuracy    0.922 | Train Loss    0.229 | Valid Accuracy    0.643 | Valid Loss    1.640\n",
            "==================================================\n",
            "==================================================\n",
            "| End of epoch  63 | Train Accuracy    0.932 | Train Loss    0.194 | Valid Accuracy    0.616 | Valid Loss    1.712\n",
            "==================================================\n",
            "==================================================\n",
            "| End of epoch  64 | Train Accuracy    0.928 | Train Loss    0.208 | Valid Accuracy    0.610 | Valid Loss    1.895\n",
            "==================================================\n",
            "==================================================\n",
            "| End of epoch  65 | Train Accuracy    0.932 | Train Loss    0.178 | Valid Accuracy    0.638 | Valid Loss    1.659\n",
            "==================================================\n",
            "==================================================\n",
            "| End of epoch  66 | Train Accuracy    0.952 | Train Loss    0.154 | Valid Accuracy    0.654 | Valid Loss    1.701\n",
            "==================================================\n",
            "==================================================\n",
            "| End of epoch  67 | Train Accuracy    0.952 | Train Loss    0.149 | Valid Accuracy    0.627 | Valid Loss    1.716\n",
            "==================================================\n",
            "==================================================\n",
            "| End of epoch  68 | Train Accuracy    0.961 | Train Loss    0.131 | Valid Accuracy    0.632 | Valid Loss    1.759\n",
            "==================================================\n",
            "==================================================\n",
            "| End of epoch  69 | Train Accuracy    0.971 | Train Loss    0.107 | Valid Accuracy    0.632 | Valid Loss    1.887\n",
            "==================================================\n",
            "==================================================\n",
            "| End of epoch  70 | Train Accuracy    0.968 | Train Loss    0.105 | Valid Accuracy    0.646 | Valid Loss    1.901\n",
            "==================================================\n",
            "==================================================\n",
            "| End of epoch  71 | Train Accuracy    0.972 | Train Loss    0.090 | Valid Accuracy    0.627 | Valid Loss    1.892\n",
            "==================================================\n",
            "==================================================\n",
            "| End of epoch  72 | Train Accuracy    0.976 | Train Loss    0.078 | Valid Accuracy    0.616 | Valid Loss    1.973\n",
            "==================================================\n",
            "==================================================\n",
            "| End of epoch  73 | Train Accuracy    0.979 | Train Loss    0.075 | Valid Accuracy    0.629 | Valid Loss    2.008\n",
            "==================================================\n",
            "==================================================\n",
            "| End of epoch  74 | Train Accuracy    0.978 | Train Loss    0.078 | Valid Accuracy    0.635 | Valid Loss    2.095\n",
            "==================================================\n",
            "==================================================\n",
            "| End of epoch  75 | Train Accuracy    0.971 | Train Loss    0.095 | Valid Accuracy    0.586 | Valid Loss    2.198\n",
            "==================================================\n",
            "==================================================\n",
            "| End of epoch  76 | Train Accuracy    0.970 | Train Loss    0.104 | Valid Accuracy    0.613 | Valid Loss    2.179\n",
            "==================================================\n",
            "==================================================\n",
            "| End of epoch  77 | Train Accuracy    0.970 | Train Loss    0.100 | Valid Accuracy    0.629 | Valid Loss    2.183\n",
            "==================================================\n",
            "==================================================\n",
            "| End of epoch  78 | Train Accuracy    0.948 | Train Loss    0.158 | Valid Accuracy    0.613 | Valid Loss    2.330\n",
            "==================================================\n",
            "==================================================\n",
            "| End of epoch  79 | Train Accuracy    0.939 | Train Loss    0.169 | Valid Accuracy    0.597 | Valid Loss    2.285\n",
            "==================================================\n",
            "==================================================\n",
            "| End of epoch  80 | Train Accuracy    0.958 | Train Loss    0.135 | Valid Accuracy    0.627 | Valid Loss    2.068\n",
            "==================================================\n",
            "==================================================\n",
            "| End of epoch  81 | Train Accuracy    0.965 | Train Loss    0.113 | Valid Accuracy    0.627 | Valid Loss    2.114\n",
            "==================================================\n",
            "==================================================\n",
            "| End of epoch  82 | Train Accuracy    0.968 | Train Loss    0.099 | Valid Accuracy    0.635 | Valid Loss    2.084\n",
            "==================================================\n",
            "==================================================\n",
            "| End of epoch  83 | Train Accuracy    0.976 | Train Loss    0.079 | Valid Accuracy    0.619 | Valid Loss    2.167\n",
            "==================================================\n",
            "==================================================\n",
            "| End of epoch  84 | Train Accuracy    0.980 | Train Loss    0.069 | Valid Accuracy    0.629 | Valid Loss    2.117\n",
            "==================================================\n",
            "==================================================\n",
            "| End of epoch  85 | Train Accuracy    0.978 | Train Loss    0.066 | Valid Accuracy    0.635 | Valid Loss    2.185\n",
            "==================================================\n",
            "==================================================\n",
            "| End of epoch  86 | Train Accuracy    0.982 | Train Loss    0.060 | Valid Accuracy    0.610 | Valid Loss    2.265\n",
            "==================================================\n",
            "==================================================\n",
            "| End of epoch  87 | Train Accuracy    0.984 | Train Loss    0.059 | Valid Accuracy    0.605 | Valid Loss    2.321\n",
            "==================================================\n",
            "==================================================\n",
            "| End of epoch  88 | Train Accuracy    0.985 | Train Loss    0.054 | Valid Accuracy    0.619 | Valid Loss    2.339\n",
            "==================================================\n",
            "==================================================\n",
            "| End of epoch  89 | Train Accuracy    0.979 | Train Loss    0.067 | Valid Accuracy    0.640 | Valid Loss    2.352\n",
            "==================================================\n",
            "==================================================\n",
            "| End of epoch  90 | Train Accuracy    0.982 | Train Loss    0.060 | Valid Accuracy    0.635 | Valid Loss    2.341\n",
            "==================================================\n",
            "==================================================\n",
            "| End of epoch  91 | Train Accuracy    0.984 | Train Loss    0.051 | Valid Accuracy    0.594 | Valid Loss    2.569\n",
            "==================================================\n",
            "==================================================\n",
            "| End of epoch  92 | Train Accuracy    0.987 | Train Loss    0.046 | Valid Accuracy    0.608 | Valid Loss    2.439\n",
            "==================================================\n",
            "==================================================\n",
            "| End of epoch  93 | Train Accuracy    0.988 | Train Loss    0.039 | Valid Accuracy    0.632 | Valid Loss    2.431\n",
            "==================================================\n",
            "==================================================\n",
            "| End of epoch  94 | Train Accuracy    0.989 | Train Loss    0.040 | Valid Accuracy    0.605 | Valid Loss    2.486\n",
            "==================================================\n",
            "==================================================\n",
            "| End of epoch  95 | Train Accuracy    0.993 | Train Loss    0.029 | Valid Accuracy    0.610 | Valid Loss    2.524\n",
            "==================================================\n",
            "==================================================\n",
            "| End of epoch  96 | Train Accuracy    0.994 | Train Loss    0.025 | Valid Accuracy    0.624 | Valid Loss    2.516\n",
            "==================================================\n",
            "==================================================\n",
            "| End of epoch  97 | Train Accuracy    0.995 | Train Loss    0.022 | Valid Accuracy    0.635 | Valid Loss    2.598\n",
            "==================================================\n",
            "==================================================\n",
            "| End of epoch  98 | Train Accuracy    0.996 | Train Loss    0.019 | Valid Accuracy    0.619 | Valid Loss    2.583\n",
            "==================================================\n",
            "==================================================\n",
            "| End of epoch  99 | Train Accuracy    0.998 | Train Loss    0.015 | Valid Accuracy    0.629 | Valid Loss    2.652\n",
            "==================================================\n",
            "==================================================\n",
            "| End of epoch 100 | Train Accuracy    0.998 | Train Loss    0.013 | Valid Accuracy    0.640 | Valid Loss    2.612\n",
            "==================================================\n"
          ]
        },
        {
          "output_type": "stream",
          "name": "stderr",
          "text": [
            "<ipython-input-10-372163ec503b>:30: FutureWarning: You are using `torch.load` with `weights_only=False` (the current default value), which uses the default pickle module implicitly. It is possible to construct malicious pickle data which will execute arbitrary code during unpickling (See https://github.com/pytorch/pytorch/blob/main/SECURITY.md#untrusted-models for more details). In a future release, the default value for `weights_only` will be flipped to `True`. This limits the functions that could be executed during unpickling. Arbitrary objects will no longer be allowed to be loaded via this mode unless they are explicitly allowlisted by the user via `torch.serialization.add_safe_globals`. We recommend you start setting `weights_only=True` for any use case where you don't have full control of the loaded file. Please open an issue on GitHub for any issues related to this experimental feature.\n",
            "  model.load_state_dict(torch.load(save_model + f\"/{model_name}.pt\"))\n"
          ]
        }
      ],
      "execution_count": null
    },
    {
      "cell_type": "code",
      "source": [
        "num_epochs = np.arange(1, 101)\n",
        "\n",
        "plot_result(num_epochs, train_accs, eval_accs, train_losses, eval_losses)"
      ],
      "metadata": {
        "id": "sdv2FhnEfwnV",
        "colab": {
          "base_uri": "https://localhost:8080/",
          "height": 542
        },
        "outputId": "c9b47daa-259b-4ffb-914e-9808aa2b7a02"
      },
      "outputs": [
        {
          "output_type": "display_data",
          "data": {
            "text/plain": [
              "<Figure size 1200x600 with 2 Axes>"
            ],
            "image/png": "[encoded data removed]"
          },
          "metadata": {}
        }
      ],
      "execution_count": null
    },
    {
      "cell_type": "markdown",
      "source": [
        "## Fine Tuning"
      ],
      "metadata": {
        "id": "mEcy8hi3iTxX"
      }
    },
    {
      "cell_type": "markdown",
      "source": [
        "### Model"
      ],
      "metadata": {
        "id": "yxqFLMHsiXmc"
      }
    },
    {
      "cell_type": "code",
      "source": [
        "id2label = {id:label for id, label in enumerate(classes)}\n",
        "label2id = {label:id for id, label in id2label.items()}\n",
        "\n",
        "id2label, label2id"
      ],
      "metadata": {
        "id": "VHkUOeSzgBP7",
        "colab": {
          "base_uri": "https://localhost:8080/",
          "height": 203
        },
        "outputId": "5aa1af7b-73ac-4062-ec51-82de5e4a5c35",
        "trusted": true,
        "execution": {
          "iopub.status.busy": "2024-12-30T14:09:26.261635Z",
          "iopub.execute_input": "2024-12-30T14:09:26.262012Z",
          "iopub.status.idle": "2024-12-30T14:09:26.267945Z",
          "shell.execute_reply.started": "2024-12-30T14:09:26.261945Z",
          "shell.execute_reply": "2024-12-30T14:09:26.26705Z"
        }
      },
      "outputs": [
        {
          "execution_count": 31,
          "output_type": "execute_result",
          "data": {
            "text/plain": "({0: 'daisy', 1: 'dandelion', 2: 'roses', 3: 'sunflowers', 4: 'tulips'},\n {'daisy': 0, 'dandelion': 1, 'roses': 2, 'sunflowers': 3, 'tulips': 4})"
          },
          "metadata": {}
        }
      ],
      "execution_count": null
    },
    {
      "cell_type": "code",
      "source": [
        "device = torch.device(\"cuda\" if torch.cuda.is_available() else \"cpu\")\n",
        "\n",
        "model = ViTForImageClassification.from_pretrained(\n",
        "    \"google/vit-base-patch16-224-in21k\",\n",
        "    num_labels=num_classes,\n",
        "    id2label=id2label,\n",
        "    label2id=label2id\n",
        ").to(device)"
      ],
      "metadata": {
        "id": "xt5ZlleDiqV-",
        "colab": {
          "base_uri": "https://localhost:8080/",
          "height": 222
        },
        "outputId": "40623adb-11ef-4853-ffea-b57597f63495",
        "trusted": true,
        "execution": {
          "iopub.status.busy": "2024-12-30T14:09:26.99499Z",
          "iopub.execute_input": "2024-12-30T14:09:26.995398Z",
          "iopub.status.idle": "2024-12-30T14:09:27.345919Z",
          "shell.execute_reply.started": "2024-12-30T14:09:26.995366Z",
          "shell.execute_reply": "2024-12-30T14:09:27.34522Z"
        }
      },
      "outputs": [
        {
          "name": "stderr",
          "text": "Some weights of ViTForImageClassification were not initialized from the model checkpoint at google/vit-base-patch16-224-in21k and are newly initialized: ['classifier.bias', 'classifier.weight']\nYou should probably TRAIN this model on a down-stream task to be able to use it for predictions and inference.\n",
          "output_type": "stream"
        }
      ],
      "execution_count": null
    },
    {
      "cell_type": "markdown",
      "source": [
        "### Metric"
      ],
      "metadata": {
        "id": "Qa9Xu0a0jbLk"
      }
    },
    {
      "cell_type": "code",
      "source": [
        "metric = evaluate.load(\"accuracy\")\n",
        "\n",
        "# Metric computation\n",
        "def compute_metrics(eval_pred):\n",
        "    predictions, labels = eval_pred\n",
        "    predictions = np.argmax(predictions, axis=1)\n",
        "    result = metric.compute(predictions=predictions, references=labels)\n",
        "    return result"
      ],
      "metadata": {
        "id": "KDn5eKFijBiu",
        "trusted": true,
        "execution": {
          "iopub.status.busy": "2024-12-30T14:09:34.406151Z",
          "iopub.execute_input": "2024-12-30T14:09:34.406451Z",
          "iopub.status.idle": "2024-12-30T14:09:34.665265Z",
          "shell.execute_reply.started": "2024-12-30T14:09:34.406427Z",
          "shell.execute_reply": "2024-12-30T14:09:34.664548Z"
        }
      },
      "outputs": [],
      "execution_count": null
    },
    {
      "cell_type": "markdown",
      "source": [
        "### Trainer"
      ],
      "metadata": {
        "id": "kJb5kxpXjcPs"
      }
    },
    {
      "cell_type": "code",
      "source": [
        "feature_extractor = ViTImageProcessor.from_pretrained(\"google/vit-base-patch16-224-in21k\")\n",
        "\n",
        "metric_name = \"accuracy\"\n",
        "\n",
        "args = TrainingArguments(\n",
        "    f\"vit_flowers\",\n",
        "    save_strategy=\"epoch\",\n",
        "    evaluation_strategy=\"epoch\",\n",
        "    learning_rate=2e-5,\n",
        "    per_device_train_batch_size=32,\n",
        "    per_device_eval_batch_size=32,\n",
        "    num_train_epochs=10,\n",
        "    weight_decay=0.01,\n",
        "    load_best_model_at_end=True,\n",
        "    metric_for_best_model=metric_name,\n",
        "    logging_dir=\"logs\",\n",
        "    remove_unused_columns=False\n",
        ")"
      ],
      "metadata": {
        "id": "K0vPfeVVjRi0",
        "trusted": true,
        "execution": {
          "iopub.status.busy": "2024-12-30T13:43:04.298408Z",
          "iopub.execute_input": "2024-12-30T13:43:04.298721Z",
          "iopub.status.idle": "2024-12-30T13:43:04.464909Z",
          "shell.execute_reply.started": "2024-12-30T13:43:04.298694Z",
          "shell.execute_reply": "2024-12-30T13:43:04.464127Z"
        },
        "outputId": "36e35b55-2506-467a-ad59-01ed098f2262",
        "colab": {
          "referenced_widgets": [
            "b58032678d2a4662a42ca9bbc7cbaafb"
          ]
        }
      },
      "outputs": [
        {
          "output_type": "display_data",
          "data": {
            "text/plain": "preprocessor_config.json:   0%|          | 0.00/160 [00:00<?, ?B/s]",
            "application/vnd.jupyter.widget-view+json": {
              "version_major": 2,
              "version_minor": 0,
              "model_id": "b58032678d2a4662a42ca9bbc7cbaafb"
            }
          },
          "metadata": {}
        }
      ],
      "execution_count": null
    },
    {
      "cell_type": "code",
      "source": [
        "# Data collator function\n",
        "def collate_fn(examples):\n",
        "    pixel_values = torch.stack([example[0] for example in examples])\n",
        "    labels = torch.tensor([example[1] for example in examples])\n",
        "    return {\"pixel_values\": pixel_values, \"labels\": labels}"
      ],
      "metadata": {
        "id": "8Uk2Utwnr6IM",
        "trusted": true,
        "execution": {
          "iopub.status.busy": "2024-12-30T14:12:26.040206Z",
          "iopub.execute_input": "2024-12-30T14:12:26.040543Z",
          "iopub.status.idle": "2024-12-30T14:12:26.044973Z",
          "shell.execute_reply.started": "2024-12-30T14:12:26.040519Z",
          "shell.execute_reply": "2024-12-30T14:12:26.044062Z"
        }
      },
      "outputs": [],
      "execution_count": null
    },
    {
      "cell_type": "code",
      "source": [
        "trainer = Trainer(\n",
        "    model,\n",
        "    args,\n",
        "    train_dataset=train_dataset,\n",
        "    eval_dataset=valid_dataset,\n",
        "    data_collator=collate_fn,\n",
        "    compute_metrics=compute_metrics,\n",
        "    tokenizer=feature_extractor\n",
        ")\n",
        "\n",
        "trainer.train()\n",
        "outputs = trainer.predict(test_dataset)\n",
        "outputs.metrics"
      ],
      "metadata": {
        "id": "Xt5oO1PvkUOd",
        "colab": {
          "base_uri": "https://localhost:8080/",
          "height": 545
        },
        "outputId": "6ce6cf48-8a46-4f51-f184-15104d152639",
        "trusted": true,
        "execution": {
          "iopub.status.busy": "2024-12-30T14:12:40.697868Z",
          "iopub.execute_input": "2024-12-30T14:12:40.698186Z",
          "iopub.status.idle": "2024-12-30T14:24:18.49491Z",
          "shell.execute_reply.started": "2024-12-30T14:12:40.698162Z",
          "shell.execute_reply": "2024-12-30T14:24:18.494216Z"
        }
      },
      "outputs": [
        {
          "output_type": "display_data",
          "data": {
            "text/plain": "<IPython.core.display.HTML object>",
            "text/html": "Tracking run with wandb version 0.19.1"
          },
          "metadata": {}
        },
        {
          "output_type": "display_data",
          "data": {
            "text/plain": "<IPython.core.display.HTML object>",
            "text/html": "Run data is saved locally in <code>/kaggle/working/wandb/run-20241230_141241-3cgj5g78</code>"
          },
          "metadata": {}
        },
        {
          "output_type": "display_data",
          "data": {
            "text/plain": "<IPython.core.display.HTML object>",
            "text/html": "Syncing run <strong><a href='https://wandb.ai/linhlinh-le997-prime-labo/huggingface/runs/3cgj5g78' target=\"_blank\">vit_flowers</a></strong> to <a href='https://wandb.ai/linhlinh-le997-prime-labo/huggingface' target=\"_blank\">Weights & Biases</a> (<a href='https://wandb.me/developer-guide' target=\"_blank\">docs</a>)<br>"
          },
          "metadata": {}
        },
        {
          "output_type": "display_data",
          "data": {
            "text/plain": "<IPython.core.display.HTML object>",
            "text/html": " View project at <a href='https://wandb.ai/linhlinh-le997-prime-labo/huggingface' target=\"_blank\">https://wandb.ai/linhlinh-le997-prime-labo/huggingface</a>"
          },
          "metadata": {}
        },
        {
          "output_type": "display_data",
          "data": {
            "text/plain": "<IPython.core.display.HTML object>",
            "text/html": " View run at <a href='https://wandb.ai/linhlinh-le997-prime-labo/huggingface/runs/3cgj5g78' target=\"_blank\">https://wandb.ai/linhlinh-le997-prime-labo/huggingface/runs/3cgj5g78</a>"
          },
          "metadata": {}
        },
        {
          "output_type": "display_data",
          "data": {
            "text/plain": "<IPython.core.display.HTML object>",
            "text/html": "\n    <div>\n      \n      <progress value='920' max='920' style='width:300px; height:20px; vertical-align: middle;'></progress>\n      [920/920 11:26, Epoch 10/10]\n    </div>\n    <table border=\"1\" class=\"dataframe\">\n  <thead>\n <tr style=\"text-align: left;\">\n      <th>Epoch</th>\n      <th>Training Loss</th>\n      <th>Validation Loss</th>\n      <th>Accuracy</th>\n    </tr>\n  </thead>\n  <tbody>\n    <tr>\n      <td>1</td>\n      <td>No log</td>\n      <td>0.535022</td>\n      <td>0.967302</td>\n    </tr>\n    <tr>\n      <td>2</td>\n      <td>No log</td>\n      <td>0.259203</td>\n      <td>0.967302</td>\n    </tr>\n    <tr>\n      <td>3</td>\n      <td>No log</td>\n      <td>0.190801</td>\n      <td>0.970027</td>\n    </tr>\n    <tr>\n      <td>4</td>\n      <td>No log</td>\n      <td>0.176133</td>\n      <td>0.967302</td>\n    </tr>\n    <tr>\n      <td>5</td>\n      <td>No log</td>\n      <td>0.174180</td>\n      <td>0.967302</td>\n    </tr>\n    <tr>\n      <td>6</td>\n      <td>0.329000</td>\n      <td>0.155060</td>\n      <td>0.967302</td>\n    </tr>\n    <tr>\n      <td>7</td>\n      <td>0.329000</td>\n      <td>0.152801</td>\n      <td>0.964578</td>\n    </tr>\n    <tr>\n      <td>8</td>\n      <td>0.329000</td>\n      <td>0.150089</td>\n      <td>0.967302</td>\n    </tr>\n    <tr>\n      <td>9</td>\n      <td>0.329000</td>\n      <td>0.150838</td>\n      <td>0.967302</td>\n    </tr>\n    <tr>\n      <td>10</td>\n      <td>0.329000</td>\n      <td>0.151796</td>\n      <td>0.967302</td>\n    </tr>\n  </tbody>\n</table><p>"
          },
          "metadata": {}
        },
        {
          "output_type": "display_data",
          "data": {
            "text/plain": "<IPython.core.display.HTML object>",
            "text/html": ""
          },
          "metadata": {}
        },
        {
          "execution_count": 36,
          "output_type": "execute_result",
          "data": {
            "text/plain": "{'test_loss': 0.1982872188091278,\n 'test_accuracy': 0.9700272479564033,\n 'test_runtime': 3.3495,\n 'test_samples_per_second': 109.57,\n 'test_steps_per_second': 3.583}"
          },
          "metadata": {}
        }
      ],
      "execution_count": null
    },
    {
      "cell_type": "code",
      "source": [],
      "metadata": {
        "id": "3P-V_7qm8064"
      },
      "outputs": [],
      "execution_count": null
    }
  ]
}
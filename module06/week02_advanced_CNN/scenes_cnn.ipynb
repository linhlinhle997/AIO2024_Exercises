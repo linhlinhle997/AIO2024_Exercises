{
 "cells": [
  {
   "cell_type": "code",
   "execution_count": null,
   "metadata": {
    "_cell_guid": "b1076dfc-b9ad-4769-8c92-a6c4dae69d19",
    "_uuid": "8f2839f25d086af736a60e9eeb907d3b93b6e0e5",
    "trusted": true
   },
   "outputs": [],
   "source": [
    "!gdown 1ZUCuYDOe4VVbZvNVZovpquaRQqqJQ639 -O \"data/scenes_classification.zip\"\n",
    "!unzip data/scenes_classification.zip -d data\n",
    "!rm data/scenes_classification.zip"
   ]
  },
  {
   "cell_type": "code",
   "execution_count": 3,
   "metadata": {
    "execution": {
     "iopub.execute_input": "2024-12-14T16:58:35.047231Z",
     "iopub.status.busy": "2024-12-14T16:58:35.046351Z",
     "iopub.status.idle": "2024-12-14T16:58:37.291757Z",
     "shell.execute_reply": "2024-12-14T16:58:37.291087Z",
     "shell.execute_reply.started": "2024-12-14T16:58:35.047193Z"
    },
    "trusted": true
   },
   "outputs": [],
   "source": [
    "import torch\n",
    "import torch.nn as nn\n",
    "import os\n",
    "import random\n",
    "import numpy as np\n",
    "import pandas as pd\n",
    "import matplotlib.pyplot as plt\n",
    "\n",
    "from PIL import Image\n",
    "from torch.utils.data import Dataset, DataLoader\n",
    "from sklearn.model_selection import train_test_split"
   ]
  },
  {
   "cell_type": "markdown",
   "metadata": {},
   "source": [
    "## Setting Random Seed for Reproducibility"
   ]
  },
  {
   "cell_type": "code",
   "execution_count": 4,
   "metadata": {
    "execution": {
     "iopub.execute_input": "2024-12-14T16:59:58.149453Z",
     "iopub.status.busy": "2024-12-14T16:59:58.148589Z",
     "iopub.status.idle": "2024-12-14T16:59:58.156624Z",
     "shell.execute_reply": "2024-12-14T16:59:58.155943Z",
     "shell.execute_reply.started": "2024-12-14T16:59:58.149417Z"
    },
    "trusted": true
   },
   "outputs": [],
   "source": [
    "def set_seed(seed):\n",
    "    random.seed(seed)\n",
    "    np.random.seed(seed)\n",
    "    torch.manual_seed(seed)\n",
    "    torch.cuda.manual_seed(seed)\n",
    "    torch.cuda.manual_seed_all(seed)\n",
    "    torch.backends.cudnn.deterministic = True\n",
    "    torch.backends.cudnn.benchmark = False\n",
    "\n",
    "seed = 59\n",
    "set_seed(seed)"
   ]
  },
  {
   "cell_type": "markdown",
   "metadata": {},
   "source": [
    "## Data Preparation"
   ]
  },
  {
   "cell_type": "code",
   "execution_count": 6,
   "metadata": {
    "execution": {
     "iopub.execute_input": "2024-12-14T17:01:42.892836Z",
     "iopub.status.busy": "2024-12-14T17:01:42.892521Z",
     "iopub.status.idle": "2024-12-14T17:01:42.897637Z",
     "shell.execute_reply": "2024-12-14T17:01:42.896724Z",
     "shell.execute_reply.started": "2024-12-14T17:01:42.892808Z"
    },
    "trusted": true
   },
   "outputs": [],
   "source": [
    "root_dir = \"data/scenes_classification\"\n",
    "train_dir = os.path.join(root_dir, \"train\")\n",
    "test_dir = os.path.join(root_dir, \"val\")\n",
    "\n",
    "# Mapping class names to numeric labels\n",
    "classes = {\n",
    "    label_idx: class_name for label_idx, class_name in enumerate(sorted(os.listdir(train_dir)))\n",
    "}"
   ]
  },
  {
   "cell_type": "markdown",
   "metadata": {},
   "source": [
    "Loading image paths and labels"
   ]
  },
  {
   "cell_type": "code",
   "execution_count": 10,
   "metadata": {
    "execution": {
     "iopub.execute_input": "2024-12-14T17:04:42.873830Z",
     "iopub.status.busy": "2024-12-14T17:04:42.872878Z",
     "iopub.status.idle": "2024-12-14T17:04:42.907008Z",
     "shell.execute_reply": "2024-12-14T17:04:42.906353Z",
     "shell.execute_reply.started": "2024-12-14T17:04:42.873790Z"
    },
    "trusted": true
   },
   "outputs": [
    {
     "data": {
      "text/plain": [
       "(14034, 3000)"
      ]
     },
     "execution_count": 10,
     "metadata": {},
     "output_type": "execute_result"
    }
   ],
   "source": [
    "X_train, y_train = [], []\n",
    "X_test, y_test = [], []\n",
    "\n",
    "for dataset_path in [train_dir, test_dir]:\n",
    "    for label_idx, class_name in classes.items():\n",
    "        class_dir = os.path.join(dataset_path, class_name)\n",
    "        for img_filename in os.listdir(class_dir):\n",
    "            img_path = os.path.join(class_dir, img_filename)\n",
    "            if \"train\" in dataset_path:\n",
    "                X_train.append(img_path)\n",
    "                y_train.append(label_idx)\n",
    "            else:\n",
    "                X_test.append(img_path)\n",
    "                y_test.append(label_idx)\n",
    "\n",
    "len(X_train), len(X_test)"
   ]
  },
  {
   "cell_type": "code",
   "execution_count": 11,
   "metadata": {
    "execution": {
     "iopub.execute_input": "2024-12-14T17:04:58.097703Z",
     "iopub.status.busy": "2024-12-14T17:04:58.097340Z",
     "iopub.status.idle": "2024-12-14T17:04:58.103438Z",
     "shell.execute_reply": "2024-12-14T17:04:58.102496Z",
     "shell.execute_reply.started": "2024-12-14T17:04:58.097652Z"
    },
    "trusted": true
   },
   "outputs": [
    {
     "data": {
      "text/plain": [
       "(['scenes_classification/train/buildings/14704.jpg',\n",
       "  'scenes_classification/train/buildings/17575.jpg',\n",
       "  'scenes_classification/train/buildings/1964.jpg',\n",
       "  'scenes_classification/train/buildings/12716.jpg',\n",
       "  'scenes_classification/train/buildings/4961.jpg'],\n",
       " [0, 0, 0, 0, 0])"
      ]
     },
     "execution_count": 11,
     "metadata": {},
     "output_type": "execute_result"
    }
   ],
   "source": [
    "X_train[:5], y_train[:5]"
   ]
  },
  {
   "cell_type": "markdown",
   "metadata": {},
   "source": [
    "Splitting the training data into training and validation sets"
   ]
  },
  {
   "cell_type": "code",
   "execution_count": 13,
   "metadata": {
    "execution": {
     "iopub.execute_input": "2024-12-14T17:06:53.192519Z",
     "iopub.status.busy": "2024-12-14T17:06:53.191586Z",
     "iopub.status.idle": "2024-12-14T17:06:53.207048Z",
     "shell.execute_reply": "2024-12-14T17:06:53.205970Z",
     "shell.execute_reply.started": "2024-12-14T17:06:53.192469Z"
    },
    "trusted": true
   },
   "outputs": [
    {
     "data": {
      "text/plain": [
       "(8981, 2246)"
      ]
     },
     "execution_count": 13,
     "metadata": {},
     "output_type": "execute_result"
    }
   ],
   "source": [
    "X_train, X_val, y_train, y_val = train_test_split(\n",
    "    X_train, y_train,\n",
    "    test_size=0.2,\n",
    "    random_state=True,\n",
    "    shuffle=True\n",
    ")\n",
    "\n",
    "len(X_train), len(X_val)"
   ]
  },
  {
   "cell_type": "markdown",
   "metadata": {},
   "source": [
    "Defining a custom ScenesDataset class for loading images with transformations"
   ]
  },
  {
   "cell_type": "code",
   "execution_count": 22,
   "metadata": {
    "execution": {
     "iopub.execute_input": "2024-12-14T17:33:12.149930Z",
     "iopub.status.busy": "2024-12-14T17:33:12.149597Z",
     "iopub.status.idle": "2024-12-14T17:33:12.155798Z",
     "shell.execute_reply": "2024-12-14T17:33:12.154776Z",
     "shell.execute_reply.started": "2024-12-14T17:33:12.149897Z"
    },
    "trusted": true
   },
   "outputs": [],
   "source": [
    "class ScenesDataset(Dataset):\n",
    "    def __init__(self, X, y, transform=None):\n",
    "        self.img_paths = X\n",
    "        self.labels = y\n",
    "        self.transform = transform\n",
    "\n",
    "    def __len__(self):\n",
    "        return len(self.img_paths)\n",
    "\n",
    "    def __getitem__(self, idx):\n",
    "        img_path = self.img_paths[idx]\n",
    "        img = Image.open(img_path).convert(\"RGB\")\n",
    "\n",
    "        if self.transform:\n",
    "            img = self.transform(img)\n",
    "\n",
    "        return img, self.labels[idx]"
   ]
  },
  {
   "cell_type": "code",
   "execution_count": 23,
   "metadata": {
    "execution": {
     "iopub.execute_input": "2024-12-14T17:33:12.463572Z",
     "iopub.status.busy": "2024-12-14T17:33:12.462843Z",
     "iopub.status.idle": "2024-12-14T17:33:12.468126Z",
     "shell.execute_reply": "2024-12-14T17:33:12.467217Z",
     "shell.execute_reply.started": "2024-12-14T17:33:12.463524Z"
    },
    "trusted": true
   },
   "outputs": [],
   "source": [
    "def transform(img, img_size=(224, 224)):\n",
    "    img = img.resize(img_size)\n",
    "    # Convert the image to a NumPy array and select the RGB channels (first 3 channels)\n",
    "    img = np.array(img)[..., :3]\n",
    "    \n",
    "    # Convert the image to a PyTorch tensor and change the shape to (channels, height, width)\n",
    "    img = torch.tensor(img).permute(2, 0, 1).float()\n",
    "    \n",
    "    # Normalize the image by dividing pixel values by 255, scaling them to the range [0, 1]\n",
    "    normalized_img = img / 255.0\n",
    "    return normalized_img"
   ]
  },
  {
   "cell_type": "code",
   "execution_count": 24,
   "metadata": {
    "execution": {
     "iopub.execute_input": "2024-12-14T17:33:13.114597Z",
     "iopub.status.busy": "2024-12-14T17:33:13.114206Z",
     "iopub.status.idle": "2024-12-14T17:33:13.119455Z",
     "shell.execute_reply": "2024-12-14T17:33:13.118457Z",
     "shell.execute_reply.started": "2024-12-14T17:33:13.114563Z"
    },
    "trusted": true
   },
   "outputs": [],
   "source": [
    "train_dataset = ScenesDataset(\n",
    "    X_train, y_train,\n",
    "    transform=transform\n",
    ")\n",
    "\n",
    "val_dataset = ScenesDataset(\n",
    "    X_val, y_val,\n",
    "    transform=transform\n",
    ")\n",
    "\n",
    "test_dataset = ScenesDataset(\n",
    "    X_test, y_test,\n",
    "    transform=transform\n",
    ")"
   ]
  },
  {
   "cell_type": "markdown",
   "metadata": {},
   "source": [
    "Creating DataLoaders for training, validation, and test sets"
   ]
  },
  {
   "cell_type": "code",
   "execution_count": 26,
   "metadata": {
    "execution": {
     "iopub.execute_input": "2024-12-14T17:33:33.681273Z",
     "iopub.status.busy": "2024-12-14T17:33:33.680901Z",
     "iopub.status.idle": "2024-12-14T17:33:33.688270Z",
     "shell.execute_reply": "2024-12-14T17:33:33.687322Z",
     "shell.execute_reply.started": "2024-12-14T17:33:33.681238Z"
    },
    "trusted": true
   },
   "outputs": [
    {
     "data": {
      "text/plain": [
       "(141, 281, 375)"
      ]
     },
     "execution_count": 26,
     "metadata": {},
     "output_type": "execute_result"
    }
   ],
   "source": [
    "train_loader = DataLoader(\n",
    "    train_dataset,\n",
    "    batch_size=64,\n",
    "    shuffle=True\n",
    ")\n",
    "\n",
    "val_loader = DataLoader(\n",
    "    val_dataset,\n",
    "    batch_size=8,\n",
    "    shuffle=False\n",
    ")\n",
    "\n",
    "test_loader = DataLoader(\n",
    "    test_dataset,\n",
    "    batch_size=8,\n",
    "    shuffle=False\n",
    ")\n",
    "\n",
    "len(train_loader), len(val_loader), len(test_loader)"
   ]
  },
  {
   "cell_type": "markdown",
   "metadata": {},
   "source": [
    "## DenseNet Training and Evaluation"
   ]
  },
  {
   "cell_type": "markdown",
   "metadata": {},
   "source": [
    "### Training and Evaluation Functions for Model"
   ]
  },
  {
   "cell_type": "code",
   "execution_count": 39,
   "metadata": {
    "execution": {
     "iopub.execute_input": "2024-12-14T18:12:21.555942Z",
     "iopub.status.busy": "2024-12-14T18:12:21.555139Z",
     "iopub.status.idle": "2024-12-14T18:12:21.561442Z",
     "shell.execute_reply": "2024-12-14T18:12:21.560692Z",
     "shell.execute_reply.started": "2024-12-14T18:12:21.555907Z"
    },
    "trusted": true
   },
   "outputs": [],
   "source": [
    "def evaluate(model, dataloader, criterion, device):\n",
    "    model.eval()\n",
    "    correct, total = 0, 0\n",
    "    losses = []\n",
    "\n",
    "    with torch.no_grad():\n",
    "        for inputs, labels in dataloader:\n",
    "            inputs, labels = inputs.to(device), labels.to(device)\n",
    "\n",
    "            # Forward pass\n",
    "            outputs = model(inputs)\n",
    "            loss = criterion(outputs, labels)\n",
    "            losses.append(loss.item())\n",
    "\n",
    "            # Calculate predictions\n",
    "            _, preds = torch.max(outputs.data, 1)\n",
    "            total += labels.size(0)\n",
    "            correct += (preds == labels).sum().item()\n",
    "\n",
    "    # Calculate average loss and accuracy\n",
    "    loss = sum(losses) / len(losses)\n",
    "    acc = correct / total\n",
    "    return loss, acc"
   ]
  },
  {
   "cell_type": "code",
   "execution_count": 40,
   "metadata": {
    "execution": {
     "iopub.execute_input": "2024-12-14T18:12:27.167967Z",
     "iopub.status.busy": "2024-12-14T18:12:27.167295Z",
     "iopub.status.idle": "2024-12-14T18:12:27.175808Z",
     "shell.execute_reply": "2024-12-14T18:12:27.174838Z",
     "shell.execute_reply.started": "2024-12-14T18:12:27.167915Z"
    },
    "trusted": true
   },
   "outputs": [],
   "source": [
    "def fit(model, train_loader, val_loader, criterion, optimizer, device, epochs):\n",
    "    train_losses, val_losses = [], []\n",
    "    train_accuracies, val_accuracies = [], []\n",
    "\n",
    "    for epoch in range(epochs):\n",
    "        model.train()\n",
    "        batch_train_losses = []\n",
    "        correct, total = 0, 0\n",
    "\n",
    "        for inputs, labels in train_loader:\n",
    "            inputs, labels = inputs.to(device), labels.to(device)\n",
    "\n",
    "            # Zero the parameter gradients\n",
    "            optimizer.zero_grad()\n",
    "\n",
    "            # Forward pass\n",
    "            outputs = model(inputs)\n",
    "            loss = criterion(outputs, labels)\n",
    "            loss.backward() # Backpropagation\n",
    "            optimizer.step() # Update weights\n",
    "\n",
    "            batch_train_losses.append(loss.item())\n",
    "\n",
    "            _, preds = torch.max(outputs.data, dim=1)\n",
    "            total += labels.size(0)\n",
    "            correct += (preds == labels).sum().item()\n",
    "\n",
    "        # Calculate average training loss for the epoch\n",
    "        train_loss = sum(batch_train_losses) / len(batch_train_losses)\n",
    "        train_acc = correct / total\n",
    "        train_losses.append(train_loss)\n",
    "        train_accuracies.append(train_acc)\n",
    "\n",
    "        # Validate the model\n",
    "        val_loss, val_acc = evaluate(model, val_loader, criterion, device)\n",
    "        val_losses.append(val_loss)\n",
    "        val_accuracies.append(val_acc)\n",
    "\n",
    "        print(\n",
    "            f\"Epoch {epoch + 1}/{epochs}:\\t\"\n",
    "            f\"Train Loss: {train_loss:.4f}\\tTrain Acc: {train_acc:.4f}\\t\"\n",
    "            f\"Val Loss: {val_loss:.4f}\\tVal Acc: {val_acc:.4f}\"\n",
    "        )\n",
    "\n",
    "    return train_losses, train_accuracies, val_losses, val_accuracies"
   ]
  },
  {
   "cell_type": "markdown",
   "metadata": {},
   "source": [
    "### DenseNet Model Implementation"
   ]
  },
  {
   "cell_type": "code",
   "execution_count": 36,
   "metadata": {
    "execution": {
     "iopub.execute_input": "2024-12-14T18:11:22.567468Z",
     "iopub.status.busy": "2024-12-14T18:11:22.566678Z",
     "iopub.status.idle": "2024-12-14T18:11:22.574703Z",
     "shell.execute_reply": "2024-12-14T18:11:22.573763Z",
     "shell.execute_reply.started": "2024-12-14T18:11:22.567432Z"
    },
    "trusted": true
   },
   "outputs": [],
   "source": [
    "class BottleneckBlock(nn.Module):\n",
    "    def __init__(self, in_channels, growth_rate):\n",
    "        super(BottleneckBlock, self).__init__()\n",
    "        self.bn1 = nn.BatchNorm2d(in_channels)\n",
    "        self.conv1 = nn.Conv2d(in_channels, 4 * growth_rate, kernel_size=1, bias=False)\n",
    "        self.bn2 = nn.BatchNorm2d(4 * growth_rate)\n",
    "        self.conv2 = nn.Conv2d(4 * growth_rate, growth_rate, kernel_size=3, padding=1, bias=False)\n",
    "        self.relu = nn.ReLU()\n",
    "\n",
    "    def forward(self, x):\n",
    "        res = x.clone().detach()\n",
    "        x = self.bn1(x)\n",
    "        x = self.relu(x)\n",
    "        x = self.conv1(x)\n",
    "        x = self.bn2(x)\n",
    "        x = self.relu(x)\n",
    "        x = self.conv2(x)\n",
    "        x = torch.cat([res, x], 1)\n",
    "\n",
    "        return x\n",
    "\n",
    "class DenseBlock(nn.Module):\n",
    "    def __init__(self, num_layers, in_channels, growth_rate):\n",
    "        super(DenseBlock, self).__init__()\n",
    "        layers = []\n",
    "        for i in range(num_layers):\n",
    "            layers.append(BottleneckBlock(in_channels + i * growth_rate, growth_rate))\n",
    "        self.block = nn.Sequential(*layers)\n",
    "\n",
    "    def forward(self, x):\n",
    "        return self.block(x)"
   ]
  },
  {
   "cell_type": "code",
   "execution_count": 37,
   "metadata": {
    "execution": {
     "iopub.execute_input": "2024-12-14T18:11:22.888506Z",
     "iopub.status.busy": "2024-12-14T18:11:22.888264Z",
     "iopub.status.idle": "2024-12-14T18:11:22.896826Z",
     "shell.execute_reply": "2024-12-14T18:11:22.895939Z",
     "shell.execute_reply.started": "2024-12-14T18:11:22.888482Z"
    },
    "trusted": true
   },
   "outputs": [],
   "source": [
    "class DenseNet(nn.Module):\n",
    "    def __init__(self, num_blocks, growth_rate, num_classes):\n",
    "        super(DenseNet, self).__init__()\n",
    "        self.conv1 = nn.Conv2d(3, 2 * growth_rate, kernel_size=7, padding=3, stride=2, bias=False)\n",
    "        self.bn1 = nn.BatchNorm2d(2 * growth_rate)\n",
    "        self.pool1 = nn.MaxPool2d(kernel_size=3, stride=2, padding=1)\n",
    "        \n",
    "        # Initialize DenseBlocks\n",
    "        self.dense_blocks = nn.ModuleList()\n",
    "        in_channels = 2 * growth_rate\n",
    "        for i, num_layers in enumerate(num_blocks):\n",
    "            self.dense_blocks.append(\n",
    "                DenseBlock(num_layers, in_channels, growth_rate)\n",
    "            )\n",
    "            in_channels += num_layers * growth_rate\n",
    "            if i != len(num_blocks) - 1:\n",
    "                out_channels = in_channels // 2\n",
    "                self.dense_blocks.append(\n",
    "                    nn.Sequential(\n",
    "                        nn.BatchNorm2d(in_channels),\n",
    "                        nn.Conv2d(in_channels, out_channels, kernel_size=1, bias=False),\n",
    "                        nn.AvgPool2d(kernel_size=2, stride=2)\n",
    "                    )\n",
    "                )\n",
    "                in_channels = out_channels\n",
    "\n",
    "        self.bn2 = nn.BatchNorm2d(in_channels)\n",
    "        self.pool2 = nn.AvgPool2d(kernel_size=7)\n",
    "        self.relu = nn.ReLU()\n",
    "        self.fc = nn.Linear(in_channels, num_classes)\n",
    "\n",
    "    def forward(self, x):\n",
    "        x = self.conv1(x)\n",
    "        x = self.bn1(x)\n",
    "        x = self.relu(x)\n",
    "        x = self.pool1(x)\n",
    "\n",
    "        for block in self.dense_blocks:\n",
    "            x = block(x)\n",
    "\n",
    "        x = self.bn2(x)\n",
    "        x = self.relu(x)\n",
    "        x = self.pool2(x)\n",
    "        x = x.view(x.size(0), -1)\n",
    "        x = self.fc(x)\n",
    "\n",
    "        return x"
   ]
  },
  {
   "cell_type": "markdown",
   "metadata": {},
   "source": [
    "### Training model"
   ]
  },
  {
   "cell_type": "code",
   "execution_count": 38,
   "metadata": {
    "execution": {
     "iopub.execute_input": "2024-12-14T18:11:23.362660Z",
     "iopub.status.busy": "2024-12-14T18:11:23.362415Z",
     "iopub.status.idle": "2024-12-14T18:11:23.673976Z",
     "shell.execute_reply": "2024-12-14T18:11:23.673298Z",
     "shell.execute_reply.started": "2024-12-14T18:11:23.362635Z"
    },
    "trusted": true
   },
   "outputs": [],
   "source": [
    "n_classes = len(list(classes.keys()))\n",
    "device = \"cuda\" if torch.cuda.is_available() else \"cpu\"\n",
    "\n",
    "model = DenseNet(\n",
    "    [6, 12, 24, 16],\n",
    "    growth_rate=32,\n",
    "    num_classes=n_classes\n",
    ").to(device)"
   ]
  },
  {
   "cell_type": "code",
   "execution_count": 41,
   "metadata": {
    "execution": {
     "iopub.execute_input": "2024-12-14T18:12:57.997333Z",
     "iopub.status.busy": "2024-12-14T18:12:57.996969Z",
     "iopub.status.idle": "2024-12-14T18:44:43.024168Z",
     "shell.execute_reply": "2024-12-14T18:44:43.023018Z",
     "shell.execute_reply.started": "2024-12-14T18:12:57.997299Z"
    },
    "trusted": true
   },
   "outputs": [
    {
     "name": "stdout",
     "output_type": "stream",
     "text": [
      "Epoch 1/15:\tTrain Loss: 1.4976\tTrain Acc: 0.4520\tVal Loss: 1.3401\tVal Acc: 0.4426\n",
      "Epoch 2/15:\tTrain Loss: 1.2644\tTrain Acc: 0.5469\tVal Loss: 1.2045\tVal Acc: 0.5592\n",
      "Epoch 3/15:\tTrain Loss: 1.1778\tTrain Acc: 0.5790\tVal Loss: 1.1314\tVal Acc: 0.5935\n",
      "Epoch 4/15:\tTrain Loss: 1.1247\tTrain Acc: 0.5968\tVal Loss: 1.0918\tVal Acc: 0.6073\n",
      "Epoch 5/15:\tTrain Loss: 1.0844\tTrain Acc: 0.6102\tVal Loss: 1.0523\tVal Acc: 0.6109\n",
      "Epoch 6/15:\tTrain Loss: 1.0444\tTrain Acc: 0.6239\tVal Loss: 1.0253\tVal Acc: 0.6175\n",
      "Epoch 7/15:\tTrain Loss: 1.0097\tTrain Acc: 0.6342\tVal Loss: 0.9825\tVal Acc: 0.6402\n",
      "Epoch 8/15:\tTrain Loss: 0.9735\tTrain Acc: 0.6480\tVal Loss: 0.9598\tVal Acc: 0.6532\n",
      "Epoch 9/15:\tTrain Loss: 0.9373\tTrain Acc: 0.6680\tVal Loss: 0.9182\tVal Acc: 0.6652\n",
      "Epoch 10/15:\tTrain Loss: 0.8994\tTrain Acc: 0.6837\tVal Loss: 0.8879\tVal Acc: 0.6687\n",
      "Epoch 11/15:\tTrain Loss: 0.8632\tTrain Acc: 0.6932\tVal Loss: 0.8604\tVal Acc: 0.6794\n",
      "Epoch 12/15:\tTrain Loss: 0.8355\tTrain Acc: 0.7067\tVal Loss: 0.8366\tVal Acc: 0.6932\n",
      "Epoch 13/15:\tTrain Loss: 0.8032\tTrain Acc: 0.7152\tVal Loss: 0.8207\tVal Acc: 0.6981\n",
      "Epoch 14/15:\tTrain Loss: 0.7773\tTrain Acc: 0.7279\tVal Loss: 0.7774\tVal Acc: 0.7053\n",
      "Epoch 15/15:\tTrain Loss: 0.7511\tTrain Acc: 0.7378\tVal Loss: 0.7754\tVal Acc: 0.7008\n"
     ]
    }
   ],
   "source": [
    "criterion = nn.CrossEntropyLoss()\n",
    "optimizer = torch.optim.SGD(model.parameters(), lr=1e-2)\n",
    "\n",
    "train_losses, train_accuracies, val_losses, val_accuracies = fit(\n",
    "    model,\n",
    "    train_loader,\n",
    "    val_loader,\n",
    "    criterion,\n",
    "    optimizer,\n",
    "    device,\n",
    "    epochs=15\n",
    ")"
   ]
  },
  {
   "cell_type": "code",
   "execution_count": 42,
   "metadata": {
    "execution": {
     "iopub.execute_input": "2024-12-14T18:44:43.027323Z",
     "iopub.status.busy": "2024-12-14T18:44:43.026634Z",
     "iopub.status.idle": "2024-12-14T18:44:43.880514Z",
     "shell.execute_reply": "2024-12-14T18:44:43.879589Z",
     "shell.execute_reply.started": "2024-12-14T18:44:43.027271Z"
    },
    "trusted": true
   },
   "outputs": [
    {
     "data": {
      "image/png": "[encoded data removed]",
      "text/plain": [
       "<Figure size 1200x600 with 2 Axes>"
      ]
     },
     "metadata": {},
     "output_type": "display_data"
    }
   ],
   "source": [
    "plt.figure(figsize=(12, 6))\n",
    "\n",
    "# Loss Plot\n",
    "plt.subplot(1, 2, 1)\n",
    "plt.plot(train_losses, label='Train Loss')\n",
    "plt.plot(val_losses, label='Validation Loss')\n",
    "plt.title('Loss Over Epochs')\n",
    "plt.xlabel('Epochs')\n",
    "plt.ylabel('Loss')\n",
    "plt.legend()\n",
    "plt.grid()\n",
    "\n",
    "# Accuracy Plot\n",
    "plt.subplot(1, 2, 2)\n",
    "plt.plot(train_accuracies, label='Train Accuracy')\n",
    "plt.plot(val_accuracies, label='Validation Accuracy')\n",
    "plt.title('Accuracy Over Epochs')\n",
    "plt.xlabel('Epochs')\n",
    "plt.ylabel('Accuracy')\n",
    "plt.legend()\n",
    "plt.grid()\n",
    "\n",
    "plt.tight_layout()\n",
    "plt.show()"
   ]
  },
  {
   "cell_type": "markdown",
   "metadata": {},
   "source": [
    "### Evaluation model"
   ]
  },
  {
   "cell_type": "code",
   "execution_count": 43,
   "metadata": {
    "execution": {
     "iopub.execute_input": "2024-12-14T18:44:43.882327Z",
     "iopub.status.busy": "2024-12-14T18:44:43.881931Z",
     "iopub.status.idle": "2024-12-14T18:45:13.433627Z",
     "shell.execute_reply": "2024-12-14T18:45:13.432801Z",
     "shell.execute_reply.started": "2024-12-14T18:44:43.882283Z"
    },
    "trusted": true
   },
   "outputs": [
    {
     "name": "stdout",
     "output_type": "stream",
     "text": [
      "Evaluation on val/test dataset:\n",
      "Validation accuracy:  0.7008014247551202\n",
      "Test accuracy:  0.7186666666666667\n"
     ]
    }
   ],
   "source": [
    "val_loss, val_acc = evaluate(model, val_loader, criterion, device)\n",
    "test_loss, test_acc = evaluate(model, test_loader, criterion, device)\n",
    "\n",
    "print(\"Evaluation on val/test dataset:\")\n",
    "print(\"Validation accuracy: \", val_acc)\n",
    "print(\"Test accuracy: \", test_acc)"
   ]
  },
  {
   "cell_type": "code",
   "execution_count": null,
   "metadata": {
    "trusted": true
   },
   "outputs": [],
   "source": []
  }
 ],
 "metadata": {
  "kaggle": {
   "accelerator": "nvidiaTeslaT4",
   "dataSources": [],
   "dockerImageVersionId": 30805,
   "isGpuEnabled": true,
   "isInternetEnabled": true,
   "language": "python",
   "sourceType": "notebook"
  },
  "kernelspec": {
   "display_name": "Python 3",
   "language": "python",
   "name": "python3"
  },
  "language_info": {
   "codemirror_mode": {
    "name": "ipython",
    "version": 3
   },
   "file_extension": ".py",
   "mimetype": "text/x-python",
   "name": "python",
   "nbconvert_exporter": "python",
   "pygments_lexer": "ipython3",
   "version": "3.10.14"
  }
 },
 "nbformat": 4,
 "nbformat_minor": 4
}

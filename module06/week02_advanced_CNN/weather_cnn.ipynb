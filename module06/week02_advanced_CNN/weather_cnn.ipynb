{
 "cells": [
  {
   "cell_type": "code",
   "execution_count": null,
   "metadata": {
    "execution": {
     "iopub.execute_input": "2024-12-14T16:03:45.824966Z",
     "iopub.status.busy": "2024-12-14T16:03:45.824588Z",
     "iopub.status.idle": "2024-12-14T16:03:46.826081Z",
     "shell.execute_reply": "2024-12-14T16:03:46.825014Z",
     "shell.execute_reply.started": "2024-12-14T16:03:45.824936Z"
    },
    "trusted": true
   },
   "outputs": [],
   "source": [
    "!gdown 1fnJMMw0LvDgl-GS4FTou5qAgLxOE2KQ0 -O \"data/weather.zip\"\n",
    "!unzip data/weather.zip -d data\n",
    "!rm data/weather.zip"
   ]
  },
  {
   "cell_type": "code",
   "execution_count": 20,
   "metadata": {
    "execution": {
     "iopub.execute_input": "2024-12-14T16:06:11.847601Z",
     "iopub.status.busy": "2024-12-14T16:06:11.847125Z",
     "iopub.status.idle": "2024-12-14T16:06:11.853096Z",
     "shell.execute_reply": "2024-12-14T16:06:11.852147Z",
     "shell.execute_reply.started": "2024-12-14T16:06:11.847566Z"
    },
    "id": "LcLLk9lMxXj3",
    "trusted": true
   },
   "outputs": [],
   "source": [
    "import torch\n",
    "import torch.nn as nn\n",
    "import os\n",
    "import random\n",
    "import numpy as np\n",
    "import pandas as pd\n",
    "import matplotlib.pyplot as plt\n",
    "\n",
    "from PIL import Image\n",
    "from torch.utils.data import Dataset, DataLoader\n",
    "from sklearn.model_selection import train_test_split"
   ]
  },
  {
   "cell_type": "markdown",
   "metadata": {},
   "source": [
    "## Setting Random Seed for Reproducibility"
   ]
  },
  {
   "cell_type": "code",
   "execution_count": 21,
   "metadata": {
    "execution": {
     "iopub.execute_input": "2024-12-14T16:06:12.819872Z",
     "iopub.status.busy": "2024-12-14T16:06:12.819540Z",
     "iopub.status.idle": "2024-12-14T16:06:12.826629Z",
     "shell.execute_reply": "2024-12-14T16:06:12.825901Z",
     "shell.execute_reply.started": "2024-12-14T16:06:12.819843Z"
    },
    "id": "ghyoKi0uxnEz",
    "trusted": true
   },
   "outputs": [],
   "source": [
    "def set_seed(seed):\n",
    "    random.seed(seed)\n",
    "    np.random.seed(seed)\n",
    "    torch.manual_seed(seed)\n",
    "    torch.cuda.manual_seed(seed)\n",
    "    torch.cuda.manual_seed_all(seed)\n",
    "    torch.backends.cudnn.deterministic = True\n",
    "    torch.backends.cudnn.benchmark = False\n",
    "\n",
    "seed = 59\n",
    "set_seed(seed)"
   ]
  },
  {
   "cell_type": "markdown",
   "metadata": {},
   "source": [
    "## Data Preparation"
   ]
  },
  {
   "cell_type": "code",
   "execution_count": 22,
   "metadata": {
    "execution": {
     "iopub.execute_input": "2024-12-14T16:06:18.261078Z",
     "iopub.status.busy": "2024-12-14T16:06:18.260392Z",
     "iopub.status.idle": "2024-12-14T16:06:18.265536Z",
     "shell.execute_reply": "2024-12-14T16:06:18.264336Z",
     "shell.execute_reply.started": "2024-12-14T16:06:18.261047Z"
    },
    "id": "jPE-dULAx7Fc",
    "trusted": true
   },
   "outputs": [],
   "source": [
    "root_dir = \"data/weather-dataset/dataset\"\n",
    "\n",
    "# Mapping class names to numeric labels\n",
    "classes = {\n",
    "    label_idx: class_name for label_idx, class_name in enumerate(os.listdir(root_dir))\n",
    "}"
   ]
  },
  {
   "cell_type": "code",
   "execution_count": 23,
   "metadata": {
    "colab": {
     "base_uri": "https://localhost:8080/"
    },
    "execution": {
     "iopub.execute_input": "2024-12-14T16:06:19.026453Z",
     "iopub.status.busy": "2024-12-14T16:06:19.026078Z",
     "iopub.status.idle": "2024-12-14T16:06:19.033612Z",
     "shell.execute_reply": "2024-12-14T16:06:19.032589Z",
     "shell.execute_reply.started": "2024-12-14T16:06:19.026421Z"
    },
    "id": "d97LQryYydiJ",
    "outputId": "60432e18-6748-4741-b71d-441041368ec6",
    "trusted": true
   },
   "outputs": [
    {
     "data": {
      "text/plain": [
       "dict_items([(0, 'dew'), (1, 'hail'), (2, 'snow'), (3, 'glaze'), (4, 'rain'), (5, 'rime'), (6, 'lightning'), (7, 'frost'), (8, 'sandstorm'), (9, 'rainbow'), (10, 'fogsmog')])"
      ]
     },
     "execution_count": 23,
     "metadata": {},
     "output_type": "execute_result"
    }
   ],
   "source": [
    "classes.items()"
   ]
  },
  {
   "cell_type": "markdown",
   "metadata": {},
   "source": [
    "Loading image paths and labels"
   ]
  },
  {
   "cell_type": "code",
   "execution_count": 24,
   "metadata": {
    "execution": {
     "iopub.execute_input": "2024-12-14T16:06:19.471258Z",
     "iopub.status.busy": "2024-12-14T16:06:19.470563Z",
     "iopub.status.idle": "2024-12-14T16:06:19.488807Z",
     "shell.execute_reply": "2024-12-14T16:06:19.488114Z",
     "shell.execute_reply.started": "2024-12-14T16:06:19.471225Z"
    },
    "id": "mJ1VdslSyOf9",
    "trusted": true
   },
   "outputs": [],
   "source": [
    "img_paths, labels = [], []\n",
    "\n",
    "for label_idx, class_name in classes.items():\n",
    "    class_dir = os.path.join(root_dir, class_name)\n",
    "    for img_filename in os.listdir(class_dir):\n",
    "        img_path = os.path.join(class_dir, img_filename)\n",
    "        img_paths.append(img_path)\n",
    "        labels.append(label_idx)"
   ]
  },
  {
   "cell_type": "code",
   "execution_count": 25,
   "metadata": {
    "colab": {
     "base_uri": "https://localhost:8080/"
    },
    "execution": {
     "iopub.execute_input": "2024-12-14T16:06:19.655628Z",
     "iopub.status.busy": "2024-12-14T16:06:19.655335Z",
     "iopub.status.idle": "2024-12-14T16:06:19.661431Z",
     "shell.execute_reply": "2024-12-14T16:06:19.660582Z",
     "shell.execute_reply.started": "2024-12-14T16:06:19.655602Z"
    },
    "id": "N32AlhNAy6_i",
    "outputId": "8ef80cd5-4cf1-40c3-aef9-00e368cc328c",
    "trusted": true
   },
   "outputs": [
    {
     "data": {
      "text/plain": [
       "(['weather-dataset/dataset/dew/2324.jpg',\n",
       "  'weather-dataset/dataset/dew/2796.jpg',\n",
       "  'weather-dataset/dataset/dew/2340.jpg',\n",
       "  'weather-dataset/dataset/dew/2553.jpg',\n",
       "  'weather-dataset/dataset/dew/2435.jpg'],\n",
       " [0, 0, 0, 0, 0])"
      ]
     },
     "execution_count": 25,
     "metadata": {},
     "output_type": "execute_result"
    }
   ],
   "source": [
    "img_paths[:5], labels[:5]"
   ]
  },
  {
   "cell_type": "markdown",
   "metadata": {},
   "source": [
    "Splitting Data into Training, Validation, and Test Sets"
   ]
  },
  {
   "cell_type": "code",
   "execution_count": 26,
   "metadata": {
    "execution": {
     "iopub.execute_input": "2024-12-14T16:06:19.829101Z",
     "iopub.status.busy": "2024-12-14T16:06:19.828416Z",
     "iopub.status.idle": "2024-12-14T16:06:19.841809Z",
     "shell.execute_reply": "2024-12-14T16:06:19.841142Z",
     "shell.execute_reply.started": "2024-12-14T16:06:19.829072Z"
    },
    "id": "C9cpvZ9-y8mN",
    "trusted": true
   },
   "outputs": [],
   "source": [
    "X_train, X_val, y_train, y_val = train_test_split(\n",
    "    img_paths, labels,\n",
    "    test_size=0.2,\n",
    "    random_state=seed,\n",
    "    shuffle=True\n",
    ")\n",
    "\n",
    "X_train, X_test, y_train, y_test = train_test_split(\n",
    "    img_paths, labels,\n",
    "    test_size=0.125,\n",
    "    random_state=seed,\n",
    "    shuffle=True\n",
    ")"
   ]
  },
  {
   "cell_type": "markdown",
   "metadata": {},
   "source": [
    "Defining a custom WeatherDataset class for loading images with transformations"
   ]
  },
  {
   "cell_type": "code",
   "execution_count": 27,
   "metadata": {
    "execution": {
     "iopub.execute_input": "2024-12-14T16:06:19.991468Z",
     "iopub.status.busy": "2024-12-14T16:06:19.991197Z",
     "iopub.status.idle": "2024-12-14T16:06:19.996592Z",
     "shell.execute_reply": "2024-12-14T16:06:19.995739Z",
     "shell.execute_reply.started": "2024-12-14T16:06:19.991443Z"
    },
    "id": "-pLG2yp1zAcV",
    "trusted": true
   },
   "outputs": [],
   "source": [
    "class WeatherDataset(Dataset):\n",
    "    def __init__(self, X, y, transform=None):\n",
    "        self.img_paths = X\n",
    "        self.labels = y\n",
    "        self.transform = transform\n",
    "\n",
    "    def __len__(self):\n",
    "        return len(self.img_paths)\n",
    "\n",
    "    def __getitem__(self, idx):\n",
    "        img_path = self.img_paths[idx]\n",
    "        img = Image.open(img_path).convert(\"RGB\")\n",
    "\n",
    "        if self.transform:\n",
    "            img = self.transform(img)\n",
    "        label = self.labels[idx]\n",
    "\n",
    "        return img, label"
   ]
  },
  {
   "cell_type": "code",
   "execution_count": 28,
   "metadata": {
    "execution": {
     "iopub.execute_input": "2024-12-14T16:06:20.149425Z",
     "iopub.status.busy": "2024-12-14T16:06:20.148901Z",
     "iopub.status.idle": "2024-12-14T16:06:20.153721Z",
     "shell.execute_reply": "2024-12-14T16:06:20.152845Z",
     "shell.execute_reply.started": "2024-12-14T16:06:20.149400Z"
    },
    "id": "Aq5MkUKCzpxg",
    "trusted": true
   },
   "outputs": [],
   "source": [
    "def transform(img, img_size=(224, 224)):\n",
    "    img = img.resize(img_size)\n",
    "    # Convert the image to a NumPy array and select the RGB channels (first 3 channels)\n",
    "    img = np.array(img)[..., :3]\n",
    "    \n",
    "    # Convert the image to a PyTorch tensor and change the shape to (channels, height, width)\n",
    "    img = torch.tensor(img).permute(2, 0, 1).float()\n",
    "    \n",
    "    # Normalize the image by dividing pixel values by 255, scaling them to the range [0, 1]\n",
    "    normalized_img = img / 255.0\n",
    "    return normalized_img"
   ]
  },
  {
   "cell_type": "code",
   "execution_count": 29,
   "metadata": {
    "colab": {
     "base_uri": "https://localhost:8080/"
    },
    "execution": {
     "iopub.execute_input": "2024-12-14T16:06:20.314441Z",
     "iopub.status.busy": "2024-12-14T16:06:20.314181Z",
     "iopub.status.idle": "2024-12-14T16:06:20.320507Z",
     "shell.execute_reply": "2024-12-14T16:06:20.319630Z",
     "shell.execute_reply.started": "2024-12-14T16:06:20.314415Z"
    },
    "id": "vRYaaWkh07HK",
    "outputId": "b3e8550c-e5c7-4705-d276-8e214729dc71",
    "trusted": true
   },
   "outputs": [
    {
     "data": {
      "text/plain": [
       "(6004, 1373, 858)"
      ]
     },
     "execution_count": 29,
     "metadata": {},
     "output_type": "execute_result"
    }
   ],
   "source": [
    "train_dataset = WeatherDataset(X_train, y_train, transform=transform)\n",
    "val_dataset = WeatherDataset(X_val, y_val, transform=transform)\n",
    "test_dataset = WeatherDataset(X_test, y_test, transform=transform)\n",
    "\n",
    "len(train_dataset), len(val_dataset), len(test_dataset)"
   ]
  },
  {
   "cell_type": "markdown",
   "metadata": {},
   "source": [
    "Creating DataLoaders for training, validation, and test sets"
   ]
  },
  {
   "cell_type": "code",
   "execution_count": 30,
   "metadata": {
    "colab": {
     "base_uri": "https://localhost:8080/"
    },
    "execution": {
     "iopub.execute_input": "2024-12-14T16:06:20.483399Z",
     "iopub.status.busy": "2024-12-14T16:06:20.483093Z",
     "iopub.status.idle": "2024-12-14T16:06:20.490211Z",
     "shell.execute_reply": "2024-12-14T16:06:20.489429Z",
     "shell.execute_reply.started": "2024-12-14T16:06:20.483374Z"
    },
    "id": "pspS6WR81OrE",
    "outputId": "7246c52c-d056-47f7-e3cc-4669b569e3c2",
    "trusted": true
   },
   "outputs": [
    {
     "data": {
      "text/plain": [
       "(12, 172, 108)"
      ]
     },
     "execution_count": 30,
     "metadata": {},
     "output_type": "execute_result"
    }
   ],
   "source": [
    "train_loader = DataLoader(train_dataset, batch_size=512, shuffle=True)\n",
    "val_loader = DataLoader(val_dataset, batch_size=8, shuffle=False)\n",
    "test_loader = DataLoader(test_dataset, batch_size=8, shuffle=False)\n",
    "\n",
    "len(train_loader), len(val_loader), len(test_loader)"
   ]
  },
  {
   "cell_type": "markdown",
   "metadata": {},
   "source": [
    "## ResNet Training and Evaluation"
   ]
  },
  {
   "cell_type": "markdown",
   "metadata": {},
   "source": [
    "### Training and Evaluation Functions for Model"
   ]
  },
  {
   "cell_type": "code",
   "execution_count": 34,
   "metadata": {
    "execution": {
     "iopub.execute_input": "2024-12-14T16:06:21.410701Z",
     "iopub.status.busy": "2024-12-14T16:06:21.410421Z",
     "iopub.status.idle": "2024-12-14T16:06:21.416816Z",
     "shell.execute_reply": "2024-12-14T16:06:21.415893Z",
     "shell.execute_reply.started": "2024-12-14T16:06:21.410676Z"
    },
    "id": "H84PC_MU5ccy",
    "trusted": true
   },
   "outputs": [],
   "source": [
    "def evaluate(model, dataloader, criterion, device):\n",
    "    model.eval()\n",
    "    correct, total = 0, 0\n",
    "    losses = []\n",
    "\n",
    "    with torch.no_grad():\n",
    "        for inputs, labels in dataloader:\n",
    "            inputs, labels = inputs.to(device), labels.to(device)\n",
    "\n",
    "            # Forward pass\n",
    "            outputs = model(inputs)\n",
    "            loss = criterion(outputs, labels)\n",
    "            losses.append(loss.item())\n",
    "\n",
    "            # Calculate predictions\n",
    "            _, preds = torch.max(outputs.data, 1)\n",
    "            total += labels.size(0)\n",
    "            correct += (preds == labels).sum().item()\n",
    "\n",
    "    # Calculate average loss and accuracy\n",
    "    loss = sum(losses) / len(losses)\n",
    "    acc = correct / total\n",
    "    return loss, acc"
   ]
  },
  {
   "cell_type": "code",
   "execution_count": 35,
   "metadata": {
    "execution": {
     "iopub.execute_input": "2024-12-14T16:06:21.418186Z",
     "iopub.status.busy": "2024-12-14T16:06:21.417881Z",
     "iopub.status.idle": "2024-12-14T16:06:21.428964Z",
     "shell.execute_reply": "2024-12-14T16:06:21.428212Z",
     "shell.execute_reply.started": "2024-12-14T16:06:21.418137Z"
    },
    "id": "iamHWNKn6LZN",
    "trusted": true
   },
   "outputs": [],
   "source": [
    "def fit(model, train_loader, val_loader, criterion, optimizer, device, epochs):\n",
    "    train_losses, val_losses = [], []\n",
    "    train_accuracies, val_accuracies = [], []\n",
    "\n",
    "    for epoch in range(epochs):\n",
    "        model.train()\n",
    "        batch_train_losses = []\n",
    "        correct, total = 0, 0\n",
    "\n",
    "        for inputs, labels in train_loader:\n",
    "            inputs, labels = inputs.to(device), labels.to(device)\n",
    "\n",
    "            # Zero the parameter gradients\n",
    "            optimizer.zero_grad()\n",
    "\n",
    "            # Forward pass\n",
    "            outputs = model(inputs)\n",
    "            loss = criterion(outputs, labels)\n",
    "            loss.backward() # Backpropagation\n",
    "            optimizer.step() # Update weights\n",
    "\n",
    "            batch_train_losses.append(loss.item())\n",
    "\n",
    "            _, preds = torch.max(outputs.data, dim=1)\n",
    "            total += labels.size(0)\n",
    "            correct += (preds == labels).sum().item()\n",
    "\n",
    "        # Calculate average training loss for the epoch\n",
    "        train_loss = sum(batch_train_losses) / len(batch_train_losses)\n",
    "        train_acc = correct / total\n",
    "        train_losses.append(train_loss)\n",
    "        train_accuracies.append(train_acc)\n",
    "\n",
    "        # Validate the model\n",
    "        val_loss, val_acc = evaluate(model, val_loader, criterion, device)\n",
    "        val_losses.append(val_loss)\n",
    "        val_accuracies.append(val_acc)\n",
    "\n",
    "        print(\n",
    "            f\"Epoch {epoch + 1}/{epochs}:\\t\"\n",
    "            f\"Train Loss: {train_loss:.4f}\\tTrain Acc: {train_acc:.4f}\\t\"\n",
    "            f\"Val Loss: {val_loss:.4f}\\tVal Acc: {val_acc:.4f}\"\n",
    "        )\n",
    "\n",
    "    return train_losses, train_accuracies, val_losses, val_accuracies"
   ]
  },
  {
   "cell_type": "markdown",
   "metadata": {},
   "source": [
    "### ResNet Model Implementation"
   ]
  },
  {
   "cell_type": "code",
   "execution_count": 31,
   "metadata": {
    "execution": {
     "iopub.execute_input": "2024-12-14T16:06:20.648794Z",
     "iopub.status.busy": "2024-12-14T16:06:20.648565Z",
     "iopub.status.idle": "2024-12-14T16:06:20.655431Z",
     "shell.execute_reply": "2024-12-14T16:06:20.654508Z",
     "shell.execute_reply.started": "2024-12-14T16:06:20.648772Z"
    },
    "id": "hNNXyOXl2DMq",
    "trusted": true
   },
   "outputs": [],
   "source": [
    "class ResidualBlock(nn.Module):\n",
    "    def __init__(self, in_channels, out_channels, stride=1):\n",
    "        super(ResidualBlock, self).__init__()\n",
    "        self.conv1 = nn.Conv2d(in_channels, out_channels, kernel_size=3, stride=stride, padding=1)\n",
    "        self.bn1 = nn.BatchNorm2d(out_channels)\n",
    "        self.relu = nn.ReLU()\n",
    "        self.conv2 = nn.Conv2d(out_channels, out_channels, kernel_size=3, stride=1, padding=1)\n",
    "        self.bn2 = nn.BatchNorm2d(out_channels)\n",
    "\n",
    "        self.downsample = nn.Sequential()\n",
    "        if stride != 1 or in_channels != out_channels:\n",
    "            self.downsample = nn.Sequential(\n",
    "                nn.Conv2d(in_channels, out_channels, kernel_size=1, stride=stride),\n",
    "                nn.BatchNorm2d(out_channels)\n",
    "            )\n",
    "\n",
    "    def forward(self, x):\n",
    "        shortcut = x.clone()\n",
    "        x = self.conv1(x)\n",
    "        x = self.bn1(x)\n",
    "        x = self.relu(x)\n",
    "        x = self.conv2(x)\n",
    "        x = self.bn2(x)\n",
    "        x += self.downsample(shortcut)\n",
    "        x = self.relu(x)\n",
    "        return x"
   ]
  },
  {
   "cell_type": "code",
   "execution_count": 32,
   "metadata": {
    "execution": {
     "iopub.execute_input": "2024-12-14T16:06:20.810029Z",
     "iopub.status.busy": "2024-12-14T16:06:20.809739Z",
     "iopub.status.idle": "2024-12-14T16:06:20.820106Z",
     "shell.execute_reply": "2024-12-14T16:06:20.819199Z",
     "shell.execute_reply.started": "2024-12-14T16:06:20.810001Z"
    },
    "id": "d2a40rGn3mmw",
    "trusted": true
   },
   "outputs": [],
   "source": [
    "class ResNet(nn.Module):\n",
    "    def __init__(self, residual_block, n_blocks_lst, n_classes):\n",
    "        super(ResNet, self).__init__()\n",
    "        self.conv1 = nn.Conv2d(3, 64, kernel_size=7, stride=2, padding=3)\n",
    "        self.bn1 = nn.BatchNorm2d(64)\n",
    "        self.relu = nn.ReLU()\n",
    "        self.maxpool = nn.MaxPool2d(kernel_size=3, stride=2, padding=1)\n",
    "\n",
    "        self.conv2 = self.create_layer(residual_block, 64, 64, n_blocks_lst[0], 1)\n",
    "        self.conv3 = self.create_layer(residual_block, 64, 128, n_blocks_lst[1], 2)\n",
    "        self.conv4 = self.create_layer(residual_block, 128, 256, n_blocks_lst[2], 2)\n",
    "        self.conv5 = self.create_layer(residual_block, 256, 512, n_blocks_lst[3], 2)\n",
    "\n",
    "        self.avgpool = nn.AvgPool2d(1)\n",
    "        self.flatten = nn.Flatten()\n",
    "        self.fc1 = nn.Linear(512, n_classes)\n",
    "\n",
    "    def create_layer(self, residual_block, in_channels, out_channels, n_blocks, stride):\n",
    "        blocks = []\n",
    "        first_block = residual_block(in_channels, out_channels, stride)\n",
    "        blocks.append(first_block)\n",
    "\n",
    "        for idx in range(1, n_blocks):\n",
    "            block = residual_block(out_channels, out_channels, stride)\n",
    "            blocks.append(block)\n",
    "\n",
    "        block_sequential = nn.Sequential(*blocks)\n",
    "        return block_sequential\n",
    "\n",
    "    def forward(self, x):\n",
    "        x = self.conv1(x)\n",
    "        x = self.bn1(x)\n",
    "        x = self.maxpool(x)\n",
    "        x = self.relu(x)\n",
    "        x = self.conv2(x)\n",
    "        x = self.conv3(x)\n",
    "        x = self.conv4(x)\n",
    "        x = self.conv5(x)\n",
    "        x = self.avgpool(x)\n",
    "        x = self.flatten(x)\n",
    "        x = self.fc1(x)\n",
    "        return x\n"
   ]
  },
  {
   "cell_type": "markdown",
   "metadata": {},
   "source": [
    "### Training model"
   ]
  },
  {
   "cell_type": "code",
   "execution_count": 33,
   "metadata": {
    "execution": {
     "iopub.execute_input": "2024-12-14T16:06:20.976453Z",
     "iopub.status.busy": "2024-12-14T16:06:20.976169Z",
     "iopub.status.idle": "2024-12-14T16:06:21.409006Z",
     "shell.execute_reply": "2024-12-14T16:06:21.408320Z",
     "shell.execute_reply.started": "2024-12-14T16:06:20.976424Z"
    },
    "id": "w6yKYoov5H7S",
    "trusted": true
   },
   "outputs": [],
   "source": [
    "n_classes = len(list(classes.keys()))\n",
    "\n",
    "device = \"cuda\" if torch.cuda.is_available() else \"cpu\"\n",
    "\n",
    "model = ResNet(residual_block=ResidualBlock, n_blocks_lst=[2, 2, 2, 2], n_classes=n_classes).to(device)"
   ]
  },
  {
   "cell_type": "code",
   "execution_count": 36,
   "metadata": {
    "execution": {
     "iopub.execute_input": "2024-12-14T16:06:21.581425Z",
     "iopub.status.busy": "2024-12-14T16:06:21.581119Z",
     "iopub.status.idle": "2024-12-14T16:44:13.659291Z",
     "shell.execute_reply": "2024-12-14T16:44:13.658347Z",
     "shell.execute_reply.started": "2024-12-14T16:06:21.581401Z"
    },
    "id": "zEV-w0MF7T69",
    "trusted": true
   },
   "outputs": [
    {
     "name": "stdout",
     "output_type": "stream",
     "text": [
      "Epoch 1/35:\tTrain Loss: 1.8018\tTrain Acc: 0.3987\tVal Loss: 2.3852\tVal Acc: 0.1173\n",
      "Epoch 2/35:\tTrain Loss: 1.1981\tTrain Acc: 0.6209\tVal Loss: 2.3562\tVal Acc: 0.1500\n",
      "Epoch 3/35:\tTrain Loss: 0.9285\tTrain Acc: 0.7185\tVal Loss: 1.9872\tVal Acc: 0.3430\n",
      "Epoch 4/35:\tTrain Loss: 0.7382\tTrain Acc: 0.7966\tVal Loss: 1.3631\tVal Acc: 0.5615\n",
      "Epoch 5/35:\tTrain Loss: 0.6165\tTrain Acc: 0.8383\tVal Loss: 0.8897\tVal Acc: 0.7167\n",
      "Epoch 6/35:\tTrain Loss: 0.4681\tTrain Acc: 0.8944\tVal Loss: 0.9715\tVal Acc: 0.6977\n",
      "Epoch 7/35:\tTrain Loss: 0.3596\tTrain Acc: 0.9287\tVal Loss: 0.9310\tVal Acc: 0.7043\n",
      "Epoch 8/35:\tTrain Loss: 0.2654\tTrain Acc: 0.9555\tVal Loss: 0.8698\tVal Acc: 0.7363\n",
      "Epoch 9/35:\tTrain Loss: 0.1833\tTrain Acc: 0.9758\tVal Loss: 0.6769\tVal Acc: 0.7961\n",
      "Epoch 10/35:\tTrain Loss: 0.1327\tTrain Acc: 0.9840\tVal Loss: 0.5909\tVal Acc: 0.8172\n",
      "Epoch 11/35:\tTrain Loss: 0.0971\tTrain Acc: 0.9905\tVal Loss: 0.6005\tVal Acc: 0.8128\n",
      "Epoch 12/35:\tTrain Loss: 0.0758\tTrain Acc: 0.9955\tVal Loss: 0.6101\tVal Acc: 0.8135\n",
      "Epoch 13/35:\tTrain Loss: 0.0729\tTrain Acc: 0.9923\tVal Loss: 0.5554\tVal Acc: 0.8223\n",
      "Epoch 14/35:\tTrain Loss: 0.0468\tTrain Acc: 0.9980\tVal Loss: 0.5455\tVal Acc: 0.8165\n",
      "Epoch 15/35:\tTrain Loss: 0.0388\tTrain Acc: 0.9990\tVal Loss: 0.5436\tVal Acc: 0.8245\n",
      "Epoch 16/35:\tTrain Loss: 0.0326\tTrain Acc: 0.9990\tVal Loss: 0.5379\tVal Acc: 0.8208\n",
      "Epoch 17/35:\tTrain Loss: 0.0302\tTrain Acc: 0.9995\tVal Loss: 0.5439\tVal Acc: 0.8281\n",
      "Epoch 18/35:\tTrain Loss: 0.0258\tTrain Acc: 0.9992\tVal Loss: 0.5363\tVal Acc: 0.8267\n",
      "Epoch 19/35:\tTrain Loss: 0.0225\tTrain Acc: 0.9997\tVal Loss: 0.5454\tVal Acc: 0.8245\n",
      "Epoch 20/35:\tTrain Loss: 0.0193\tTrain Acc: 0.9995\tVal Loss: 0.5446\tVal Acc: 0.8259\n",
      "Epoch 21/35:\tTrain Loss: 0.0204\tTrain Acc: 0.9992\tVal Loss: 0.5409\tVal Acc: 0.8245\n",
      "Epoch 22/35:\tTrain Loss: 0.0197\tTrain Acc: 0.9993\tVal Loss: 0.5403\tVal Acc: 0.8288\n",
      "Epoch 23/35:\tTrain Loss: 0.0166\tTrain Acc: 0.9995\tVal Loss: 0.5398\tVal Acc: 0.8267\n",
      "Epoch 24/35:\tTrain Loss: 0.0146\tTrain Acc: 0.9997\tVal Loss: 0.5425\tVal Acc: 0.8259\n",
      "Epoch 25/35:\tTrain Loss: 0.0135\tTrain Acc: 0.9997\tVal Loss: 0.5445\tVal Acc: 0.8252\n",
      "Epoch 26/35:\tTrain Loss: 0.0143\tTrain Acc: 0.9995\tVal Loss: 0.5478\tVal Acc: 0.8223\n",
      "Epoch 27/35:\tTrain Loss: 0.0133\tTrain Acc: 0.9995\tVal Loss: 0.5457\tVal Acc: 0.8259\n",
      "Epoch 28/35:\tTrain Loss: 0.0111\tTrain Acc: 0.9998\tVal Loss: 0.5469\tVal Acc: 0.8230\n",
      "Epoch 29/35:\tTrain Loss: 0.0102\tTrain Acc: 0.9995\tVal Loss: 0.5461\tVal Acc: 0.8216\n",
      "Epoch 30/35:\tTrain Loss: 0.0104\tTrain Acc: 0.9995\tVal Loss: 0.5454\tVal Acc: 0.8267\n",
      "Epoch 31/35:\tTrain Loss: 0.0095\tTrain Acc: 0.9997\tVal Loss: 0.5487\tVal Acc: 0.8267\n",
      "Epoch 32/35:\tTrain Loss: 0.0094\tTrain Acc: 0.9997\tVal Loss: 0.5464\tVal Acc: 0.8274\n",
      "Epoch 33/35:\tTrain Loss: 0.0085\tTrain Acc: 0.9997\tVal Loss: 0.5480\tVal Acc: 0.8259\n",
      "Epoch 34/35:\tTrain Loss: 0.0083\tTrain Acc: 0.9995\tVal Loss: 0.5505\tVal Acc: 0.8245\n",
      "Epoch 35/35:\tTrain Loss: 0.0079\tTrain Acc: 0.9998\tVal Loss: 0.5476\tVal Acc: 0.8245\n"
     ]
    }
   ],
   "source": [
    "epochs = 35\n",
    "criterion = nn.CrossEntropyLoss()\n",
    "optimizer = torch.optim.SGD(model.parameters(), lr=1e-2)\n",
    "train_losses, train_accuracies, val_losses, val_accuracies = fit(\n",
    "    model,\n",
    "    train_loader,\n",
    "    val_loader,\n",
    "    criterion,\n",
    "    optimizer,\n",
    "    device,\n",
    "    epochs=epochs\n",
    ")"
   ]
  },
  {
   "cell_type": "code",
   "execution_count": 42,
   "metadata": {
    "execution": {
     "iopub.execute_input": "2024-12-14T16:46:28.689843Z",
     "iopub.status.busy": "2024-12-14T16:46:28.688946Z",
     "iopub.status.idle": "2024-12-14T16:46:29.159414Z",
     "shell.execute_reply": "2024-12-14T16:46:29.158462Z",
     "shell.execute_reply.started": "2024-12-14T16:46:28.689808Z"
    },
    "trusted": true
   },
   "outputs": [
    {
     "data": {
      "image/png": "[encoded data removed]",
      "text/plain": [
       "<Figure size 1200x600 with 2 Axes>"
      ]
     },
     "metadata": {},
     "output_type": "display_data"
    }
   ],
   "source": [
    "plt.figure(figsize=(12, 6))\n",
    "\n",
    "# Loss Plot\n",
    "plt.subplot(1, 2, 1)\n",
    "plt.plot(train_losses, label='Train Loss')\n",
    "plt.plot(val_losses, label='Validation Loss')\n",
    "plt.title('Loss Over Epochs')\n",
    "plt.xlabel('Epochs')\n",
    "plt.ylabel('Loss')\n",
    "plt.legend()\n",
    "plt.grid()\n",
    "\n",
    "# Accuracy Plot\n",
    "plt.subplot(1, 2, 2)\n",
    "plt.plot(train_accuracies, label='Train Accuracy')\n",
    "plt.plot(val_accuracies, label='Validation Accuracy')\n",
    "plt.title('Accuracy Over Epochs')\n",
    "plt.xlabel('Epochs')\n",
    "plt.ylabel('Accuracy')\n",
    "plt.legend()\n",
    "plt.grid()\n",
    "\n",
    "plt.tight_layout()\n",
    "plt.show()"
   ]
  },
  {
   "cell_type": "markdown",
   "metadata": {},
   "source": [
    "### Evaluation model"
   ]
  },
  {
   "cell_type": "code",
   "execution_count": 38,
   "metadata": {
    "execution": {
     "iopub.execute_input": "2024-12-14T16:44:13.964085Z",
     "iopub.status.busy": "2024-12-14T16:44:13.963832Z",
     "iopub.status.idle": "2024-12-14T16:44:29.248693Z",
     "shell.execute_reply": "2024-12-14T16:44:29.247753Z",
     "shell.execute_reply.started": "2024-12-14T16:44:13.964060Z"
    },
    "id": "Q5VVfKaYgylQ",
    "trusted": true
   },
   "outputs": [
    {
     "name": "stdout",
     "output_type": "stream",
     "text": [
      "Evaluation on val/test dataset:\n",
      "Validation accuracy:  0.8244719592134013\n",
      "Test accuracy:  0.7191142191142191\n"
     ]
    }
   ],
   "source": [
    "val_loss, val_acc = evaluate(model, val_loader, criterion, device)\n",
    "test_loss, test_acc = evaluate(model, test_loader, criterion, device)\n",
    "\n",
    "print(\"Evaluation on val/test dataset:\")\n",
    "print(\"Validation accuracy: \", val_acc)\n",
    "print(\"Test accuracy: \", test_acc)"
   ]
  }
 ],
 "metadata": {
  "accelerator": "GPU",
  "colab": {
   "gpuType": "T4",
   "provenance": []
  },
  "kaggle": {
   "accelerator": "nvidiaTeslaT4",
   "dataSources": [],
   "dockerImageVersionId": 30805,
   "isGpuEnabled": true,
   "isInternetEnabled": true,
   "language": "python",
   "sourceType": "notebook"
  },
  "kernelspec": {
   "display_name": "py312",
   "language": "python",
   "name": "python3"
  },
  "language_info": {
   "codemirror_mode": {
    "name": "ipython",
    "version": 3
   },
   "file_extension": ".py",
   "mimetype": "text/x-python",
   "name": "python",
   "nbconvert_exporter": "python",
   "pygments_lexer": "ipython3",
   "version": "undefined.undefined.undefined"
  }
 },
 "nbformat": 4,
 "nbformat_minor": 4
}

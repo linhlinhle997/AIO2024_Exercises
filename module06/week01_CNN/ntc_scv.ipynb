{
 "cells": [
  {
   "cell_type": "markdown",
   "metadata": {
    "colab_type": "text",
    "id": "view-in-github"
   },
   "source": [
    "<a href=\"https://colab.research.google.com/github/linhlinhle997/AIO2024_Exercises/blob/feature%2Fexercices-module06/AIO2024_Exercises/module06%20/week01_CNN/ntc_scv.ipynb\" target=\"_parent\"><img src=\"https://colab.research.google.com/assets/colab-badge.svg\" alt=\"Open In Colab\"/></a>"
   ]
  },
  {
   "cell_type": "code",
   "execution_count": null,
   "metadata": {
    "id": "Nu2bhBz40ouY"
   },
   "outputs": [],
   "source": [
    "!git clone https://github.com/congnghia0609/ntc-scv.git\n",
    "!unzip ./ntc-scv/data/data_test.zip -d ./data\n",
    "!unzip ./ntc-scv/data/data_train.zip -d ./data\n",
    "!rm -rf ./ntc-scv"
   ]
  },
  {
   "cell_type": "code",
   "execution_count": null,
   "metadata": {
    "id": "bD3Lhd-y0ouY"
   },
   "outputs": [],
   "source": [
    "!pip install langid"
   ]
  },
  {
   "cell_type": "code",
   "execution_count": null,
   "metadata": {
    "id": "_GALJ_a80ouZ"
   },
   "outputs": [],
   "source": [
    "!pip install torchtext==0.16.0"
   ]
  },
  {
   "cell_type": "code",
   "execution_count": 6,
   "metadata": {
    "id": "_Hvrt71F0ouZ"
   },
   "outputs": [],
   "source": [
    "import os\n",
    "import pandas as pd\n",
    "import re\n",
    "import string\n",
    "import time\n",
    "import matplotlib.pyplot as plt\n",
    "\n",
    "from langid.langid import LanguageIdentifier, model\n",
    "from torchtext.data.utils import get_tokenizer\n",
    "from torchtext.vocab import build_vocab_from_iterator\n",
    "from torchtext.data.functional import to_map_style_dataset\n",
    "from torchtext.data.utils import get_tokenizer\n",
    "\n",
    "import torch\n",
    "import torch.nn as nn\n",
    "from torch.nn.utils.rnn import pad_sequence\n",
    "from torch.utils.data import DataLoader\n",
    "import torch.nn.functional as F"
   ]
  },
  {
   "cell_type": "markdown",
   "metadata": {
    "id": "fmxg7v3p0ouZ"
   },
   "source": [
    "## Preprocessing data"
   ]
  },
  {
   "cell_type": "code",
   "execution_count": 7,
   "metadata": {
    "id": "Wd0gm6Bd0oua"
   },
   "outputs": [],
   "source": [
    "def load_data_from_path(folder_path):\n",
    "    examples = []\n",
    "    for label in os.listdir(folder_path):\n",
    "        full_path = os.path.join(folder_path, label)\n",
    "        for file_name in os.listdir(full_path):\n",
    "            file_path = os.path.join(full_path, file_name)\n",
    "            with open(file_path, \"r\", encoding=\"utf-8\") as f:\n",
    "                lines = f.readlines()\n",
    "            sentence = \"\".join(lines)\n",
    "            if label == \"neg\":\n",
    "                label = 0\n",
    "            if label == \"pos\":\n",
    "                label = 1\n",
    "            data = {\n",
    "                \"sentence\": sentence,\n",
    "                \"label\": label\n",
    "            }\n",
    "            examples.append(data)\n",
    "    return pd.DataFrame(examples)"
   ]
  },
  {
   "cell_type": "code",
   "execution_count": 8,
   "metadata": {
    "id": "XirzAUMd0oua"
   },
   "outputs": [],
   "source": [
    "folder_paths = {\n",
    "    \"train\": \"./data/data_train/train\",\n",
    "    \"valid\": \"./data/data_train/test\",\n",
    "    \"test\": \"./data/data_test/test\",\n",
    "}\n",
    "\n",
    "train_df = load_data_from_path(folder_paths[\"train\"])\n",
    "valid_df = load_data_from_path(folder_paths[\"valid\"])\n",
    "test_df = load_data_from_path(folder_paths[\"test\"])"
   ]
  },
  {
   "cell_type": "code",
   "execution_count": 9,
   "metadata": {
    "id": "diiY0bZ_0oub"
   },
   "outputs": [],
   "source": [
    "def identify_vn(df):\n",
    "    identifier = LanguageIdentifier.from_modelstring(model, norm_probs=True)\n",
    "    not_vi_idx = set()\n",
    "    THRESHOLD = 0.9\n",
    "    for idx, row in df.iterrows():\n",
    "        # Get the classification result and probability for the sentence\n",
    "        score = identifier.classify(row[\"sentence\"])\n",
    "\n",
    "        # Check if the sentence is not Vietnamese or has low probability for Vietnamese\n",
    "        if score[0] != \"vi\" or (score[0] == \"vi\" and score[1] <= THRESHOLD):\n",
    "            not_vi_idx.add(idx) # Add index of non-Vietnamese sentences to the set\n",
    "\n",
    "    # Create DataFrames: one for Vietnamese sentences and one for non-Vietnamese sentences\n",
    "    vi_df = df[~df.index.isin(not_vi_idx)]\n",
    "    not_vi_df = df[df.index.isin(not_vi_idx)]\n",
    "    return vi_df, not_vi_df"
   ]
  },
  {
   "cell_type": "code",
   "execution_count": 10,
   "metadata": {
    "id": "YZNIw_NK0oub"
   },
   "outputs": [],
   "source": [
    "train_df_vi, train_df_other = identify_vn(train_df)"
   ]
  },
  {
   "cell_type": "code",
   "execution_count": 11,
   "metadata": {
    "id": "mfJBmGAU0oub"
   },
   "outputs": [],
   "source": [
    "def preprocess_text(text):\n",
    "    # Remove URLs\n",
    "    url_pattern = re.compile(r'https?://\\s+\\wwww\\.\\s+')\n",
    "    text = url_pattern.sub(\" \", text)\n",
    "\n",
    "    # Remove HTML tags\n",
    "    html_pattern = re.compile(r\"<[^<>]+>\")\n",
    "    text = html_pattern.sub(\" \", text)\n",
    "\n",
    "    # Remove punctuation and digits\n",
    "    replace_chars = list(string.punctuation + string.digits)\n",
    "    for char in replace_chars:\n",
    "        text = text.replace(char, \" \")\n",
    "\n",
    "    emoji_pattern = re.compile(\n",
    "        r\"[\"  # Start of the character class for emojis\n",
    "        u\"\\U0001F600-\\U0001F64F\"  # Emoticons\n",
    "        u\"\\U0001F300-\\U0001F5FF\"  # Symbols & pictographs\n",
    "        u\"\\U0001F680-\\U0001F6FF\"  # Transport & map symbols\n",
    "        u\"\\U0001F1E0-\\U0001F1FF\"  # Flags (iOS)\n",
    "        u\"\\U0001F1F2-\\U0001F1F4\"  # Macau flag\n",
    "        u\"\\U0001F1E6-\\U0001F1FF\"  # Flags\n",
    "        u\"\\U00002702-\\U000027B0\"  # Miscellaneous symbols\n",
    "        u\"\\U000024C2-\\U0001F251\"  # Enclosed characters\n",
    "        u\"\\U0001F926-\\U0001F937\"  # Emoticons (facepalm, etc.)\n",
    "        u\"\\U0001F1F2\"              # Some specific flag\n",
    "        u\"\\U0001F1F4\"              # More specific flags\n",
    "        u\"\\U0001F620\"              # More emoticons\n",
    "        u\"\\u200d\"                  # Zero width joiner (used in some emojis)\n",
    "        u\"\\u2640-\\u2642\"           # Gender symbols\n",
    "        \"]+\", flags=re.UNICODE\n",
    "    )\n",
    "    text = emoji_pattern.sub(\" \", text)\n",
    "\n",
    "    # Normalize white spaces by splitting and joining the words\n",
    "    text = \" \".join(text.split())\n",
    "\n",
    "    # Convert text to lowercase\n",
    "    return text.lower()"
   ]
  },
  {
   "cell_type": "code",
   "execution_count": 12,
   "metadata": {
    "colab": {
     "base_uri": "https://localhost:8080/"
    },
    "id": "DLiCw8az0ouc",
    "outputId": "3b0293ab-0988-49df-a821-cfaefb87144f"
   },
   "outputs": [
    {
     "name": "stderr",
     "output_type": "stream",
     "text": [
      "<ipython-input-12-09f7a3c1bff9>:1: SettingWithCopyWarning: \n",
      "A value is trying to be set on a copy of a slice from a DataFrame.\n",
      "Try using .loc[row_indexer,col_indexer] = value instead\n",
      "\n",
      "See the caveats in the documentation: https://pandas.pydata.org/pandas-docs/stable/user_guide/indexing.html#returning-a-view-versus-a-copy\n",
      "  train_df_vi[\"preprocess_sentence\"] = [preprocess_text(row[\"sentence\"]) for idx, row in train_df_vi.iterrows()]\n"
     ]
    }
   ],
   "source": [
    "train_df_vi[\"preprocess_sentence\"] = [preprocess_text(row[\"sentence\"]) for idx, row in train_df_vi.iterrows()]\n",
    "valid_df[\"preprocess_sentence\"] = [preprocess_text(row[\"sentence\"]) for idx, row in valid_df.iterrows()]\n",
    "test_df[\"preprocess_sentence\"] = [preprocess_text(row[\"sentence\"]) for idx, row in test_df.iterrows()]"
   ]
  },
  {
   "cell_type": "code",
   "execution_count": 13,
   "metadata": {
    "colab": {
     "base_uri": "https://localhost:8080/",
     "height": 293
    },
    "id": "1jjbLUzC0ouc",
    "outputId": "d4eb34fa-8a87-4df9-ff41-9705d434cafa"
   },
   "outputs": [
    {
     "data": {
      "application/vnd.google.colaboratory.intrinsic+json": {
       "summary": "{\n  \"name\": \"train_df_vi[:5]\",\n  \"rows\": 5,\n  \"fields\": [\n    {\n      \"column\": \"sentence\",\n      \"properties\": {\n        \"dtype\": \"string\",\n        \"num_unique_values\": 5,\n        \"samples\": [\n          \"\\u1ede g\\u1ea7n nh\\u00e0 n\\u00ean c\\u0169ng gh\\u00e9 qua \\u0103n 2,3 l\\u1ea7n . Qu\\u00e1n c\\u00f3 nhi\\u1ec1u m\\u00f3n kh\\u00e1c_nhau nh\\u01b0ng h\\u00ecnh_nh\\u01b0 n\\u01b0\\u1edbc_l\\u00e8o l\\u00e0_c\\u00f9ng 1 lo\\u1ea1i . Ch\\u1ea5t_l\\u01b0\\u1ee3ng c\\u0169ng kh\\u00f4ng c\\u00f3 g\\u00ec \\u0111\\u1eb7c_s\\u1eafc . \\u0110i\\u1ec3m c\\u1ed9ng l\\u00e0 ngo\\u00e0i ngo\\u00e0i_tr\\u1eddi n\\u00ean t\\u01b0\\u01a1ng_\\u0111\\u1ed1i m\\u00e1t_m\\u1ebb , ch\\u1ed7 ch\\u1ebf_bi\\u1ebfn c\\u0169ng s\\u1ea1ch_s\\u1ebd n\\u1eefa ; )\\n\",\n          \"\\u0110\\u01b0\\u1ee3c b\\u1ea1n_b\\u00e8 gi\\u1edbi_thi\\u1ec7u v\\u1ec1 phong_c\\u00e1ch trang_tr\\u00ed l\\u1ea1 \\u1edf qu\\u00e1n v\\u1edbi chi\\u1ebfc bus l\\u1edbn c\\u0169ng ham_h\\u1ed1 \\u0111i th\\u1eed cho_bi\\u1ebft . .\\nTh\\u1eadt_t\\u00ecnh l\\u00e0 r\\u1ea5t th\\u1ea5t_v\\u1ecdng v\\u1ec1 m\\u1ecdi th\\u1ee9 \\u1edf qu\\u00e1n , t\\u1eeb \\u0111\\u1ed3_\\u0103n , n\\u01b0\\u1edbc u\\u1ed1ng cho_\\u0111\\u1ebfn th\\u00e1i_\\u0111\\u1ed9 ph\\u1ee5c_v\\u1ee5 c\\u1ee7a nh\\u00e2n_vi\\u00ean . .\\n+ Kh\\u00f4ng_gian : Do m\\u00ecnh \\u0111\\u1ebfn t\\u1ed1i n\\u00ean \\u0111\\u00f4ng hok c\\u00f3 ch\\u1ed7 ng\\u1ed3i , ph\\u1ea3i \\u0111\\u1ee3i 10p th\\u00ec m\\u1edbi \\u1ed5n_\\u0111\\u1ecbnh \\u0111c v\\u1ecb_tr\\u00ed . Nh\\u1eadn_x\\u00e9t chung v\\u1ec1 qu\\u00e1n th\\u00ec trang_tr\\u00ed \\u0111\\u1eb9p_m\\u1eaft , nh\\u00ecn l\\u1ea1_l\\u1ea1 v\\u1edbi chi\\u1ebfc bus v\\u00e0 gh\\u1ebf_ng\\u1ed3i . .\\n+ Th\\u00e1i_\\u0111\\u1ed9 nh\\u00e2n_vi\\u00ean : M\\u00ecnh v\\u00e0o ng\\u1ed3i t\\u1eadn 10p v\\u1eabn ch\\u01b0a nh\\u1eadn \\u0111c c\\u00e1i menu tr\\u00ean tay , trong khi nh\\u00e2n_vi\\u00ean th\\u00ec gi\\u1ee1n h\\u1edbt v\\u1edbi nhau r ch\\u1ea1y_ra_ch\\u1ea1y_v\\u00e0o ch\\u1eb3ng \\u0111\\u01b0a n\\u1ed7i cho kh\\u00e1ch c\\u00e1i menu , m\\u00ecnh ph\\u1ea3i g\\u1ecdi t\\u1eadn m\\u1ea5y l\\u1ea7n m\\u1edbi nh\\u1eadn \\u0111c menu g\\u1ecdi m\\u00f3n . Khi order th\\u00ec s\\u1eafc m\\u1eb7t c\\u1ee7a nh\\u00e2n_vi\\u00ean m\\u1ed9t \\u0111\\u1ed1ng r\\u1ea5t l\\u00e0 kh\\u00f3_coi , m\\u00ecnh l\\u00e0 ng\\u01b0\\u1eddi l\\u1ecbch_s\\u1ef1 n\\u00ean cho_qua , kh\\u00f4ng l\\u00e0 \\u0111\\u1ee9ng_d\\u1eady v\\u1ec1 ngay v\\u1edbi c\\u00e1i ki\\u1ec3u ph\\u1ee5c_v\\u1ee5 qu\\u00e1 t\\u1ec7 . M\\u00f3n \\u0111\\u01b0\\u1ee3c g\\u1ecdi v\\u00e0 thanh_to\\u00e1n ti\\u1ec1n tr\\u01b0\\u1edbc . M\\u00ecnh \\u0111\\u1ee3i kho\\u1ea3ng 20p ch\\u01b0a l\\u00ean \\u0111c n\\u01b0\\u1edbc n\\u00ean h\\u1ecfi th\\u00ec nv c\\u1ee9 k\\u00eau \\u0111ang l\\u00e0m . C\\u00f3 2 v\\u1ecb kh\\u00e1ch \\u0111\\u1ebfn sau , order c\\u0169ng sau m\\u00ecnh t\\u1eadn 20p m\\u00e0 h\\u1ecd l\\u1ea1i c\\u00f3 tr\\u01b0\\u1edbc c\\u00e1i m\\u00f3n \\\" B\\u00e1nh_m\\u00ec \\u0111\\u00fat l\\u00f2 ph\\u00f4_mai \\\" m\\u00ecnh g\\u1ecdi , c\\u1ea3m_th\\u1ea5y r\\u1ea5t kh\\u00f3_ch\\u1ecbu v\\u00ec \\u0111i\\u1ec1u n\\u00e0y . M\\u00ecnh \\u0111\\u1ee3i q\\u00e1 l\\u00e2u , c\\u0169ng c\\u00f9ng m\\u00f3n \\u0111\\u00f3 m\\u00e0 ngkh\\u00e1c \\u0111\\u1ebfn sau l\\u1ea1i c\\u00f3 tr\\u01b0\\u1edbc . N\\u1ebfu trong tr\\u01b0\\u1eddng_h\\u1ee3p ch\\u01b0a thanh_to\\u00e1n m\\u00ecnh \\u0111i_v\\u1ec1 ngay v\\u00ec \\u0111i\\u1ec1u n\\u00e0y , ch\\u1ea3_tr\\u00e1ch \\u0111\\u00e3 tr\\u1ea3 \\u0111\\u1ee7 ti\\u1ec1n n\\u00ean th\\u00f4i . . Phong_c\\u00e1ch ph\\u1ee5c_v\\u1ee5 hok chuy\\u00ean_nghi\\u1ec7p v\\u00e0 h\\u1ebft_s\\u1ee9c ch\\u1eadm_ch\\u1ea1p . . T\\u00ednh t\\u1ed5ng th\\u1eddi_gian l\\u00ean m\\u00f3n m\\u00ecnh nh\\u1eadn \\u0111c l\\u00e0 h\\u01a1n 30p : ) , s\\u1ebd kh\\u00f4ng_bao_gi\\u1edd quay l\\u1ea1i . .\\n+ \\u0110\\u1ed3_\\u0103n , th\\u1ee9c u\\u1ed1ng :\\n# Soda d\\u00e2u : Nh\\u1ea1t_nh\\u1ebdo v\\u00e0 hok c\\u00f3 v\\u1ecb d\\u00e2u r\\u00f5 , mi\\u1ebfng d\\u00e2u th\\u00ec_c\\u00f3 mi\\u1ebfng b\\u1ecb d\\u1eadp n\\u1eefa , hic , b\\u1ecf c\\u1ea3 ly . .\\n# Soda chanh v\\u1edbi Curacao : M\\u00ecnh l\\u00e0m b\\u00ean pha_ch\\u1ebf n\\u00ean bi\\u1ebft r\\u00f5 v\\u1ec1 syrup curacao , thg u\\u1ed1ng c\\u00f3 h\\u01b0\\u01a1ng v\\u1ecf cam , ng\\u1ecdt d\\u1ecbu khi d\\u00f9ng chung v\\u1edbi soda . . Nh\\u01b0ng m\\u00f3n n\\u00e0y b\\u00ean qu\\u00e1n nghe to\\u00e0n \\u0111\\u01b0\\u1eddng , u\\u1ed1ng r\\u1ea5t g\\u1eaft , hok gi\\u1ed1ng syrup curacao . . D\\u1edf t\\u1ec7 \\ud83d\\ude22 ...\\n# Tr\\u1ee9ng ki\\u1ec3u Scottland : C\\u00f3 d\\u00f9ng k\\u00e8m v\\u1edbi khoai n\\u00ean \\u0111\\u1ee1 ng\\u00e1n , tr\\u1ee9ng ki\\u1ec3u nh\\u00fang b\\u1ed9t r chi\\u00ean x\\u00f9 l\\u00ean n\\u00ean kh\\u00f4ng g\\u00ec \\u0111\\u1eb7c_bi\\u1ec7t , \\u0103n c\\u0169ng t\\u1ea1m . .\\n# B\\u00e1nh_m\\u00ec \\u0111\\u00fat l\\u00f2 v\\u1edbi H\\u1ea3i_S\\u1ea3n v\\u00e0 Heo_X\\u00f4ng_Kh\\u00f3i : Ph\\u00f4_mai trong m\\u00f3n n\\u00e0y b\\u00e9o ng\\u1eady , n\\u00f3ng_\\u0103n k\\u00e8m v\\u1edbi b\\u00e1nh_m\\u00ec th\\u00ec si\\u00eau ngon , r\\u1ea5t th\\u00edch m\\u00f3n n\\u00e0y . Nh\\u01b0ng_H\\u1ea3i s\\u1ea3n v\\u1edbi heo x\\u00f4ng kh\\u00f3i ch\\u1eb3ng nhi\\u00eau , ch\\u1ec9 th\\u1ea5y rau c\\u1ee7 th\\u00f4i . . B\\u00f9 l\\u1ea1i s\\u1ed1t ngon n\\u00ean c\\u0169ng \\u0111\\u00e1ng ti\\u1ec1n . \\u01afng \\u0111c c\\u00f3 m\\u1ed7i m\\u00f3n n\\u00e0y hic . .\\nT\\u1ed5ng_quan th\\u00ec qu\\u00e1n c\\u0169ng m\\u1edbi khai_tr\\u01b0\\u01a1ng n\\u00ean c\\u00f2n nhi\\u1ec1u thi\\u1ebfu x\\u00f3t , m\\u00ecnh c\\u0169ng ch\\u1ec9 \\u0103n r g\\u00f3p_\\u00fd qua th\\u00f4i , mong qu\\u00e1n s\\u1ebd thay_\\u0111\\u1ed5i v\\u00e0 ph\\u00e1t_tri\\u1ec3n h\\u01a1n . . Th\\u00e2n ... ! ! !\\n\",\n          \"Ta \\u0300 u hu \\u0309 c\\u01b0 \\u0323 c d\\u01a1 \\u0309 , nha \\u0323 t nhe \\u0303 o l\\u0103 \\u0301 m lu\\u00f4n ma \\u0300 b\\u01a1 \\u0309 n\\u01b0 \\u0303 a . Kh\\u00f4ng mi \\u0323 n be \\u0301 o gi \\u0300 h\\u00ea \\u0301 t . \\u0110\\u01b0\\u01a1 \\u0323 c m\\u00f4 \\u0303 i ca \\u0301 i hi \\u0300 nh th\\u01b0 \\u0301 c ma \\u0300 u me \\u0300 th\\u00f4i . Mojito thi \\u0300 pha ngon , r\\u00e2 \\u0301 t th\\u01a1m . No \\u0301 i chung n\\u00ea \\u0301 u co \\u0301 quay la \\u0323 i thi \\u0300 chi \\u0309 u\\u00f4 \\u0301 ng n\\u01b0\\u01a1 \\u0301 c th\\u00f4i\\n\"\n        ],\n        \"semantic_type\": \"\",\n        \"description\": \"\"\n      }\n    },\n    {\n      \"column\": \"label\",\n      \"properties\": {\n        \"dtype\": \"number\",\n        \"std\": 0,\n        \"min\": 0,\n        \"max\": 0,\n        \"num_unique_values\": 1,\n        \"samples\": [\n          0\n        ],\n        \"semantic_type\": \"\",\n        \"description\": \"\"\n      }\n    },\n    {\n      \"column\": \"preprocess_sentence\",\n      \"properties\": {\n        \"dtype\": \"string\",\n        \"num_unique_values\": 5,\n        \"samples\": [\n          \"\\u1edf g\\u1ea7n nh\\u00e0 n\\u00ean c\\u0169ng gh\\u00e9 qua \\u0103n l\\u1ea7n qu\\u00e1n c\\u00f3 nhi\\u1ec1u m\\u00f3n kh\\u00e1c nhau nh\\u01b0ng h\\u00ecnh nh\\u01b0 n\\u01b0\\u1edbc l\\u00e8o l\\u00e0 c\\u00f9ng lo\\u1ea1i ch\\u1ea5t l\\u01b0\\u1ee3ng c\\u0169ng kh\\u00f4ng c\\u00f3 g\\u00ec \\u0111\\u1eb7c s\\u1eafc \\u0111i\\u1ec3m c\\u1ed9ng l\\u00e0 ngo\\u00e0i ngo\\u00e0i tr\\u1eddi n\\u00ean t\\u01b0\\u01a1ng \\u0111\\u1ed1i m\\u00e1t m\\u1ebb ch\\u1ed7 ch\\u1ebf bi\\u1ebfn c\\u0169ng s\\u1ea1ch s\\u1ebd n\\u1eefa\"\n        ],\n        \"semantic_type\": \"\",\n        \"description\": \"\"\n      }\n    }\n  ]\n}",
       "type": "dataframe"
      },
      "text/html": [
       "\n",
       "  <div id=\"df-1b742936-0291-47c8-b424-24607037d0c0\" class=\"colab-df-container\">\n",
       "    <div>\n",
       "<style scoped>\n",
       "    .dataframe tbody tr th:only-of-type {\n",
       "        vertical-align: middle;\n",
       "    }\n",
       "\n",
       "    .dataframe tbody tr th {\n",
       "        vertical-align: top;\n",
       "    }\n",
       "\n",
       "    .dataframe thead th {\n",
       "        text-align: right;\n",
       "    }\n",
       "</style>\n",
       "<table border=\"1\" class=\"dataframe\">\n",
       "  <thead>\n",
       "    <tr style=\"text-align: right;\">\n",
       "      <th></th>\n",
       "      <th>sentence</th>\n",
       "      <th>label</th>\n",
       "      <th>preprocess_sentence</th>\n",
       "    </tr>\n",
       "  </thead>\n",
       "  <tbody>\n",
       "    <tr>\n",
       "      <th>0</th>\n",
       "      <td>Đi 2 lần r lần đầu kím đường muốn chết tới nơi...</td>\n",
       "      <td>0</td>\n",
       "      <td>đi lần r lần đầu kím đường muốn chết tới nơi t...</td>\n",
       "    </tr>\n",
       "    <tr>\n",
       "      <th>1</th>\n",
       "      <td>Ở gần nhà nên cũng ghé qua ăn 2,3 lần . Quán c...</td>\n",
       "      <td>0</td>\n",
       "      <td>ở gần nhà nên cũng ghé qua ăn lần quán có nhiề...</td>\n",
       "    </tr>\n",
       "    <tr>\n",
       "      <th>2</th>\n",
       "      <td>Ta ̀ u hu ̉ cư ̣ c dơ ̉ , nha ̣ t nhe ̃ o lă ́...</td>\n",
       "      <td>0</td>\n",
       "      <td>ta ̀ u hu ̉ cư ̣ c dơ ̉ nha ̣ t nhe ̃ o lă ́ m...</td>\n",
       "    </tr>\n",
       "    <tr>\n",
       "      <th>3</th>\n",
       "      <td>Đô ̀ ăn k qua ́ dơ ̉ nhưng cu ̃ ng chưa ngon :...</td>\n",
       "      <td>0</td>\n",
       "      <td>đô ̀ ăn k qua ́ dơ ̉ nhưng cu ̃ ng chưa ngon n...</td>\n",
       "    </tr>\n",
       "    <tr>\n",
       "      <th>4</th>\n",
       "      <td>Được bạn_bè giới_thiệu về phong_cách trang_trí...</td>\n",
       "      <td>0</td>\n",
       "      <td>được bạn bè giới thiệu về phong cách trang trí...</td>\n",
       "    </tr>\n",
       "  </tbody>\n",
       "</table>\n",
       "</div>\n",
       "    <div class=\"colab-df-buttons\">\n",
       "\n",
       "  <div class=\"colab-df-container\">\n",
       "    <button class=\"colab-df-convert\" onclick=\"convertToInteractive('df-1b742936-0291-47c8-b424-24607037d0c0')\"\n",
       "            title=\"Convert this dataframe to an interactive table.\"\n",
       "            style=\"display:none;\">\n",
       "\n",
       "  <svg xmlns=\"http://www.w3.org/2000/svg\" height=\"24px\" viewBox=\"0 -960 960 960\">\n",
       "    <path d=\"M120-120v-720h720v720H120Zm60-500h600v-160H180v160Zm220 220h160v-160H400v160Zm0 220h160v-160H400v160ZM180-400h160v-160H180v160Zm440 0h160v-160H620v160ZM180-180h160v-160H180v160Zm440 0h160v-160H620v160Z\"/>\n",
       "  </svg>\n",
       "    </button>\n",
       "\n",
       "  <style>\n",
       "    .colab-df-container {\n",
       "      display:flex;\n",
       "      gap: 12px;\n",
       "    }\n",
       "\n",
       "    .colab-df-convert {\n",
       "      background-color: #E8F0FE;\n",
       "      border: none;\n",
       "      border-radius: 50%;\n",
       "      cursor: pointer;\n",
       "      display: none;\n",
       "      fill: #1967D2;\n",
       "      height: 32px;\n",
       "      padding: 0 0 0 0;\n",
       "      width: 32px;\n",
       "    }\n",
       "\n",
       "    .colab-df-convert:hover {\n",
       "      background-color: #E2EBFA;\n",
       "      box-shadow: 0px 1px 2px rgba(60, 64, 67, 0.3), 0px 1px 3px 1px rgba(60, 64, 67, 0.15);\n",
       "      fill: #174EA6;\n",
       "    }\n",
       "\n",
       "    .colab-df-buttons div {\n",
       "      margin-bottom: 4px;\n",
       "    }\n",
       "\n",
       "    [theme=dark] .colab-df-convert {\n",
       "      background-color: #3B4455;\n",
       "      fill: #D2E3FC;\n",
       "    }\n",
       "\n",
       "    [theme=dark] .colab-df-convert:hover {\n",
       "      background-color: #434B5C;\n",
       "      box-shadow: 0px 1px 3px 1px rgba(0, 0, 0, 0.15);\n",
       "      filter: drop-shadow(0px 1px 2px rgba(0, 0, 0, 0.3));\n",
       "      fill: #FFFFFF;\n",
       "    }\n",
       "  </style>\n",
       "\n",
       "    <script>\n",
       "      const buttonEl =\n",
       "        document.querySelector('#df-1b742936-0291-47c8-b424-24607037d0c0 button.colab-df-convert');\n",
       "      buttonEl.style.display =\n",
       "        google.colab.kernel.accessAllowed ? 'block' : 'none';\n",
       "\n",
       "      async function convertToInteractive(key) {\n",
       "        const element = document.querySelector('#df-1b742936-0291-47c8-b424-24607037d0c0');\n",
       "        const dataTable =\n",
       "          await google.colab.kernel.invokeFunction('convertToInteractive',\n",
       "                                                    [key], {});\n",
       "        if (!dataTable) return;\n",
       "\n",
       "        const docLinkHtml = 'Like what you see? Visit the ' +\n",
       "          '<a target=\"_blank\" href=https://colab.research.google.com/notebooks/data_table.ipynb>data table notebook</a>'\n",
       "          + ' to learn more about interactive tables.';\n",
       "        element.innerHTML = '';\n",
       "        dataTable['output_type'] = 'display_data';\n",
       "        await google.colab.output.renderOutput(dataTable, element);\n",
       "        const docLink = document.createElement('div');\n",
       "        docLink.innerHTML = docLinkHtml;\n",
       "        element.appendChild(docLink);\n",
       "      }\n",
       "    </script>\n",
       "  </div>\n",
       "\n",
       "\n",
       "<div id=\"df-255f040b-0060-4cbe-9115-3ebbe1966203\">\n",
       "  <button class=\"colab-df-quickchart\" onclick=\"quickchart('df-255f040b-0060-4cbe-9115-3ebbe1966203')\"\n",
       "            title=\"Suggest charts\"\n",
       "            style=\"display:none;\">\n",
       "\n",
       "<svg xmlns=\"http://www.w3.org/2000/svg\" height=\"24px\"viewBox=\"0 0 24 24\"\n",
       "     width=\"24px\">\n",
       "    <g>\n",
       "        <path d=\"M19 3H5c-1.1 0-2 .9-2 2v14c0 1.1.9 2 2 2h14c1.1 0 2-.9 2-2V5c0-1.1-.9-2-2-2zM9 17H7v-7h2v7zm4 0h-2V7h2v10zm4 0h-2v-4h2v4z\"/>\n",
       "    </g>\n",
       "</svg>\n",
       "  </button>\n",
       "\n",
       "<style>\n",
       "  .colab-df-quickchart {\n",
       "      --bg-color: #E8F0FE;\n",
       "      --fill-color: #1967D2;\n",
       "      --hover-bg-color: #E2EBFA;\n",
       "      --hover-fill-color: #174EA6;\n",
       "      --disabled-fill-color: #AAA;\n",
       "      --disabled-bg-color: #DDD;\n",
       "  }\n",
       "\n",
       "  [theme=dark] .colab-df-quickchart {\n",
       "      --bg-color: #3B4455;\n",
       "      --fill-color: #D2E3FC;\n",
       "      --hover-bg-color: #434B5C;\n",
       "      --hover-fill-color: #FFFFFF;\n",
       "      --disabled-bg-color: #3B4455;\n",
       "      --disabled-fill-color: #666;\n",
       "  }\n",
       "\n",
       "  .colab-df-quickchart {\n",
       "    background-color: var(--bg-color);\n",
       "    border: none;\n",
       "    border-radius: 50%;\n",
       "    cursor: pointer;\n",
       "    display: none;\n",
       "    fill: var(--fill-color);\n",
       "    height: 32px;\n",
       "    padding: 0;\n",
       "    width: 32px;\n",
       "  }\n",
       "\n",
       "  .colab-df-quickchart:hover {\n",
       "    background-color: var(--hover-bg-color);\n",
       "    box-shadow: 0 1px 2px rgba(60, 64, 67, 0.3), 0 1px 3px 1px rgba(60, 64, 67, 0.15);\n",
       "    fill: var(--button-hover-fill-color);\n",
       "  }\n",
       "\n",
       "  .colab-df-quickchart-complete:disabled,\n",
       "  .colab-df-quickchart-complete:disabled:hover {\n",
       "    background-color: var(--disabled-bg-color);\n",
       "    fill: var(--disabled-fill-color);\n",
       "    box-shadow: none;\n",
       "  }\n",
       "\n",
       "  .colab-df-spinner {\n",
       "    border: 2px solid var(--fill-color);\n",
       "    border-color: transparent;\n",
       "    border-bottom-color: var(--fill-color);\n",
       "    animation:\n",
       "      spin 1s steps(1) infinite;\n",
       "  }\n",
       "\n",
       "  @keyframes spin {\n",
       "    0% {\n",
       "      border-color: transparent;\n",
       "      border-bottom-color: var(--fill-color);\n",
       "      border-left-color: var(--fill-color);\n",
       "    }\n",
       "    20% {\n",
       "      border-color: transparent;\n",
       "      border-left-color: var(--fill-color);\n",
       "      border-top-color: var(--fill-color);\n",
       "    }\n",
       "    30% {\n",
       "      border-color: transparent;\n",
       "      border-left-color: var(--fill-color);\n",
       "      border-top-color: var(--fill-color);\n",
       "      border-right-color: var(--fill-color);\n",
       "    }\n",
       "    40% {\n",
       "      border-color: transparent;\n",
       "      border-right-color: var(--fill-color);\n",
       "      border-top-color: var(--fill-color);\n",
       "    }\n",
       "    60% {\n",
       "      border-color: transparent;\n",
       "      border-right-color: var(--fill-color);\n",
       "    }\n",
       "    80% {\n",
       "      border-color: transparent;\n",
       "      border-right-color: var(--fill-color);\n",
       "      border-bottom-color: var(--fill-color);\n",
       "    }\n",
       "    90% {\n",
       "      border-color: transparent;\n",
       "      border-bottom-color: var(--fill-color);\n",
       "    }\n",
       "  }\n",
       "</style>\n",
       "\n",
       "  <script>\n",
       "    async function quickchart(key) {\n",
       "      const quickchartButtonEl =\n",
       "        document.querySelector('#' + key + ' button');\n",
       "      quickchartButtonEl.disabled = true;  // To prevent multiple clicks.\n",
       "      quickchartButtonEl.classList.add('colab-df-spinner');\n",
       "      try {\n",
       "        const charts = await google.colab.kernel.invokeFunction(\n",
       "            'suggestCharts', [key], {});\n",
       "      } catch (error) {\n",
       "        console.error('Error during call to suggestCharts:', error);\n",
       "      }\n",
       "      quickchartButtonEl.classList.remove('colab-df-spinner');\n",
       "      quickchartButtonEl.classList.add('colab-df-quickchart-complete');\n",
       "    }\n",
       "    (() => {\n",
       "      let quickchartButtonEl =\n",
       "        document.querySelector('#df-255f040b-0060-4cbe-9115-3ebbe1966203 button');\n",
       "      quickchartButtonEl.style.display =\n",
       "        google.colab.kernel.accessAllowed ? 'block' : 'none';\n",
       "    })();\n",
       "  </script>\n",
       "</div>\n",
       "\n",
       "    </div>\n",
       "  </div>\n"
      ],
      "text/plain": [
       "                                            sentence  label  \\\n",
       "0  Đi 2 lần r lần đầu kím đường muốn chết tới nơi...      0   \n",
       "1  Ở gần nhà nên cũng ghé qua ăn 2,3 lần . Quán c...      0   \n",
       "2  Ta ̀ u hu ̉ cư ̣ c dơ ̉ , nha ̣ t nhe ̃ o lă ́...      0   \n",
       "3  Đô ̀ ăn k qua ́ dơ ̉ nhưng cu ̃ ng chưa ngon :...      0   \n",
       "4  Được bạn_bè giới_thiệu về phong_cách trang_trí...      0   \n",
       "\n",
       "                                 preprocess_sentence  \n",
       "0  đi lần r lần đầu kím đường muốn chết tới nơi t...  \n",
       "1  ở gần nhà nên cũng ghé qua ăn lần quán có nhiề...  \n",
       "2  ta ̀ u hu ̉ cư ̣ c dơ ̉ nha ̣ t nhe ̃ o lă ́ m...  \n",
       "3  đô ̀ ăn k qua ́ dơ ̉ nhưng cu ̃ ng chưa ngon n...  \n",
       "4  được bạn bè giới thiệu về phong cách trang trí...  "
      ]
     },
     "execution_count": 13,
     "metadata": {},
     "output_type": "execute_result"
    }
   ],
   "source": [
    "train_df_vi[:5]"
   ]
  },
  {
   "cell_type": "code",
   "execution_count": 14,
   "metadata": {
    "id": "nmtd1pXZ0ouc"
   },
   "outputs": [],
   "source": [
    "def yield_tokens(sentences, tokenizer):\n",
    "    # Tokenizes sentences into individual words using the tokenizer.\n",
    "    for sentence in sentences:\n",
    "        yield tokenizer(sentence)"
   ]
  },
  {
   "cell_type": "code",
   "execution_count": 15,
   "metadata": {
    "id": "IF7oBEA00ouc"
   },
   "outputs": [],
   "source": [
    "# Initializes a basic tokenizer for English text.\n",
    "tokenizer = get_tokenizer(\"basic_english\")"
   ]
  },
  {
   "cell_type": "code",
   "execution_count": 16,
   "metadata": {
    "id": "lDT9yBSI0ouc"
   },
   "outputs": [],
   "source": [
    "# Builds a vocabulary from tokenized sentences, limiting the vocabulary size to 10,000 words,\n",
    "# and handles out-of-vocabulary words with <unk>.\n",
    "\n",
    "vocab_size = 10000\n",
    "\n",
    "# Build vocabulary from tokenized training sentences\n",
    "vocabulary = build_vocab_from_iterator(\n",
    "    yield_tokens(train_df_vi[\"preprocess_sentence\"], tokenizer),\n",
    "    max_tokens=vocab_size,\n",
    "    specials=[\"<pad>\", \"<unk>\"]\n",
    ")\n",
    "\n",
    "# Set the default index for unknown words to the index of \"<unk>\"\n",
    "vocabulary.set_default_index(vocabulary[\"<unk>\"])"
   ]
  },
  {
   "cell_type": "markdown",
   "metadata": {
    "id": "ZD7III4g0ouc"
   },
   "source": [
    "Ex:\n",
    "- `Input sentences`: [\"this is a test\", \"hello world\", \"this is another example\"]\n",
    "- `After tokenization`: [[\"this\", \"is\", \"a\", \"test\"], [\"hello\", \"world\"], [\"this\", \"is\", \"another\", \"example\"]]\n",
    "- `Vocabulary`: vocab_size=5 => vocabulary = {\"`<pad>`\": 0, \"`<unk>`\": 1, \"this\": 2, \"is\": 3, \"a\": 4, \"test\": 5}"
   ]
  },
  {
   "cell_type": "code",
   "execution_count": 17,
   "metadata": {
    "id": "7ve5pZxF0ouc"
   },
   "outputs": [],
   "source": [
    "# Prepares the dataset by converting each sentence into word indices from the vocabulary\n",
    "# and assigns a label to the sentence.\n",
    "def prepare_dataset(df):\n",
    "    for index, row in df.iterrows():\n",
    "        sentence = row[\"preprocess_sentence\"]\n",
    "        encoded_sentence = vocabulary(tokenizer(sentence)) # Tokenized and encoded sentence\n",
    "        label = row[\"label\"]\n",
    "        yield encoded_sentence, label"
   ]
  },
  {
   "cell_type": "markdown",
   "metadata": {
    "id": "4OHEWhTO0ouc"
   },
   "source": [
    "```\n",
    "[\n",
    "    ([2, 3, 4, 5], 0),  # Sentence \"this is a test\", label 0\n",
    "    ([6, 7], 1),        # Sentence \"hello world\", label 1\n",
    "    ([2, 3, 8, 9], 1)   # Sentence \"this is another example\", label 2\n",
    "]\n",
    "```"
   ]
  },
  {
   "cell_type": "code",
   "execution_count": 18,
   "metadata": {
    "id": "oWzFHSq-0ouc"
   },
   "outputs": [],
   "source": [
    "train_dataset = prepare_dataset(train_df_vi)\n",
    "train_dataset = to_map_style_dataset(train_dataset)\n",
    "\n",
    "valid_dataset = prepare_dataset(valid_df)\n",
    "valid_dataset = to_map_style_dataset(valid_dataset)\n",
    "\n",
    "test_dataset = prepare_dataset(test_df)\n",
    "test_dataset = to_map_style_dataset(test_dataset)"
   ]
  },
  {
   "cell_type": "markdown",
   "metadata": {
    "id": "F_ZT2_OY0oud"
   },
   "source": [
    "### DataLoader"
   ]
  },
  {
   "cell_type": "code",
   "execution_count": 19,
   "metadata": {
    "id": "5vt8RKBx0oud"
   },
   "outputs": [],
   "source": [
    "def collate_batch(batch):\n",
    "    # Create inputs, offsets, labels for batch\n",
    "    encoded_sentences, labels = [], []\n",
    "    for encoded_sentence, label in batch:\n",
    "        labels.append(label)\n",
    "        encoded_sentence = torch.tensor(encoded_sentence, dtype=torch.int64)\n",
    "        encoded_sentences.append(encoded_sentence)\n",
    "\n",
    "    labels = torch.tensor(labels, dtype=torch.int64)\n",
    "\n",
    "    # Pad the sequences in encoded_sentences so that they all have the same length\n",
    "    # padding_value is set to the index of the \"<pad>\" token in the vocabulary\n",
    "    encoded_sentences = pad_sequence(\n",
    "        encoded_sentences,\n",
    "        padding_value=vocabulary[\"<pad>\"]\n",
    "    )\n",
    "    return encoded_sentences, labels"
   ]
  },
  {
   "cell_type": "markdown",
   "metadata": {
    "id": "0WpFLjZ50oud"
   },
   "source": [
    "tensor([[2, 3, 4, 2],\n",
    "        [6, 7, 0, 0]])  # Padding với \"`<pad>`\" = 0\n",
    "        "
   ]
  },
  {
   "cell_type": "code",
   "execution_count": 20,
   "metadata": {
    "id": "AcHmt8250oud"
   },
   "outputs": [],
   "source": [
    "batch_size = 128\n",
    "\n",
    "train_dataloader = DataLoader(\n",
    "    train_dataset,\n",
    "    batch_size=batch_size,\n",
    "    shuffle=True,\n",
    "    collate_fn=collate_batch\n",
    ")\n",
    "\n",
    "valid_dataloader = DataLoader(\n",
    "    valid_dataset,\n",
    "    batch_size=batch_size,\n",
    "    shuffle=False,\n",
    "    collate_fn=collate_batch\n",
    ")\n",
    "\n",
    "test_dataloader = DataLoader(\n",
    "    test_dataset,\n",
    "    batch_size=batch_size,\n",
    "    shuffle=False,\n",
    "    collate_fn=collate_batch\n",
    ")"
   ]
  },
  {
   "cell_type": "code",
   "execution_count": 21,
   "metadata": {
    "colab": {
     "base_uri": "https://localhost:8080/"
    },
    "id": "KHG-U2vp0oud",
    "outputId": "a5a7422e-0a1d-45ad-c1b0-046dcc246290"
   },
   "outputs": [
    {
     "data": {
      "text/plain": [
       "(tensor([[  2,  20, 636,  ..., 986, 342,   3],\n",
       "         [ 11,   5, 573,  ...,  15, 356, 209],\n",
       "         [ 47,  95, 129,  ...,   1, 241, 500],\n",
       "         ...,\n",
       "         [  0,   0,   0,  ..., 645,   0,   0],\n",
       "         [  0,   0,   0,  ...,  15,   0,   0],\n",
       "         [  0,   0,   0,  ...,  75,   0,   0]]),\n",
       " tensor([1, 1, 0, 1, 1, 1, 1, 1, 1, 0, 1, 0, 1, 0, 0, 1, 0, 0, 1, 1, 1, 0, 0, 1,\n",
       "         0, 1, 0, 1, 1, 1, 1, 1, 1, 0, 0, 0, 1, 0, 0, 0, 0, 0, 0, 1, 1, 0, 1, 0,\n",
       "         0, 1, 0, 0, 0, 0, 1, 0, 1, 1, 0, 0, 1, 1, 1, 0, 1, 1, 1, 1, 0, 1, 0, 0,\n",
       "         1, 0, 0, 0, 1, 0, 0, 1, 0, 1, 1, 0, 1, 0, 0, 0, 0, 0, 0, 1, 0, 1, 1, 0,\n",
       "         0, 1, 0, 0, 1, 1, 1, 0, 0, 1, 0, 0, 0, 0, 0, 1, 1, 0, 0, 0, 0, 1, 1, 1,\n",
       "         0, 1, 0, 0, 0, 1, 0, 0]))"
      ]
     },
     "execution_count": 21,
     "metadata": {},
     "output_type": "execute_result"
    }
   ],
   "source": [
    "next(iter(train_dataloader))"
   ]
  },
  {
   "cell_type": "markdown",
   "metadata": {
    "id": "pUTaWd6r0oud"
   },
   "source": [
    "- The first tensor is the batch of input sentences, represented as tokenized and padded sequences of integers.\n",
    "- The second tensor is the batch of labels corresponding to the sentences, used for supervised learning tasks like classification."
   ]
  },
  {
   "cell_type": "code",
   "execution_count": 22,
   "metadata": {
    "colab": {
     "base_uri": "https://localhost:8080/"
    },
    "id": "xsFJaq800oud",
    "outputId": "cfe492fb-1881-4897-862e-64464f569d30"
   },
   "outputs": [
    {
     "data": {
      "text/plain": [
       "torch.Size([540, 128])"
      ]
     },
     "execution_count": 22,
     "metadata": {},
     "output_type": "execute_result"
    }
   ],
   "source": [
    "encoded_sentences, labels = next(iter(train_dataloader))\n",
    "encoded_sentences.shape"
   ]
  },
  {
   "cell_type": "markdown",
   "metadata": {
    "id": "JdKy0z1H0oue"
   },
   "source": [
    "## Setup Model"
   ]
  },
  {
   "cell_type": "code",
   "execution_count": 23,
   "metadata": {
    "id": "4IcUGeKw0oue"
   },
   "outputs": [],
   "source": [
    "def train(model, optimizer, criterion, train_dataloader, device, epoch=0, log_interval=50):\n",
    "    model.train()\n",
    "    total_acc, total_samples = 0, 0\n",
    "    losses = []\n",
    "    start_time = time.time()\n",
    "\n",
    "    for batch_idx, (inputs, labels) in enumerate(train_dataloader):\n",
    "        inputs, labels = inputs.to(device), labels.to(device)\n",
    "\n",
    "        # Zero gradients\n",
    "        optimizer.zero_grad()\n",
    "\n",
    "        # Forward pass\n",
    "        predictions = model(inputs)\n",
    "\n",
    "        # Compute loss\n",
    "        loss = criterion(predictions, labels)\n",
    "        losses.append(loss.item())\n",
    "\n",
    "        # Backward pass and optimization\n",
    "        loss.backward()\n",
    "        torch.nn.utils.clip_grad_norm_(model.parameters(), 0.1) # Clip gradient norm\n",
    "        optimizer.step()\n",
    "\n",
    "        # Update metrics\n",
    "        total_acc += (predictions.argmax(1) == labels).sum().item()\n",
    "        total_samples += labels.size(0)\n",
    "\n",
    "        # Log progress at intervals\n",
    "        if batch_idx % log_interval == 0 and batch_idx > 0:\n",
    "            elapsed = time.time() - start_time\n",
    "            print(\n",
    "                f\"| Epoch {epoch:3d} | Batch {batch_idx:5d}/{len(train_dataloader):5d} | \"\n",
    "                f\"Accuracy {total_acc / total_samples:.3f}\"\n",
    "            )\n",
    "            total_acc, total_samples = 0, 0\n",
    "            start_time = time.time()\n",
    "\n",
    "    epoch_acc = total_acc / total_samples\n",
    "    epoch_loss = sum(losses) / len(losses)\n",
    "    return epoch_acc, epoch_loss\n",
    "\n",
    "def evaluate(model, criterion, device, valid_dataloader):\n",
    "    model.eval()\n",
    "    total_acc, total_samples = 0, 0\n",
    "    losses = []\n",
    "\n",
    "    with torch.no_grad():\n",
    "        for idx, (inputs, labels) in enumerate(valid_dataloader):\n",
    "            inputs = inputs.to(device)\n",
    "            labels = labels.to(device)\n",
    "\n",
    "            # Forward pass\n",
    "            predictions = model(inputs)\n",
    "\n",
    "            # Compute loss\n",
    "            loss = criterion(predictions, labels)\n",
    "            losses.append(loss.item())\n",
    "\n",
    "            # Update metrics\n",
    "            total_acc += (predictions.argmax(1) == labels).sum().item()\n",
    "            total_samples += labels.size(0)\n",
    "\n",
    "    epoch_acc = total_acc / total_samples\n",
    "    epoch_loss = sum(losses) / len(losses)\n",
    "    return epoch_acc, epoch_loss"
   ]
  },
  {
   "cell_type": "markdown",
   "metadata": {
    "id": "hLMyK1YJ0oue"
   },
   "source": [
    "### TextCNN"
   ]
  },
  {
   "cell_type": "code",
   "execution_count": 24,
   "metadata": {
    "id": "H0gZODWi0oue"
   },
   "outputs": [],
   "source": [
    "class TextCNN(nn.Module):\n",
    "    def __init__(self, vocab_size, embedding_dim, kernel_sizes, num_filters, num_classes):\n",
    "        super(TextCNN, self).__init__()\n",
    "\n",
    "        self.vocab_size = vocab_size\n",
    "        self.embedding_dim = embedding_dim\n",
    "        self.kernel_sizes = kernel_sizes\n",
    "        self.num_filters = num_filters\n",
    "        self.num_classes = num_classes\n",
    "\n",
    "        # Embedding layer: Converts word indices into continuous vectors (embeddings)\n",
    "        self.embedding = nn.Embedding(vocab_size, embedding_dim, padding_idx=0)\n",
    "\n",
    "        # Create a list of convolutional layers (one for each kernel size)\n",
    "        # Each convolutional layer takes the embedded word vectors as input and applies filters of size 'k'\n",
    "        self.conv = nn.ModuleList([\n",
    "            nn.Conv1d(\n",
    "                in_channels=embedding_dim,\n",
    "                out_channels=num_filters,\n",
    "                kernel_size=k, # Kernel size: different values for each convolution layer\n",
    "                stride=1\n",
    "            ) for k in kernel_sizes # Loop through all kernel sizes\n",
    "        ])\n",
    "\n",
    "        # Fully connected layer: Converts extracted features from convolutional layers into class predictions\n",
    "        self.fc = nn.Linear(len(kernel_sizes) * num_filters, num_classes)\n",
    "\n",
    "    def forward(self, x):\n",
    "        # Convert word indices into word embeddings\n",
    "        x = self.embedding(x.T).transpose(1, 2)\n",
    "\n",
    "        # Apply convolutional layers with ReLU activation\n",
    "        x = [F.relu(conv(x)) for conv in self.conv]\n",
    "\n",
    "        # Apply max pooling to each convolutional output, selecting the most important feature\n",
    "        x = [F.max_pool1d(c, c.size(-1)).squeeze(dim=-1) for c in x]\n",
    "\n",
    "        # Concatenate all pooled features together\n",
    "        x = torch.cat(x, dim=1)\n",
    "\n",
    "        # Pass the concatenated features through the fully connected layer to make class predictions\n",
    "        x = self.fc(x)\n",
    "        return x"
   ]
  },
  {
   "cell_type": "code",
   "execution_count": 25,
   "metadata": {
    "colab": {
     "base_uri": "https://localhost:8080/"
    },
    "id": "WXWHIJmq0oue",
    "outputId": "64573d0a-6221-47fa-da6d-eeb7c2383366"
   },
   "outputs": [
    {
     "data": {
      "text/plain": [
       "TextCNN(\n",
       "  (embedding): Embedding(10000, 300, padding_idx=0)\n",
       "  (conv): ModuleList(\n",
       "    (0): Conv1d(300, 100, kernel_size=(3,), stride=(1,))\n",
       "    (1): Conv1d(300, 100, kernel_size=(4,), stride=(1,))\n",
       "    (2): Conv1d(300, 100, kernel_size=(5,), stride=(1,))\n",
       "  )\n",
       "  (fc): Linear(in_features=300, out_features=2, bias=True)\n",
       ")"
      ]
     },
     "execution_count": 25,
     "metadata": {},
     "output_type": "execute_result"
    }
   ],
   "source": [
    "# Setup\n",
    "num_class = 2\n",
    "vocab_size = len(vocabulary)\n",
    "embedding_dim = 300\n",
    "device = torch.device(\"cuda\" if torch.cuda.is_available() else \"cpu\")\n",
    "\n",
    "# Model, criterion, optimizer\n",
    "model = TextCNN(\n",
    "    vocab_size=vocab_size,\n",
    "    embedding_dim=embedding_dim,\n",
    "    kernel_sizes=[3, 4, 5],\n",
    "    num_filters=100,\n",
    "    num_classes=2\n",
    ").to(device)\n",
    "\n",
    "criterion = torch.nn.CrossEntropyLoss()\n",
    "optimizer = torch.optim.Adam(model.parameters(), 2e-4)\n",
    "\n",
    "model"
   ]
  },
  {
   "cell_type": "code",
   "execution_count": 26,
   "metadata": {
    "colab": {
     "base_uri": "https://localhost:8080/"
    },
    "id": "5Obw4RVz0oue",
    "outputId": "9047d8f5-9876-4112-9f5a-2760263fce2e"
   },
   "outputs": [
    {
     "name": "stdout",
     "output_type": "stream",
     "text": [
      "| Epoch   1 | Batch    50/  233 | Accuracy 0.746\n",
      "| Epoch   1 | Batch   100/  233 | Accuracy 0.833\n",
      "| Epoch   1 | Batch   150/  233 | Accuracy 0.851\n",
      "| Epoch   1 | Batch   200/  233 | Accuracy 0.868\n",
      "===========================================================\n",
      "End of Epoch   1 | Time: 19.10s | Train Acc: 0.869, Train Loss: 0.404 | Val Acc: 0.870, Val Loss: 0.322\n",
      "===========================================================\n",
      "| Epoch   2 | Batch    50/  233 | Accuracy 0.906\n",
      "| Epoch   2 | Batch   100/  233 | Accuracy 0.913\n",
      "| Epoch   2 | Batch   150/  233 | Accuracy 0.904\n",
      "| Epoch   2 | Batch   200/  233 | Accuracy 0.911\n",
      "===========================================================\n",
      "End of Epoch   2 | Time: 17.20s | Train Acc: 0.906, Train Loss: 0.252 | Val Acc: 0.883, Val Loss: 0.291\n",
      "===========================================================\n",
      "| Epoch   3 | Batch    50/  233 | Accuracy 0.944\n",
      "| Epoch   3 | Batch   100/  233 | Accuracy 0.945\n",
      "| Epoch   3 | Batch   150/  233 | Accuracy 0.937\n",
      "| Epoch   3 | Batch   200/  233 | Accuracy 0.939\n",
      "===========================================================\n",
      "End of Epoch   3 | Time: 17.22s | Train Acc: 0.941, Train Loss: 0.182 | Val Acc: 0.885, Val Loss: 0.282\n",
      "===========================================================\n",
      "| Epoch   4 | Batch    50/  233 | Accuracy 0.972\n",
      "| Epoch   4 | Batch   100/  233 | Accuracy 0.967\n",
      "| Epoch   4 | Batch   150/  233 | Accuracy 0.969\n",
      "| Epoch   4 | Batch   200/  233 | Accuracy 0.966\n",
      "===========================================================\n",
      "End of Epoch   4 | Time: 17.39s | Train Acc: 0.963, Train Loss: 0.125 | Val Acc: 0.889, Val Loss: 0.284\n",
      "===========================================================\n",
      "| Epoch   5 | Batch    50/  233 | Accuracy 0.986\n",
      "| Epoch   5 | Batch   100/  233 | Accuracy 0.987\n",
      "| Epoch   5 | Batch   150/  233 | Accuracy 0.984\n",
      "| Epoch   5 | Batch   200/  233 | Accuracy 0.980\n",
      "===========================================================\n",
      "End of Epoch   5 | Time: 17.63s | Train Acc: 0.981, Train Loss: 0.081 | Val Acc: 0.888, Val Loss: 0.288\n",
      "===========================================================\n",
      "| Epoch   6 | Batch    50/  233 | Accuracy 0.995\n",
      "| Epoch   6 | Batch   100/  233 | Accuracy 0.995\n",
      "| Epoch   6 | Batch   150/  233 | Accuracy 0.993\n",
      "| Epoch   6 | Batch   200/  233 | Accuracy 0.994\n",
      "===========================================================\n",
      "End of Epoch   6 | Time: 17.59s | Train Acc: 0.995, Train Loss: 0.047 | Val Acc: 0.889, Val Loss: 0.302\n",
      "===========================================================\n",
      "| Epoch   7 | Batch    50/  233 | Accuracy 0.999\n",
      "| Epoch   7 | Batch   100/  233 | Accuracy 0.999\n",
      "| Epoch   7 | Batch   150/  233 | Accuracy 0.998\n",
      "| Epoch   7 | Batch   200/  233 | Accuracy 0.998\n",
      "===========================================================\n",
      "End of Epoch   7 | Time: 18.23s | Train Acc: 0.998, Train Loss: 0.026 | Val Acc: 0.890, Val Loss: 0.321\n",
      "===========================================================\n",
      "| Epoch   8 | Batch    50/  233 | Accuracy 1.000\n",
      "| Epoch   8 | Batch   100/  233 | Accuracy 1.000\n",
      "| Epoch   8 | Batch   150/  233 | Accuracy 1.000\n",
      "| Epoch   8 | Batch   200/  233 | Accuracy 1.000\n",
      "===========================================================\n",
      "End of Epoch   8 | Time: 18.00s | Train Acc: 0.999, Train Loss: 0.012 | Val Acc: 0.887, Val Loss: 0.344\n",
      "===========================================================\n",
      "| Epoch   9 | Batch    50/  233 | Accuracy 1.000\n",
      "| Epoch   9 | Batch   100/  233 | Accuracy 1.000\n",
      "| Epoch   9 | Batch   150/  233 | Accuracy 1.000\n",
      "| Epoch   9 | Batch   200/  233 | Accuracy 1.000\n",
      "===========================================================\n",
      "End of Epoch   9 | Time: 18.26s | Train Acc: 1.000, Train Loss: 0.006 | Val Acc: 0.888, Val Loss: 0.387\n",
      "===========================================================\n",
      "| Epoch  10 | Batch    50/  233 | Accuracy 1.000\n",
      "| Epoch  10 | Batch   100/  233 | Accuracy 1.000\n",
      "| Epoch  10 | Batch   150/  233 | Accuracy 1.000\n",
      "| Epoch  10 | Batch   200/  233 | Accuracy 1.000\n",
      "===========================================================\n",
      "End of Epoch  10 | Time: 18.29s | Train Acc: 1.000, Train Loss: 0.002 | Val Acc: 0.888, Val Loss: 0.408\n",
      "===========================================================\n"
     ]
    }
   ],
   "source": [
    "# Training parameters\n",
    "num_epochs = 10\n",
    "model_dir = \"./models\"\n",
    "os.makedirs(model_dir, exist_ok=True)\n",
    "\n",
    "train_accs, train_losses = [], []\n",
    "eval_accs, eval_losses = [], []\n",
    "best_eval_loss = float(\"inf\")\n",
    "\n",
    "for epoch in range(1, num_epochs + 1):\n",
    "    start_time  = time.time()\n",
    "\n",
    "    # Train\n",
    "    train_acc, train_loss = train(model, optimizer, criterion, train_dataloader, device, epoch)\n",
    "    train_accs.append(train_acc)\n",
    "    train_losses.append(train_loss)\n",
    "\n",
    "    # Evaluation\n",
    "    eval_acc, eval_loss = evaluate(model, criterion, device, valid_dataloader)\n",
    "    eval_accs.append(eval_acc)\n",
    "    eval_losses.append(eval_loss)\n",
    "\n",
    "    # Save the model if it has the best evaluation loss\n",
    "    if eval_loss < best_eval_loss:\n",
    "        torch.save(model.state_dict(), os.path.join(model_dir, \"text_cnn_model.pth\"))\n",
    "\n",
    "    # Logging\n",
    "    elapsed_time = time.time() - start_time\n",
    "    print(\"=\" * 59)\n",
    "    print(\n",
    "        f\"End of Epoch {epoch:3d} | Time: {elapsed_time:.2f}s | \"\n",
    "        f\"Train Acc: {train_acc:.3f}, Train Loss: {train_loss:.3f} | \"\n",
    "        f\"Val Acc: {eval_acc:.3f}, Val Loss: {eval_loss:.3f}\"\n",
    "    )\n",
    "    print(\"=\" * 59)\n",
    "\n",
    "    # Load the best model\n",
    "    model.load_state_dict(torch.load(os.path.join(model_dir, \"text_cnn_model.pth\")))\n",
    "    model.eval()"
   ]
  },
  {
   "cell_type": "code",
   "execution_count": 27,
   "metadata": {
    "colab": {
     "base_uri": "https://localhost:8080/",
     "height": 224
    },
    "id": "M_0qm5HN0ouf",
    "outputId": "91de2c44-8f34-44e5-9f6a-f1603059535a"
   },
   "outputs": [
    {
     "data": {
      "image/png": "[encoded data removed]",
      "text/plain": [
       "<Figure size 1500x500 with 2 Axes>"
      ]
     },
     "metadata": {},
     "output_type": "display_data"
    }
   ],
   "source": [
    "fig, axes = plt.subplots(1, 2, figsize=(15, 5))\n",
    "\n",
    "axes[0].plot(range(1, num_epochs + 1), train_accs, label=\"Train Accuracy\", marker='o')\n",
    "axes[0].plot(range(1, num_epochs + 1), eval_accs, label=\"Validation Accuracy\", marker='o')\n",
    "axes[0].set_title(\"Accuracy over Epochs\")\n",
    "axes[0].set_xlabel(\"Epochs\")\n",
    "axes[0].set_ylabel(\"Accuracy\")\n",
    "axes[0].legend()\n",
    "axes[0].grid()\n",
    "\n",
    "axes[1].plot(range(1, num_epochs + 1), train_losses, label=\"Train Loss\", marker='o')\n",
    "axes[1].plot(range(1, num_epochs + 1), eval_losses, label=\"Validation Loss\", marker='o')\n",
    "axes[1].set_title(\"Loss over Epochs\")\n",
    "axes[1].set_xlabel(\"Epochs\")\n",
    "axes[1].set_ylabel(\"Loss\")\n",
    "axes[1].legend()\n",
    "axes[1].grid()\n",
    "\n",
    "plt.tight_layout()\n",
    "plt.show()\n"
   ]
  },
  {
   "cell_type": "markdown",
   "metadata": {
    "id": "MtAYdttr0ouf"
   },
   "source": [
    "### Evalation"
   ]
  },
  {
   "cell_type": "code",
   "execution_count": 28,
   "metadata": {
    "colab": {
     "base_uri": "https://localhost:8080/"
    },
    "id": "cy2UWncO0ouf",
    "outputId": "e8b02676-ad67-4e67-a1e3-73e421d3eb45"
   },
   "outputs": [
    {
     "data": {
      "text/plain": [
       "(0.8983, 0.3715136449171018)"
      ]
     },
     "execution_count": 28,
     "metadata": {},
     "output_type": "execute_result"
    }
   ],
   "source": [
    "test_acc, test_loss = evaluate(model, criterion, device, test_dataloader)\n",
    "test_acc, test_loss"
   ]
  },
  {
   "cell_type": "markdown",
   "metadata": {
    "id": "3Tc4VweB0ouf"
   },
   "source": [
    "### Inference"
   ]
  },
  {
   "cell_type": "code",
   "execution_count": 32,
   "metadata": {
    "id": "f_oWXNTj0ouf"
   },
   "outputs": [],
   "source": [
    "tokenizr = get_tokenizer(\"basic_english\")\n",
    "\n",
    "def load_model(model_path, vocab_size=10000, embedding_dim=300, num_classes=2):\n",
    "    model = TextCNN(\n",
    "        vocab_size=vocab_size,\n",
    "        embedding_dim=embedding_dim,\n",
    "        kernel_sizes=[3, 4, 5],\n",
    "        num_filters=100,\n",
    "        num_classes=2\n",
    "    ).to(device)\n",
    "    model.load_state_dict(torch.load(model_path, weights_only=True))\n",
    "    model.eval()\n",
    "    return model\n",
    "\n",
    "\n",
    "def inference(sentence, vocabulary, model):\n",
    "    # Preprocess the input sentence (e.g., lowercasing, removing punctuation)\n",
    "    sentence = preprocess_text(sentence)\n",
    "\n",
    "    # Tokenize the sentence and convert tokens to indices using the vocabulary\n",
    "    encoded_sentence = vocabulary(tokenizer(sentence))\n",
    "\n",
    "    # Convert the list of indices to a tensor\n",
    "    encoded_sentence = torch.tensor(encoded_sentence).to(device)\n",
    "\n",
    "    # Add an extra dimension (batch dimension) to the tensor\n",
    "    encoded_sentence = torch.unsqueeze(encoded_sentence, 1)\n",
    "\n",
    "    with torch.no_grad():\n",
    "        # Get model predictions for the encoded sentence\n",
    "        predictions = model(encoded_sentence)\n",
    "\n",
    "    # Apply the Softmax function to convert logits to probabilities\n",
    "    preds = nn.Softmax(dim=1)(predictions)\n",
    "\n",
    "     # Get the predicted class with the highest probability\n",
    "    p_max, y_hat = torch.max(preds.data, 1)\n",
    "    return round(p_max.item(), 2)*100, y_hat.item()"
   ]
  },
  {
   "cell_type": "code",
   "execution_count": 40,
   "metadata": {
    "colab": {
     "base_uri": "https://localhost:8080/",
     "height": 178
    },
    "id": "gokjLkcN0ouf",
    "outputId": "aae86d59-e667-4856-f8f4-552d0b2658bd"
   },
   "outputs": [
    {
     "data": {
      "text/html": [
       "<div>\n",
       "<style scoped>\n",
       "    .dataframe tbody tr th:only-of-type {\n",
       "        vertical-align: middle;\n",
       "    }\n",
       "\n",
       "    .dataframe tbody tr th {\n",
       "        vertical-align: top;\n",
       "    }\n",
       "\n",
       "    .dataframe thead th {\n",
       "        text-align: right;\n",
       "    }\n",
       "</style>\n",
       "<table border=\"1\" class=\"dataframe\">\n",
       "  <thead>\n",
       "    <tr style=\"text-align: right;\">\n",
       "      <th></th>\n",
       "      <th>5999</th>\n",
       "    </tr>\n",
       "  </thead>\n",
       "  <tbody>\n",
       "    <tr>\n",
       "      <th>sentence</th>\n",
       "      <td>Nếp_cẩm ngon lắm nhé , ngon hơn mấy chỗ trên S...</td>\n",
       "    </tr>\n",
       "    <tr>\n",
       "      <th>label</th>\n",
       "      <td>1</td>\n",
       "    </tr>\n",
       "    <tr>\n",
       "      <th>preprocess_sentence</th>\n",
       "      <td>nếp cẩm ngon lắm nhé ngon hơn mấy chỗ trên sg ...</td>\n",
       "    </tr>\n",
       "  </tbody>\n",
       "</table>\n",
       "</div><br><label><b>dtype:</b> object</label>"
      ],
      "text/plain": [
       "sentence               Nếp_cẩm ngon lắm nhé , ngon hơn mấy chỗ trên S...\n",
       "label                                                                  1\n",
       "preprocess_sentence    nếp cẩm ngon lắm nhé ngon hơn mấy chỗ trên sg ...\n",
       "Name: 5999, dtype: object"
      ]
     },
     "execution_count": 40,
     "metadata": {},
     "output_type": "execute_result"
    }
   ],
   "source": [
    "test_sentence = test_df['preprocess_sentence'][5999]\n",
    "test_df.iloc[5999]"
   ]
  },
  {
   "cell_type": "code",
   "execution_count": 34,
   "metadata": {
    "colab": {
     "base_uri": "https://localhost:8080/"
    },
    "id": "kGkXTFJU0ouf",
    "outputId": "e4191812-9c16-4708-8761-116a684e98fe"
   },
   "outputs": [
    {
     "data": {
      "text/plain": [
       "(100.0, 1)"
      ]
     },
     "execution_count": 34,
     "metadata": {},
     "output_type": "execute_result"
    }
   ],
   "source": [
    "model = load_model(\"./models/text_cnn_model.pth\")\n",
    "preds = inference(test_sentence, vocabulary, model)\n",
    "preds"
   ]
  },
  {
   "cell_type": "code",
   "execution_count": 35,
   "metadata": {
    "colab": {
     "base_uri": "https://localhost:8080/",
     "height": 597
    },
    "id": "N4VIzFxr0ouk",
    "outputId": "c3d8073c-535d-4795-eb5f-8999b4115468"
   },
   "outputs": [
    {
     "data": {
      "application/vnd.google.colaboratory.intrinsic+json": {
       "summary": "{\n  \"name\": \"test_df\",\n  \"rows\": 10000,\n  \"fields\": [\n    {\n      \"column\": \"sentence\",\n      \"properties\": {\n        \"dtype\": \"string\",\n        \"num_unique_values\": 9995,\n        \"samples\": [\n          \"Qu\\u00e1n n\\u00e0y nh\\u00ecn b\\u1ec1_ngo\\u00e0i c\\u00f3_v\\u1ebb r\\u1ea5t th\\u00edch_h\\u1ee3p cho vi\\u1ec7c h\\u1ecdc nh\\u01b0ng s\\u1ef1_th\\u1eadt ko h\\u1eb3n l\\u00e0 v\\u1eady , \\u0111\\u1eb7c_bi\\u1ec7t l\\u00e0 \\u0111i 1-2 ng ch\\u1eafc kh\\u00f3 t\\u00ecm \\u0111c ch\\u1ed7 h\\u1ecdc \\u0111\\u00fang ngh\\u0129a : ) ) h\\u00f4m m\\u00ecnh \\u0111i \\u0111\\u00fang th\\u00fa_v\\u1ecb v\\u00ec t\\u00ecm ko \\u0111c ch\\u1ed7 ng\\u1ed3i h\\u1ecdc : ) )\\nTh\\u1ee9 1 : b\\u01b0\\u1edbc v\\u00e0o qu\\u00e1n shock t\\u1eadp 1 v\\u00ec m\\u00f3n cafe \\u0111en / s\\u1eefa ki\\u1ec3u VN gi\\u00e1 \\u0111\\u00e3 l\\u00e0 28k thay_v\\u00ec 20k nh\\u01b0 tr\\u00ean menu , c\\u0169ng d\\u1ec5 hi\\u1ec3u , qu\\u00e1n m\\u00e0 \\u0111\\u00f4ng s\\u1ebd t\\u0103ng_gi\\u00e1 n\\u01b0\\u1edbc .\\nTh\\u1ee9 2 : c\\u00f3 nhi\\u1ec1u lo\\u1ea1i ph\\u00f2ng nh\\u01b0ng ko p\\u1ea3i l\\u00fac_n\\u00e0o b c\\u0169ng \\u0111c ng\\u1ed3i . C\\u00f3 1 ph\\u00f2ng l\\u1ea7u 1 chuy\\u00ean d\\u00e0nh cho kh\\u00e1ch h\\u1ecdc c\\u00e1_nh\\u00e2n , m\\u00e0 h\\u00f4m \\u0111\\u00f3 \\u0111\\u00e3 c\\u00f3 kh\\u00e1ch \\u0111\\u1eb7t h\\u1ebft ph\\u00f2g \\u0111\\u1ec3 h\\u1ecdp , th\\u1ebf_l\\u00e0 ko \\u0111c v\\u00e0o . 1 ph\\u00f2ng ki\\u1ec3u chuy\\u00ean d\\u00e0nh cho h\\u1ecdp nh\\u00f3m th\\u1ea3o_lu\\u1eadn , \\u0111i tr\\u00ean 5ng b ms \\u0111c v\\u00e0o = > ko th\\u1ec3 v\\u00e0o . 1 lo\\u1ea1i ph\\u00f2g kh\\u00e1c l\\u00e0 t\\u00ednh ti\\u1ec1n thu\\u00ea theo gi\\u1edd , 15k/gi\\u1edd , ko d\\u00f9g n\\u01b0\\u1edbc c\\u0169ng \\u0111c nh\\u01b0g vs gi\\u00e1 \\u0111\\u00f3 m\\u00e0 ng\\u1ed3i h\\u1ecdc l\\u00e2u ch\\u1eafc ch\\u00e1y_t\\u00fai s\\u1edbm : ) ) ) th\\u1ebf_l\\u00e0 ch\\u1ec9 c\\u00f2n duy_nh\\u1ea5t m\\u1ea5y ch\\u1ed7 ng\\u1ed3i \\u1edf t\\u1ea7ng tr\\u1ec7t , ta n\\u00f3i ch\\u1ed7 \\u0111\\u00f3 \\u0111\\u1ec3 mn tr\\u00f2_chuy\\u1ec7n n\\u00ean m\\u00ecnh ng\\u1ed3i c\\u1ea3 bu\\u1ed5i nh\\u01b0g ko th\\u1ec3_n\\u00e0o t\\u1eadp trug h\\u1ebft \\u0111c , h\\u1ebft nh\\u00f3m n\\u00e0y \\u0111\\u1ebfn nh\\u00f3m kh\\u00e1c nc l\\u1edbn qu\\u00e1 m\\u1ee9c t\\u01b0\\u1edfng_t\\u01b0\\u1ee3ng n\\u00ean d\\u00f9 c\\u00f3 \\u0111eo airphone b v\\u1eabn nghe \\u00e2m \\u1ed3n r\\u00f5 m\\u1ed3n_m\\u1ed9t . Th\\u00eam n\\u1eefa ngay ch\\u1ed7 t\\u1ea7g tr\\u1ec7t n\\u00ean qu\\u00e1n pha_ch\\u1ebf n\\u01b0\\u1edbc u\\u1ed1ng \\u1ed3n_\\u00e0o bao nhiu l\\u00e0 b h\\u1ee9ng \\u0111\\u1ee7 lun .\\nTh\\u1ee9 3 : n\\u01b0\\u1edbc u\\u1ed1ng c\\u0169ng t\\u1ea1m . Nh\\u01b0ng b\\u1eefa m\\u00ecnh \\u0111i c\\u00f2n kh\\u00f3_ch\\u1ecbu 1 v\\u0111\\u1ec1 kh\\u00e1c l\\u00e0 ng\\u1ed3i g\\u1ea7n c\\u1eeda_m\\u1edf v\\u00e0o b\\u00ean trog n\\u00ean kh\\u00e1ch n\\u00e0o \\u0111i ngang m\\u1edf_c\\u1eeda l\\u00e0_h\\u01a1i n\\u00f3ng b\\u00ean ngo\\u00e0i bay th\\u1eb3ng v\\u00e0o m\\u1eb7t , m\\u00e0 v\\u00ec l\\u00e0 kh\\u00e1ch n\\u00ean ch\\u1eb3ng ai ch\\u00fa_\\u00fd \\u0111\\u00f3ng l\\u1ea1i - c\\u1ee9 \\u0111\\u1ec3 h\\u01a1i c\\u1eeda_m\\u1edf nh\\u01b0_th\\u1ebf . C\\u00e1c b kh\\u00e1c ng\\u1ed3i g\\u1ea7n \\u0111\\u00f3 c\\u0169ng th\\u1ea5y kh\\u00f3_ch\\u1ecbu ko k\\u00e9m m\\u00ecnh .\\nC\\u00f2n ch\\u01b0a n\\u00f3i t\\u1ea5t_c\\u1ea3 gh\\u1ebf_ng\\u1ed3i \\u1edf \\u0111\\u00e2y \\u0111\\u1ec1u l\\u00e0 m\\u1eb7t gh\\u1ebf_c\\u1ee9ng ng\\u1eaft , ng\\u1ed3i l\\u00e2u \\u00ea m\\u00f4ng ko ch\\u1ecbu n\\u1ed5i , ko c\\u00f3 t\\u1ef1a l\\u01b0ng n\\u1eefa , gi\\u00e1 nu\\u1edbc trug b\\u00ecnh t\\u1ea7m 30k m\\u00e0 ch\\u1ea5t_l\\u01b0\\u1ee3ng m\\u1ecdi th\\u1ee9 nhi\\u01b0 th\\u1ebf ch\\u1eb3ng x\\u1ee9ng ch\\u00fat n\\u00e0o .\\nP / s : vd cho vi\\u1ec7c c\\u00e1nh c\\u1eeda_m\\u1edf lt\\u1ee5c n\\u00e8 : ) )\\n\",\n          \"B\\u00e1nh th\\u00ec m\\u00ecnh kh\\u00f4ng c\\u00f3 g\\u00ec \\u0111\\u1ec3 b\\u00e0n . Nh\\u01b0ng nh\\u00e2n_vi\\u00ean c\\u1ee7a ti\\u1ec7m th\\u00ec r\\u1ea5t kh\\u00f4ng b\\u00ecnh_th\\u01b0\\u1eddng ( Kh\\u00f4ng bi\\u1ebft d\\u00f9ng t\\u1eeb g\\u00ec \\u0111\\u1ec3 di\\u1ec5n_t\\u1ea3 cho v\\u0103n_ho\\u00e1 ngo\\u00e0i t\\u1eeb t\\u01b0ng_t\\u01b0ng ) . Kh\\u00e1ch th\\u00ec \\u0111\\u1ee3i b\\u00e1nh c\\u00f2n nh\\u00e2n_vi\\u00ean gi\\u1ee1n v\\u1edbi nhau kh\\u00f4ng l\\u00e0m nhanh . Ngo\\u00e0i_ra c\\u00f2n n\\u00f3i_x\\u1ea5u kh\\u00e1ch + v\\u1edbi ch\\u1eedi_th\\u1ec1 n\\u00f3i_t\\u1ee5c , qu\\u00e1n kh\\u1eafc_ph\\u1ee5c gi\\u00fap m\\u00ecnh v\\u1ee5 n\\u00e0y l\\u00e0 qu\\u00e1n tuy\\u1ec7t_v\\u1eddi r\\u1ed3i\\n\",\n          \"Qu\\u00e1n n\\u00e0y r\\u1ebb l\\u1ea1i c\\u00f2n ngon . \\u0110\\u1eb7c_bi\\u1ec7t l\\u00e0 c\\u01a1m th\\u1ed1 ^ ^\\n\"\n        ],\n        \"semantic_type\": \"\",\n        \"description\": \"\"\n      }\n    },\n    {\n      \"column\": \"label\",\n      \"properties\": {\n        \"dtype\": \"number\",\n        \"std\": 0,\n        \"min\": 0,\n        \"max\": 1,\n        \"num_unique_values\": 2,\n        \"samples\": [\n          1,\n          0\n        ],\n        \"semantic_type\": \"\",\n        \"description\": \"\"\n      }\n    },\n    {\n      \"column\": \"preprocess_sentence\",\n      \"properties\": {\n        \"dtype\": \"string\",\n        \"num_unique_values\": 9993,\n        \"samples\": [\n          \"c\\u00e1 h\\u1ed3i m\\u1eb7c d\\u00f9 \\u0111\\u01b0\\u1ee3c xu\\u1ed1ng ch\\u1ecdn nh\\u01b0ng khi l\\u00ean b\\u00e0n ng\\u1ed3i \\u0111\\u0129a th\\u1ecbt b\\u00e0y l\\u00ean s\\u1edd v\\u00e0o nh\\u01b0 th\\u1ecbt \\u0111\\u00f4ng l\\u1ea1nh \\u0103n c\\u0169ng k \\u0111c ng\\u1ecdt th\\u1ecbt c\\u1ea3m gi\\u00e1c c\\u1ee7a m\\u00ecnh l\\u00e0 k ph\\u1ea3i c\\u00e1 t\\u01b0\\u01a1i nh\\u00e2n vi\\u00ean h\\u01a1i th\\u00e1i \\u0111\\u1ed9\",\n          \"b\\u00e1nh th\\u00ec m\\u00ecnh kh\\u00f4ng c\\u00f3 g\\u00ec \\u0111\\u1ec3 b\\u00e0n nh\\u01b0ng nh\\u00e2n vi\\u00ean c\\u1ee7a ti\\u1ec7m th\\u00ec r\\u1ea5t kh\\u00f4ng b\\u00ecnh th\\u01b0\\u1eddng kh\\u00f4ng bi\\u1ebft d\\u00f9ng t\\u1eeb g\\u00ec \\u0111\\u1ec3 di\\u1ec5n t\\u1ea3 cho v\\u0103n ho\\u00e1 ngo\\u00e0i t\\u1eeb t\\u01b0ng t\\u01b0ng kh\\u00e1ch th\\u00ec \\u0111\\u1ee3i b\\u00e1nh c\\u00f2n nh\\u00e2n vi\\u00ean gi\\u1ee1n v\\u1edbi nhau kh\\u00f4ng l\\u00e0m nhanh ngo\\u00e0i ra c\\u00f2n n\\u00f3i x\\u1ea5u kh\\u00e1ch v\\u1edbi ch\\u1eedi th\\u1ec1 n\\u00f3i t\\u1ee5c qu\\u00e1n kh\\u1eafc ph\\u1ee5c gi\\u00fap m\\u00ecnh v\\u1ee5 n\\u00e0y l\\u00e0 qu\\u00e1n tuy\\u1ec7t v\\u1eddi r\\u1ed3i\"\n        ],\n        \"semantic_type\": \"\",\n        \"description\": \"\"\n      }\n    }\n  ]\n}",
       "type": "dataframe",
       "variable_name": "test_df"
      },
      "text/html": [
       "\n",
       "  <div id=\"df-80b2a977-5699-4a72-8809-8fcc3c2f7804\" class=\"colab-df-container\">\n",
       "    <div>\n",
       "<style scoped>\n",
       "    .dataframe tbody tr th:only-of-type {\n",
       "        vertical-align: middle;\n",
       "    }\n",
       "\n",
       "    .dataframe tbody tr th {\n",
       "        vertical-align: top;\n",
       "    }\n",
       "\n",
       "    .dataframe thead th {\n",
       "        text-align: right;\n",
       "    }\n",
       "</style>\n",
       "<table border=\"1\" class=\"dataframe\">\n",
       "  <thead>\n",
       "    <tr style=\"text-align: right;\">\n",
       "      <th></th>\n",
       "      <th>sentence</th>\n",
       "      <th>label</th>\n",
       "      <th>preprocess_sentence</th>\n",
       "    </tr>\n",
       "  </thead>\n",
       "  <tbody>\n",
       "    <tr>\n",
       "      <th>0</th>\n",
       "      <td>Thực_ra hôm đấy mình có_học buổi chiều nên lúc...</td>\n",
       "      <td>0</td>\n",
       "      <td>thực ra hôm đấy mình có học buổi chiều nên lúc...</td>\n",
       "    </tr>\n",
       "    <tr>\n",
       "      <th>1</th>\n",
       "      <td>Đi dự hội_thảo được voucher free 200k , tại vì...</td>\n",
       "      <td>0</td>\n",
       "      <td>đi dự hội thảo được voucher free k tại vì có đ...</td>\n",
       "    </tr>\n",
       "    <tr>\n",
       "      <th>2</th>\n",
       "      <td>Cũng trả tiền chứ có xin không_đâu mà khách tớ...</td>\n",
       "      <td>0</td>\n",
       "      <td>cũng trả tiền chứ có xin không đâu mà khách tớ...</td>\n",
       "    </tr>\n",
       "    <tr>\n",
       "      <th>3</th>\n",
       "      <td>Quán làm_ăn rất là kém mà nói_thẳng là tệ . Nh...</td>\n",
       "      <td>0</td>\n",
       "      <td>quán làm ăn rất là kém mà nói thẳng là tệ nhân...</td>\n",
       "    </tr>\n",
       "    <tr>\n",
       "      <th>4</th>\n",
       "      <td>Quán mới có ưu_đãi cho mọi người đi từ 4 người...</td>\n",
       "      <td>0</td>\n",
       "      <td>quán mới có ưu đãi cho mọi người đi từ người t...</td>\n",
       "    </tr>\n",
       "    <tr>\n",
       "      <th>...</th>\n",
       "      <td>...</td>\n",
       "      <td>...</td>\n",
       "      <td>...</td>\n",
       "    </tr>\n",
       "    <tr>\n",
       "      <th>9995</th>\n",
       "      <td>Chắc_chắn mình sẽ gới thiệu cho bạn_bè . Đúng ...</td>\n",
       "      <td>1</td>\n",
       "      <td>chắc chắn mình sẽ gới thiệu cho bạn bè đúng vớ...</td>\n",
       "    </tr>\n",
       "    <tr>\n",
       "      <th>9996</th>\n",
       "      <td>Quán này ăn OK lắm nha ✌ 🏻 ️ bây giừ Lagi mở_m...</td>\n",
       "      <td>1</td>\n",
       "      <td>quán này ăn ok lắm nha bây giừ lagi mở mặt tiề...</td>\n",
       "    </tr>\n",
       "    <tr>\n",
       "      <th>9997</th>\n",
       "      <td>Set lẩu 200k 2ng nhìn lúc đầu khá đầy_đặn : ) ...</td>\n",
       "      <td>1</td>\n",
       "      <td>set lẩu k ng nhìn lúc đầu khá đầy đặn về sau t...</td>\n",
       "    </tr>\n",
       "    <tr>\n",
       "      <th>9998</th>\n",
       "      <td>Thích nhất không_gian ở BKS , màu_sắc và không...</td>\n",
       "      <td>1</td>\n",
       "      <td>thích nhất không gian ở bks màu sắc và không k...</td>\n",
       "    </tr>\n",
       "    <tr>\n",
       "      <th>9999</th>\n",
       "      <td>Matcha ngon tuyệt + trái_cây tươi = ^ ^ ngồi v...</td>\n",
       "      <td>1</td>\n",
       "      <td>matcha ngon tuyệt trái cây tươi ngồi vỉa hè nh...</td>\n",
       "    </tr>\n",
       "  </tbody>\n",
       "</table>\n",
       "<p>10000 rows × 3 columns</p>\n",
       "</div>\n",
       "    <div class=\"colab-df-buttons\">\n",
       "\n",
       "  <div class=\"colab-df-container\">\n",
       "    <button class=\"colab-df-convert\" onclick=\"convertToInteractive('df-80b2a977-5699-4a72-8809-8fcc3c2f7804')\"\n",
       "            title=\"Convert this dataframe to an interactive table.\"\n",
       "            style=\"display:none;\">\n",
       "\n",
       "  <svg xmlns=\"http://www.w3.org/2000/svg\" height=\"24px\" viewBox=\"0 -960 960 960\">\n",
       "    <path d=\"M120-120v-720h720v720H120Zm60-500h600v-160H180v160Zm220 220h160v-160H400v160Zm0 220h160v-160H400v160ZM180-400h160v-160H180v160Zm440 0h160v-160H620v160ZM180-180h160v-160H180v160Zm440 0h160v-160H620v160Z\"/>\n",
       "  </svg>\n",
       "    </button>\n",
       "\n",
       "  <style>\n",
       "    .colab-df-container {\n",
       "      display:flex;\n",
       "      gap: 12px;\n",
       "    }\n",
       "\n",
       "    .colab-df-convert {\n",
       "      background-color: #E8F0FE;\n",
       "      border: none;\n",
       "      border-radius: 50%;\n",
       "      cursor: pointer;\n",
       "      display: none;\n",
       "      fill: #1967D2;\n",
       "      height: 32px;\n",
       "      padding: 0 0 0 0;\n",
       "      width: 32px;\n",
       "    }\n",
       "\n",
       "    .colab-df-convert:hover {\n",
       "      background-color: #E2EBFA;\n",
       "      box-shadow: 0px 1px 2px rgba(60, 64, 67, 0.3), 0px 1px 3px 1px rgba(60, 64, 67, 0.15);\n",
       "      fill: #174EA6;\n",
       "    }\n",
       "\n",
       "    .colab-df-buttons div {\n",
       "      margin-bottom: 4px;\n",
       "    }\n",
       "\n",
       "    [theme=dark] .colab-df-convert {\n",
       "      background-color: #3B4455;\n",
       "      fill: #D2E3FC;\n",
       "    }\n",
       "\n",
       "    [theme=dark] .colab-df-convert:hover {\n",
       "      background-color: #434B5C;\n",
       "      box-shadow: 0px 1px 3px 1px rgba(0, 0, 0, 0.15);\n",
       "      filter: drop-shadow(0px 1px 2px rgba(0, 0, 0, 0.3));\n",
       "      fill: #FFFFFF;\n",
       "    }\n",
       "  </style>\n",
       "\n",
       "    <script>\n",
       "      const buttonEl =\n",
       "        document.querySelector('#df-80b2a977-5699-4a72-8809-8fcc3c2f7804 button.colab-df-convert');\n",
       "      buttonEl.style.display =\n",
       "        google.colab.kernel.accessAllowed ? 'block' : 'none';\n",
       "\n",
       "      async function convertToInteractive(key) {\n",
       "        const element = document.querySelector('#df-80b2a977-5699-4a72-8809-8fcc3c2f7804');\n",
       "        const dataTable =\n",
       "          await google.colab.kernel.invokeFunction('convertToInteractive',\n",
       "                                                    [key], {});\n",
       "        if (!dataTable) return;\n",
       "\n",
       "        const docLinkHtml = 'Like what you see? Visit the ' +\n",
       "          '<a target=\"_blank\" href=https://colab.research.google.com/notebooks/data_table.ipynb>data table notebook</a>'\n",
       "          + ' to learn more about interactive tables.';\n",
       "        element.innerHTML = '';\n",
       "        dataTable['output_type'] = 'display_data';\n",
       "        await google.colab.output.renderOutput(dataTable, element);\n",
       "        const docLink = document.createElement('div');\n",
       "        docLink.innerHTML = docLinkHtml;\n",
       "        element.appendChild(docLink);\n",
       "      }\n",
       "    </script>\n",
       "  </div>\n",
       "\n",
       "\n",
       "<div id=\"df-3aaac5eb-019a-4d29-ad72-d4fe9bb53894\">\n",
       "  <button class=\"colab-df-quickchart\" onclick=\"quickchart('df-3aaac5eb-019a-4d29-ad72-d4fe9bb53894')\"\n",
       "            title=\"Suggest charts\"\n",
       "            style=\"display:none;\">\n",
       "\n",
       "<svg xmlns=\"http://www.w3.org/2000/svg\" height=\"24px\"viewBox=\"0 0 24 24\"\n",
       "     width=\"24px\">\n",
       "    <g>\n",
       "        <path d=\"M19 3H5c-1.1 0-2 .9-2 2v14c0 1.1.9 2 2 2h14c1.1 0 2-.9 2-2V5c0-1.1-.9-2-2-2zM9 17H7v-7h2v7zm4 0h-2V7h2v10zm4 0h-2v-4h2v4z\"/>\n",
       "    </g>\n",
       "</svg>\n",
       "  </button>\n",
       "\n",
       "<style>\n",
       "  .colab-df-quickchart {\n",
       "      --bg-color: #E8F0FE;\n",
       "      --fill-color: #1967D2;\n",
       "      --hover-bg-color: #E2EBFA;\n",
       "      --hover-fill-color: #174EA6;\n",
       "      --disabled-fill-color: #AAA;\n",
       "      --disabled-bg-color: #DDD;\n",
       "  }\n",
       "\n",
       "  [theme=dark] .colab-df-quickchart {\n",
       "      --bg-color: #3B4455;\n",
       "      --fill-color: #D2E3FC;\n",
       "      --hover-bg-color: #434B5C;\n",
       "      --hover-fill-color: #FFFFFF;\n",
       "      --disabled-bg-color: #3B4455;\n",
       "      --disabled-fill-color: #666;\n",
       "  }\n",
       "\n",
       "  .colab-df-quickchart {\n",
       "    background-color: var(--bg-color);\n",
       "    border: none;\n",
       "    border-radius: 50%;\n",
       "    cursor: pointer;\n",
       "    display: none;\n",
       "    fill: var(--fill-color);\n",
       "    height: 32px;\n",
       "    padding: 0;\n",
       "    width: 32px;\n",
       "  }\n",
       "\n",
       "  .colab-df-quickchart:hover {\n",
       "    background-color: var(--hover-bg-color);\n",
       "    box-shadow: 0 1px 2px rgba(60, 64, 67, 0.3), 0 1px 3px 1px rgba(60, 64, 67, 0.15);\n",
       "    fill: var(--button-hover-fill-color);\n",
       "  }\n",
       "\n",
       "  .colab-df-quickchart-complete:disabled,\n",
       "  .colab-df-quickchart-complete:disabled:hover {\n",
       "    background-color: var(--disabled-bg-color);\n",
       "    fill: var(--disabled-fill-color);\n",
       "    box-shadow: none;\n",
       "  }\n",
       "\n",
       "  .colab-df-spinner {\n",
       "    border: 2px solid var(--fill-color);\n",
       "    border-color: transparent;\n",
       "    border-bottom-color: var(--fill-color);\n",
       "    animation:\n",
       "      spin 1s steps(1) infinite;\n",
       "  }\n",
       "\n",
       "  @keyframes spin {\n",
       "    0% {\n",
       "      border-color: transparent;\n",
       "      border-bottom-color: var(--fill-color);\n",
       "      border-left-color: var(--fill-color);\n",
       "    }\n",
       "    20% {\n",
       "      border-color: transparent;\n",
       "      border-left-color: var(--fill-color);\n",
       "      border-top-color: var(--fill-color);\n",
       "    }\n",
       "    30% {\n",
       "      border-color: transparent;\n",
       "      border-left-color: var(--fill-color);\n",
       "      border-top-color: var(--fill-color);\n",
       "      border-right-color: var(--fill-color);\n",
       "    }\n",
       "    40% {\n",
       "      border-color: transparent;\n",
       "      border-right-color: var(--fill-color);\n",
       "      border-top-color: var(--fill-color);\n",
       "    }\n",
       "    60% {\n",
       "      border-color: transparent;\n",
       "      border-right-color: var(--fill-color);\n",
       "    }\n",
       "    80% {\n",
       "      border-color: transparent;\n",
       "      border-right-color: var(--fill-color);\n",
       "      border-bottom-color: var(--fill-color);\n",
       "    }\n",
       "    90% {\n",
       "      border-color: transparent;\n",
       "      border-bottom-color: var(--fill-color);\n",
       "    }\n",
       "  }\n",
       "</style>\n",
       "\n",
       "  <script>\n",
       "    async function quickchart(key) {\n",
       "      const quickchartButtonEl =\n",
       "        document.querySelector('#' + key + ' button');\n",
       "      quickchartButtonEl.disabled = true;  // To prevent multiple clicks.\n",
       "      quickchartButtonEl.classList.add('colab-df-spinner');\n",
       "      try {\n",
       "        const charts = await google.colab.kernel.invokeFunction(\n",
       "            'suggestCharts', [key], {});\n",
       "      } catch (error) {\n",
       "        console.error('Error during call to suggestCharts:', error);\n",
       "      }\n",
       "      quickchartButtonEl.classList.remove('colab-df-spinner');\n",
       "      quickchartButtonEl.classList.add('colab-df-quickchart-complete');\n",
       "    }\n",
       "    (() => {\n",
       "      let quickchartButtonEl =\n",
       "        document.querySelector('#df-3aaac5eb-019a-4d29-ad72-d4fe9bb53894 button');\n",
       "      quickchartButtonEl.style.display =\n",
       "        google.colab.kernel.accessAllowed ? 'block' : 'none';\n",
       "    })();\n",
       "  </script>\n",
       "</div>\n",
       "\n",
       "  <div id=\"id_f7a1b7d7-071a-482f-8c00-5de0b85b150d\">\n",
       "    <style>\n",
       "      .colab-df-generate {\n",
       "        background-color: #E8F0FE;\n",
       "        border: none;\n",
       "        border-radius: 50%;\n",
       "        cursor: pointer;\n",
       "        display: none;\n",
       "        fill: #1967D2;\n",
       "        height: 32px;\n",
       "        padding: 0 0 0 0;\n",
       "        width: 32px;\n",
       "      }\n",
       "\n",
       "      .colab-df-generate:hover {\n",
       "        background-color: #E2EBFA;\n",
       "        box-shadow: 0px 1px 2px rgba(60, 64, 67, 0.3), 0px 1px 3px 1px rgba(60, 64, 67, 0.15);\n",
       "        fill: #174EA6;\n",
       "      }\n",
       "\n",
       "      [theme=dark] .colab-df-generate {\n",
       "        background-color: #3B4455;\n",
       "        fill: #D2E3FC;\n",
       "      }\n",
       "\n",
       "      [theme=dark] .colab-df-generate:hover {\n",
       "        background-color: #434B5C;\n",
       "        box-shadow: 0px 1px 3px 1px rgba(0, 0, 0, 0.15);\n",
       "        filter: drop-shadow(0px 1px 2px rgba(0, 0, 0, 0.3));\n",
       "        fill: #FFFFFF;\n",
       "      }\n",
       "    </style>\n",
       "    <button class=\"colab-df-generate\" onclick=\"generateWithVariable('test_df')\"\n",
       "            title=\"Generate code using this dataframe.\"\n",
       "            style=\"display:none;\">\n",
       "\n",
       "  <svg xmlns=\"http://www.w3.org/2000/svg\" height=\"24px\"viewBox=\"0 0 24 24\"\n",
       "       width=\"24px\">\n",
       "    <path d=\"M7,19H8.4L18.45,9,17,7.55,7,17.6ZM5,21V16.75L18.45,3.32a2,2,0,0,1,2.83,0l1.4,1.43a1.91,1.91,0,0,1,.58,1.4,1.91,1.91,0,0,1-.58,1.4L9.25,21ZM18.45,9,17,7.55Zm-12,3A5.31,5.31,0,0,0,4.9,8.1,5.31,5.31,0,0,0,1,6.5,5.31,5.31,0,0,0,4.9,4.9,5.31,5.31,0,0,0,6.5,1,5.31,5.31,0,0,0,8.1,4.9,5.31,5.31,0,0,0,12,6.5,5.46,5.46,0,0,0,6.5,12Z\"/>\n",
       "  </svg>\n",
       "    </button>\n",
       "    <script>\n",
       "      (() => {\n",
       "      const buttonEl =\n",
       "        document.querySelector('#id_f7a1b7d7-071a-482f-8c00-5de0b85b150d button.colab-df-generate');\n",
       "      buttonEl.style.display =\n",
       "        google.colab.kernel.accessAllowed ? 'block' : 'none';\n",
       "\n",
       "      buttonEl.onclick = () => {\n",
       "        google.colab.notebook.generateWithVariable('test_df');\n",
       "      }\n",
       "      })();\n",
       "    </script>\n",
       "  </div>\n",
       "\n",
       "    </div>\n",
       "  </div>\n"
      ],
      "text/plain": [
       "                                               sentence  label  \\\n",
       "0     Thực_ra hôm đấy mình có_học buổi chiều nên lúc...      0   \n",
       "1     Đi dự hội_thảo được voucher free 200k , tại vì...      0   \n",
       "2     Cũng trả tiền chứ có xin không_đâu mà khách tớ...      0   \n",
       "3     Quán làm_ăn rất là kém mà nói_thẳng là tệ . Nh...      0   \n",
       "4     Quán mới có ưu_đãi cho mọi người đi từ 4 người...      0   \n",
       "...                                                 ...    ...   \n",
       "9995  Chắc_chắn mình sẽ gới thiệu cho bạn_bè . Đúng ...      1   \n",
       "9996  Quán này ăn OK lắm nha ✌ 🏻 ️ bây giừ Lagi mở_m...      1   \n",
       "9997  Set lẩu 200k 2ng nhìn lúc đầu khá đầy_đặn : ) ...      1   \n",
       "9998  Thích nhất không_gian ở BKS , màu_sắc và không...      1   \n",
       "9999  Matcha ngon tuyệt + trái_cây tươi = ^ ^ ngồi v...      1   \n",
       "\n",
       "                                    preprocess_sentence  \n",
       "0     thực ra hôm đấy mình có học buổi chiều nên lúc...  \n",
       "1     đi dự hội thảo được voucher free k tại vì có đ...  \n",
       "2     cũng trả tiền chứ có xin không đâu mà khách tớ...  \n",
       "3     quán làm ăn rất là kém mà nói thẳng là tệ nhân...  \n",
       "4     quán mới có ưu đãi cho mọi người đi từ người t...  \n",
       "...                                                 ...  \n",
       "9995  chắc chắn mình sẽ gới thiệu cho bạn bè đúng vớ...  \n",
       "9996  quán này ăn ok lắm nha bây giừ lagi mở mặt tiề...  \n",
       "9997  set lẩu k ng nhìn lúc đầu khá đầy đặn về sau t...  \n",
       "9998  thích nhất không gian ở bks màu sắc và không k...  \n",
       "9999  matcha ngon tuyệt trái cây tươi ngồi vỉa hè nh...  \n",
       "\n",
       "[10000 rows x 3 columns]"
      ]
     },
     "execution_count": 35,
     "metadata": {},
     "output_type": "execute_result"
    }
   ],
   "source": [
    "test_df"
   ]
  },
  {
   "cell_type": "code",
   "execution_count": 42,
   "metadata": {
    "colab": {
     "base_uri": "https://localhost:8080/"
    },
    "id": "QgDwvEd78svj",
    "outputId": "fcb7fd49-5fb9-4aba-9936-7aeb1e69809d"
   },
   "outputs": [
    {
     "data": {
      "text/plain": [
       "(67.0, 1)"
      ]
     },
     "execution_count": 42,
     "metadata": {},
     "output_type": "execute_result"
    }
   ],
   "source": [
    "inference(test_df['preprocess_sentence'][0], vocabulary, model)"
   ]
  },
  {
   "cell_type": "code",
   "execution_count": 43,
   "metadata": {
    "colab": {
     "base_uri": "https://localhost:8080/"
    },
    "id": "B88yi55e9aGo",
    "outputId": "7e010f42-0da1-4468-f0d8-8e7298ebaffd"
   },
   "outputs": [
    {
     "data": {
      "text/plain": [
       "(100.0, 0)"
      ]
     },
     "execution_count": 43,
     "metadata": {},
     "output_type": "execute_result"
    }
   ],
   "source": [
    "inference(test_df['preprocess_sentence'][2], vocabulary, model)"
   ]
  },
  {
   "cell_type": "code",
   "execution_count": 44,
   "metadata": {
    "colab": {
     "base_uri": "https://localhost:8080/"
    },
    "id": "8tTQZgGw9i0p",
    "outputId": "f9049f58-93f6-4e1c-a5d8-5418b0af4b43"
   },
   "outputs": [
    {
     "data": {
      "text/plain": [
       "(100.0, 1)"
      ]
     },
     "execution_count": 44,
     "metadata": {},
     "output_type": "execute_result"
    }
   ],
   "source": [
    "inference(test_df['preprocess_sentence'][9995], vocabulary, model)"
   ]
  },
  {
   "cell_type": "code",
   "execution_count": 36,
   "metadata": {
    "colab": {
     "base_uri": "https://localhost:8080/"
    },
    "id": "KnKXqtAI8kiZ",
    "outputId": "1fa47e57-e8a0-401a-db81-e0e0366e8b2a"
   },
   "outputs": [
    {
     "data": {
      "text/plain": [
       "(74.0, 0)"
      ]
     },
     "execution_count": 36,
     "metadata": {},
     "output_type": "execute_result"
    }
   ],
   "source": [
    "inference('Đồ ăn rất ngon và rẻ', vocabulary, model)"
   ]
  },
  {
   "cell_type": "code",
   "execution_count": null,
   "metadata": {
    "id": "XLCGF8S083Fd"
   },
   "outputs": [],
   "source": []
  }
 ],
 "metadata": {
  "accelerator": "GPU",
  "colab": {
   "gpuType": "T4",
   "include_colab_link": true,
   "provenance": []
  },
  "kernelspec": {
   "display_name": "nlp",
   "language": "python",
   "name": "python3"
  },
  "language_info": {
   "codemirror_mode": {
    "name": "ipython",
    "version": 3
   },
   "file_extension": ".py",
   "mimetype": "text/x-python",
   "name": "python",
   "nbconvert_exporter": "python",
   "pygments_lexer": "ipython3",
   "version": "3.12.7"
  }
 },
 "nbformat": 4,
 "nbformat_minor": 0
}

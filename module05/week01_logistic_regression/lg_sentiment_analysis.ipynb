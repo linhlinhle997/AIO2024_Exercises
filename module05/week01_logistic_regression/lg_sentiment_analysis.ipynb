{
 "cells": [
  {
   "cell_type": "markdown",
   "metadata": {},
   "source": [
    "# Logistic Regression: Twitter Sentiment Analysis"
   ]
  },
  {
   "cell_type": "code",
   "execution_count": 1,
   "metadata": {},
   "outputs": [],
   "source": [
    "import pandas as pd\n",
    "import numpy as np\n",
    "import re\n",
    "import nltk\n",
    "\n",
    "from sklearn.model_selection import train_test_split\n",
    "from sklearn.preprocessing import StandardScaler\n",
    "from nltk.tokenize import TweetTokenizer\n",
    "from collections import defaultdict\n",
    "\n",
    "import matplotlib.pyplot as plt"
   ]
  },
  {
   "cell_type": "markdown",
   "metadata": {},
   "source": [
    "## Load Dataset"
   ]
  },
  {
   "cell_type": "code",
   "execution_count": 2,
   "metadata": {},
   "outputs": [
    {
     "data": {
      "text/html": [
       "<div>\n",
       "<style scoped>\n",
       "    .dataframe tbody tr th:only-of-type {\n",
       "        vertical-align: middle;\n",
       "    }\n",
       "\n",
       "    .dataframe tbody tr th {\n",
       "        vertical-align: top;\n",
       "    }\n",
       "\n",
       "    .dataframe thead th {\n",
       "        text-align: right;\n",
       "    }\n",
       "</style>\n",
       "<table border=\"1\" class=\"dataframe\">\n",
       "  <thead>\n",
       "    <tr style=\"text-align: right;\">\n",
       "      <th></th>\n",
       "      <th>label</th>\n",
       "      <th>tweet</th>\n",
       "    </tr>\n",
       "    <tr>\n",
       "      <th>id</th>\n",
       "      <th></th>\n",
       "      <th></th>\n",
       "    </tr>\n",
       "  </thead>\n",
       "  <tbody>\n",
       "    <tr>\n",
       "      <th>1</th>\n",
       "      <td>0</td>\n",
       "      <td>#fingerprint #Pregnancy Test https://goo.gl/h1...</td>\n",
       "    </tr>\n",
       "    <tr>\n",
       "      <th>2</th>\n",
       "      <td>0</td>\n",
       "      <td>Finally a transparant silicon case ^^ Thanks t...</td>\n",
       "    </tr>\n",
       "    <tr>\n",
       "      <th>3</th>\n",
       "      <td>0</td>\n",
       "      <td>We love this! Would you go? #talk #makememorie...</td>\n",
       "    </tr>\n",
       "    <tr>\n",
       "      <th>4</th>\n",
       "      <td>0</td>\n",
       "      <td>I'm wired I know I'm George I was made that wa...</td>\n",
       "    </tr>\n",
       "    <tr>\n",
       "      <th>5</th>\n",
       "      <td>1</td>\n",
       "      <td>What amazing service! Apple won't even talk to...</td>\n",
       "    </tr>\n",
       "  </tbody>\n",
       "</table>\n",
       "</div>"
      ],
      "text/plain": [
       "    label                                              tweet\n",
       "id                                                          \n",
       "1       0  #fingerprint #Pregnancy Test https://goo.gl/h1...\n",
       "2       0  Finally a transparant silicon case ^^ Thanks t...\n",
       "3       0  We love this! Would you go? #talk #makememorie...\n",
       "4       0  I'm wired I know I'm George I was made that wa...\n",
       "5       1  What amazing service! Apple won't even talk to..."
      ]
     },
     "execution_count": 2,
     "metadata": {},
     "output_type": "execute_result"
    }
   ],
   "source": [
    "df = pd.read_csv(\"data/sentiment_analysis.csv\", index_col=\"id\")\n",
    "df.head()"
   ]
  },
  {
   "cell_type": "code",
   "execution_count": 3,
   "metadata": {},
   "outputs": [
    {
     "name": "stdout",
     "output_type": "stream",
     "text": [
      "<class 'pandas.core.frame.DataFrame'>\n",
      "Index: 7920 entries, 1 to 7920\n",
      "Data columns (total 2 columns):\n",
      " #   Column  Non-Null Count  Dtype \n",
      "---  ------  --------------  ----- \n",
      " 0   label   7920 non-null   int64 \n",
      " 1   tweet   7920 non-null   object\n",
      "dtypes: int64(1), object(1)\n",
      "memory usage: 185.6+ KB\n"
     ]
    }
   ],
   "source": [
    "df.info()"
   ]
  },
  {
   "cell_type": "markdown",
   "metadata": {},
   "source": [
    "## Preprocessing"
   ]
  },
  {
   "cell_type": "code",
   "execution_count": 4,
   "metadata": {},
   "outputs": [],
   "source": [
    "def text_normalize(text):\n",
    "    # Retweet old acronym \"RT\" removal\n",
    "    text = re.sub(r\"RT[\\s]+\", \"\", text)\n",
    "    \n",
    "    # Hyperlinks removal\n",
    "    text = re.sub(r\"https?:\\/\\/.*[\\r\\n]*\", \"\", text)\n",
    "    \n",
    "    # Hashtags removal\n",
    "    text = re.sub(r\"#\", \"\", text)\n",
    "    \n",
    "    # Punctuation removal\n",
    "    text = re.sub(r\"[^\\w\\s]\", \"\", text)\n",
    "    \n",
    "    # Tokenization\n",
    "    tokenizer = TweetTokenizer(\n",
    "        preserve_case=False,\n",
    "        strip_handles=True,\n",
    "        reduce_len=True\n",
    "    )\n",
    "    text_tokens = tokenizer.tokenize(text)\n",
    "    return text_tokens"
   ]
  },
  {
   "cell_type": "code",
   "execution_count": 5,
   "metadata": {},
   "outputs": [],
   "source": [
    "def get_freqs(df):\n",
    "    freqs = defaultdict(lambda: 0)\n",
    "    for idx, row in df.iterrows():\n",
    "        tweet = row[\"tweet\"]\n",
    "        label = row[\"label\"]\n",
    "        \n",
    "        tokens = text_normalize(tweet)\n",
    "        for token in tokens:\n",
    "            pair = (token, label)\n",
    "            freqs[pair] += 1\n",
    "    return freqs"
   ]
  },
  {
   "cell_type": "code",
   "execution_count": 6,
   "metadata": {},
   "outputs": [],
   "source": [
    "def get_feature(text, freqs):\n",
    "    tokens = text_normalize(text)\n",
    "    \n",
    "    X = np.zeros(3)\n",
    "    X[0] = 1\n",
    "    \n",
    "    for token in tokens:\n",
    "        X[1] += freqs[(token, 0)]\n",
    "        X[2] += freqs[(token, 1)]\n",
    "    \n",
    "    return X"
   ]
  },
  {
   "cell_type": "code",
   "execution_count": 7,
   "metadata": {},
   "outputs": [],
   "source": [
    "X, y = [], []\n",
    "\n",
    "freqs = get_freqs(df)\n",
    "for idx, row in df.iterrows():\n",
    "    tweet = row[\"tweet\"]\n",
    "    label = row[\"label\"]\n",
    "    \n",
    "    X_i = get_feature(tweet, freqs)\n",
    "    X.append(X_i)\n",
    "    y.append(label)\n",
    "\n",
    "X = np.array(X)\n",
    "y = np.array(y)"
   ]
  },
  {
   "cell_type": "markdown",
   "metadata": {},
   "source": [
    "## Train Test Val Split 7:2:1"
   ]
  },
  {
   "cell_type": "code",
   "execution_count": 8,
   "metadata": {},
   "outputs": [
    {
     "data": {
      "text/plain": [
       "((6336, 3), (1584, 3), (6336,), (1584,))"
      ]
     },
     "execution_count": 8,
     "metadata": {},
     "output_type": "execute_result"
    }
   ],
   "source": [
    "X_train, X_val, y_train, y_val = train_test_split(\n",
    "    X, y, test_size=0.2, random_state=2, shuffle=True\n",
    ")\n",
    "\n",
    "X_train.shape, X_val.shape, y_train.shape, y_val.shape"
   ]
  },
  {
   "cell_type": "code",
   "execution_count": 9,
   "metadata": {},
   "outputs": [
    {
     "data": {
      "text/plain": [
       "((5544, 3), (792, 3), (5544,), (792,))"
      ]
     },
     "execution_count": 9,
     "metadata": {},
     "output_type": "execute_result"
    }
   ],
   "source": [
    "X_train, X_test, y_train, y_test = train_test_split(\n",
    "    X_train, y_train, test_size=0.125, random_state=2, shuffle=True\n",
    ")\n",
    "\n",
    "X_train.shape, X_test.shape, y_train.shape, y_test.shape"
   ]
  },
  {
   "cell_type": "markdown",
   "metadata": {},
   "source": [
    "## Normalization"
   ]
  },
  {
   "cell_type": "code",
   "execution_count": 10,
   "metadata": {},
   "outputs": [],
   "source": [
    "normalizer = StandardScaler()\n",
    "\n",
    "X_train[:, 1:] = normalizer.fit_transform(X_train[:, 1:])\n",
    "X_val[:, 1:] = normalizer.transform(X_val[:, 1:])\n",
    "X_test[:, 1:] = normalizer.transform(X_test[:, 1:])"
   ]
  },
  {
   "cell_type": "markdown",
   "metadata": {},
   "source": [
    "## Train & Evaluation"
   ]
  },
  {
   "cell_type": "code",
   "execution_count": null,
   "metadata": {},
   "outputs": [],
   "source": [
    "def sigmoid(z):\n",
    "    return 1 / (1 + np.exp(-z))\n",
    "\n",
    "\n",
    "def predict(X, theta):\n",
    "    return sigmoid(np.dot(X, theta))\n",
    "\n",
    "\n",
    "def compute_loss(y, y_pred):\n",
    "    y_pred = np.clip(y_pred, 1e-7, 1 - 1e-7)\n",
    "    return (-y * np.log(y_pred) - (1 - y) * np.log(1 - y_pred)).mean()\n",
    "\n",
    "\n",
    "def compute_gradient(X, y, y_pred):\n",
    "    return np.dot(X.T, (y_pred - y)) / y.size\n",
    "\n",
    "\n",
    "def update_theta(theta, gradient, lr):\n",
    "    return theta - lr * gradient\n",
    "\n",
    "\n",
    "def compute_accuracy(X, y, theta):\n",
    "    y_pred = predict(X, theta).round()\n",
    "    acc = (y_pred == y).mean()\n",
    "    return acc\n"
   ]
  },
  {
   "cell_type": "code",
   "execution_count": 11,
   "metadata": {},
   "outputs": [],
   "source": [
    "lr = 0.01\n",
    "epochs = 200\n",
    "batch_size = 128\n",
    "\n",
    "np.random.seed(2)\n",
    "theta = np.random.uniform(\n",
    "    size=X_train.shape[1]\n",
    ")"
   ]
  },
  {
   "cell_type": "code",
   "execution_count": 13,
   "metadata": {},
   "outputs": [
    {
     "name": "stdout",
     "output_type": "stream",
     "text": [
      "\n",
      "EPOCH 1: \tTraining loss: 0.707\tValidation loss: 7.750\n",
      "\n",
      "EPOCH 2: \tTraining loss: 0.661\tValidation loss: 7.420\n",
      "\n",
      "EPOCH 3: \tTraining loss: 0.624\tValidation loss: 7.129\n",
      "\n",
      "EPOCH 4: \tTraining loss: 0.593\tValidation loss: 6.875\n",
      "\n",
      "EPOCH 5: \tTraining loss: 0.569\tValidation loss: 6.652\n",
      "\n",
      "EPOCH 6: \tTraining loss: 0.548\tValidation loss: 6.456\n",
      "\n",
      "EPOCH 7: \tTraining loss: 0.531\tValidation loss: 6.284\n",
      "\n",
      "EPOCH 8: \tTraining loss: 0.516\tValidation loss: 6.132\n",
      "\n",
      "EPOCH 9: \tTraining loss: 0.504\tValidation loss: 5.997\n",
      "\n",
      "EPOCH 10: \tTraining loss: 0.494\tValidation loss: 5.877\n",
      "\n",
      "EPOCH 11: \tTraining loss: 0.485\tValidation loss: 5.769\n",
      "\n",
      "EPOCH 12: \tTraining loss: 0.477\tValidation loss: 5.672\n",
      "\n",
      "EPOCH 13: \tTraining loss: 0.471\tValidation loss: 5.585\n",
      "\n",
      "EPOCH 14: \tTraining loss: 0.465\tValidation loss: 5.506\n",
      "\n",
      "EPOCH 15: \tTraining loss: 0.460\tValidation loss: 5.434\n",
      "\n",
      "EPOCH 16: \tTraining loss: 0.456\tValidation loss: 5.369\n",
      "\n",
      "EPOCH 17: \tTraining loss: 0.452\tValidation loss: 5.309\n",
      "\n",
      "EPOCH 18: \tTraining loss: 0.448\tValidation loss: 5.253\n",
      "\n",
      "EPOCH 19: \tTraining loss: 0.445\tValidation loss: 5.203\n",
      "\n",
      "EPOCH 20: \tTraining loss: 0.442\tValidation loss: 5.155\n",
      "\n",
      "EPOCH 21: \tTraining loss: 0.440\tValidation loss: 5.112\n",
      "\n",
      "EPOCH 22: \tTraining loss: 0.437\tValidation loss: 5.071\n",
      "\n",
      "EPOCH 23: \tTraining loss: 0.435\tValidation loss: 5.033\n",
      "\n",
      "EPOCH 24: \tTraining loss: 0.433\tValidation loss: 4.998\n",
      "\n",
      "EPOCH 25: \tTraining loss: 0.431\tValidation loss: 4.965\n",
      "\n",
      "EPOCH 26: \tTraining loss: 0.430\tValidation loss: 4.934\n",
      "\n",
      "EPOCH 27: \tTraining loss: 0.428\tValidation loss: 4.905\n",
      "\n",
      "EPOCH 28: \tTraining loss: 0.427\tValidation loss: 4.877\n",
      "\n",
      "EPOCH 29: \tTraining loss: 0.425\tValidation loss: 4.851\n",
      "\n",
      "EPOCH 30: \tTraining loss: 0.424\tValidation loss: 4.827\n",
      "\n",
      "EPOCH 31: \tTraining loss: 0.423\tValidation loss: 4.804\n",
      "\n",
      "EPOCH 32: \tTraining loss: 0.421\tValidation loss: 4.782\n",
      "\n",
      "EPOCH 33: \tTraining loss: 0.420\tValidation loss: 4.761\n",
      "\n",
      "EPOCH 34: \tTraining loss: 0.419\tValidation loss: 4.741\n",
      "\n",
      "EPOCH 35: \tTraining loss: 0.418\tValidation loss: 4.722\n",
      "\n",
      "EPOCH 36: \tTraining loss: 0.417\tValidation loss: 4.704\n",
      "\n",
      "EPOCH 37: \tTraining loss: 0.416\tValidation loss: 4.686\n",
      "\n",
      "EPOCH 38: \tTraining loss: 0.415\tValidation loss: 4.670\n",
      "\n",
      "EPOCH 39: \tTraining loss: 0.414\tValidation loss: 4.654\n",
      "\n",
      "EPOCH 40: \tTraining loss: 0.414\tValidation loss: 4.639\n",
      "\n",
      "EPOCH 41: \tTraining loss: 0.413\tValidation loss: 4.624\n",
      "\n",
      "EPOCH 42: \tTraining loss: 0.412\tValidation loss: 4.610\n",
      "\n",
      "EPOCH 43: \tTraining loss: 0.411\tValidation loss: 4.596\n",
      "\n",
      "EPOCH 44: \tTraining loss: 0.411\tValidation loss: 4.583\n",
      "\n",
      "EPOCH 45: \tTraining loss: 0.410\tValidation loss: 4.571\n",
      "\n",
      "EPOCH 46: \tTraining loss: 0.409\tValidation loss: 4.559\n",
      "\n",
      "EPOCH 47: \tTraining loss: 0.408\tValidation loss: 4.547\n",
      "\n",
      "EPOCH 48: \tTraining loss: 0.408\tValidation loss: 4.536\n",
      "\n",
      "EPOCH 49: \tTraining loss: 0.407\tValidation loss: 4.525\n",
      "\n",
      "EPOCH 50: \tTraining loss: 0.407\tValidation loss: 4.515\n",
      "\n",
      "EPOCH 51: \tTraining loss: 0.406\tValidation loss: 4.504\n",
      "\n",
      "EPOCH 52: \tTraining loss: 0.405\tValidation loss: 4.495\n",
      "\n",
      "EPOCH 53: \tTraining loss: 0.405\tValidation loss: 4.485\n",
      "\n",
      "EPOCH 54: \tTraining loss: 0.404\tValidation loss: 4.476\n",
      "\n",
      "EPOCH 55: \tTraining loss: 0.404\tValidation loss: 4.467\n",
      "\n",
      "EPOCH 56: \tTraining loss: 0.403\tValidation loss: 4.458\n",
      "\n",
      "EPOCH 57: \tTraining loss: 0.403\tValidation loss: 4.449\n",
      "\n",
      "EPOCH 58: \tTraining loss: 0.402\tValidation loss: 4.441\n",
      "\n",
      "EPOCH 59: \tTraining loss: 0.402\tValidation loss: 4.433\n",
      "\n",
      "EPOCH 60: \tTraining loss: 0.401\tValidation loss: 4.425\n",
      "\n",
      "EPOCH 61: \tTraining loss: 0.401\tValidation loss: 4.418\n",
      "\n",
      "EPOCH 62: \tTraining loss: 0.400\tValidation loss: 4.410\n",
      "\n",
      "EPOCH 63: \tTraining loss: 0.400\tValidation loss: 4.403\n",
      "\n",
      "EPOCH 64: \tTraining loss: 0.400\tValidation loss: 4.396\n",
      "\n",
      "EPOCH 65: \tTraining loss: 0.399\tValidation loss: 4.389\n",
      "\n",
      "EPOCH 66: \tTraining loss: 0.399\tValidation loss: 4.382\n",
      "\n",
      "EPOCH 67: \tTraining loss: 0.398\tValidation loss: 4.376\n",
      "\n",
      "EPOCH 68: \tTraining loss: 0.398\tValidation loss: 4.369\n",
      "\n",
      "EPOCH 69: \tTraining loss: 0.398\tValidation loss: 4.363\n",
      "\n",
      "EPOCH 70: \tTraining loss: 0.397\tValidation loss: 4.357\n",
      "\n",
      "EPOCH 71: \tTraining loss: 0.397\tValidation loss: 4.351\n",
      "\n",
      "EPOCH 72: \tTraining loss: 0.397\tValidation loss: 4.345\n",
      "\n",
      "EPOCH 73: \tTraining loss: 0.396\tValidation loss: 4.339\n",
      "\n",
      "EPOCH 74: \tTraining loss: 0.396\tValidation loss: 4.333\n",
      "\n",
      "EPOCH 75: \tTraining loss: 0.396\tValidation loss: 4.328\n",
      "\n",
      "EPOCH 76: \tTraining loss: 0.395\tValidation loss: 4.322\n",
      "\n",
      "EPOCH 77: \tTraining loss: 0.395\tValidation loss: 4.317\n",
      "\n",
      "EPOCH 78: \tTraining loss: 0.395\tValidation loss: 4.311\n",
      "\n",
      "EPOCH 79: \tTraining loss: 0.394\tValidation loss: 4.306\n",
      "\n",
      "EPOCH 80: \tTraining loss: 0.394\tValidation loss: 4.301\n",
      "\n",
      "EPOCH 81: \tTraining loss: 0.394\tValidation loss: 4.296\n",
      "\n",
      "EPOCH 82: \tTraining loss: 0.393\tValidation loss: 4.291\n",
      "\n",
      "EPOCH 83: \tTraining loss: 0.393\tValidation loss: 4.287\n",
      "\n",
      "EPOCH 84: \tTraining loss: 0.393\tValidation loss: 4.282\n",
      "\n",
      "EPOCH 85: \tTraining loss: 0.393\tValidation loss: 4.277\n",
      "\n",
      "EPOCH 86: \tTraining loss: 0.392\tValidation loss: 4.273\n",
      "\n",
      "EPOCH 87: \tTraining loss: 0.392\tValidation loss: 4.268\n",
      "\n",
      "EPOCH 88: \tTraining loss: 0.392\tValidation loss: 4.264\n",
      "\n",
      "EPOCH 89: \tTraining loss: 0.392\tValidation loss: 4.259\n",
      "\n",
      "EPOCH 90: \tTraining loss: 0.391\tValidation loss: 4.255\n",
      "\n",
      "EPOCH 91: \tTraining loss: 0.391\tValidation loss: 4.251\n",
      "\n",
      "EPOCH 92: \tTraining loss: 0.391\tValidation loss: 4.247\n",
      "\n",
      "EPOCH 93: \tTraining loss: 0.391\tValidation loss: 4.243\n",
      "\n",
      "EPOCH 94: \tTraining loss: 0.390\tValidation loss: 4.239\n",
      "\n",
      "EPOCH 95: \tTraining loss: 0.390\tValidation loss: 4.235\n",
      "\n",
      "EPOCH 96: \tTraining loss: 0.390\tValidation loss: 4.231\n",
      "\n",
      "EPOCH 97: \tTraining loss: 0.390\tValidation loss: 4.227\n",
      "\n",
      "EPOCH 98: \tTraining loss: 0.390\tValidation loss: 4.223\n",
      "\n",
      "EPOCH 99: \tTraining loss: 0.389\tValidation loss: 4.220\n",
      "\n",
      "EPOCH 100: \tTraining loss: 0.389\tValidation loss: 4.216\n",
      "\n",
      "EPOCH 101: \tTraining loss: 0.389\tValidation loss: 4.212\n",
      "\n",
      "EPOCH 102: \tTraining loss: 0.389\tValidation loss: 4.209\n",
      "\n",
      "EPOCH 103: \tTraining loss: 0.389\tValidation loss: 4.205\n",
      "\n",
      "EPOCH 104: \tTraining loss: 0.388\tValidation loss: 4.202\n",
      "\n",
      "EPOCH 105: \tTraining loss: 0.388\tValidation loss: 4.198\n",
      "\n",
      "EPOCH 106: \tTraining loss: 0.388\tValidation loss: 4.195\n",
      "\n",
      "EPOCH 107: \tTraining loss: 0.388\tValidation loss: 4.192\n",
      "\n",
      "EPOCH 108: \tTraining loss: 0.388\tValidation loss: 4.188\n",
      "\n",
      "EPOCH 109: \tTraining loss: 0.388\tValidation loss: 4.185\n",
      "\n",
      "EPOCH 110: \tTraining loss: 0.387\tValidation loss: 4.182\n",
      "\n",
      "EPOCH 111: \tTraining loss: 0.387\tValidation loss: 4.179\n",
      "\n",
      "EPOCH 112: \tTraining loss: 0.387\tValidation loss: 4.176\n",
      "\n",
      "EPOCH 113: \tTraining loss: 0.387\tValidation loss: 4.173\n",
      "\n",
      "EPOCH 114: \tTraining loss: 0.387\tValidation loss: 4.170\n",
      "\n",
      "EPOCH 115: \tTraining loss: 0.387\tValidation loss: 4.167\n",
      "\n",
      "EPOCH 116: \tTraining loss: 0.386\tValidation loss: 4.164\n",
      "\n",
      "EPOCH 117: \tTraining loss: 0.386\tValidation loss: 4.161\n",
      "\n",
      "EPOCH 118: \tTraining loss: 0.386\tValidation loss: 4.158\n",
      "\n",
      "EPOCH 119: \tTraining loss: 0.386\tValidation loss: 4.155\n",
      "\n",
      "EPOCH 120: \tTraining loss: 0.386\tValidation loss: 4.152\n",
      "\n",
      "EPOCH 121: \tTraining loss: 0.386\tValidation loss: 4.149\n",
      "\n",
      "EPOCH 122: \tTraining loss: 0.386\tValidation loss: 4.147\n",
      "\n",
      "EPOCH 123: \tTraining loss: 0.386\tValidation loss: 4.144\n",
      "\n",
      "EPOCH 124: \tTraining loss: 0.385\tValidation loss: 4.141\n",
      "\n",
      "EPOCH 125: \tTraining loss: 0.385\tValidation loss: 4.138\n",
      "\n",
      "EPOCH 126: \tTraining loss: 0.385\tValidation loss: 4.136\n",
      "\n",
      "EPOCH 127: \tTraining loss: 0.385\tValidation loss: 4.133\n",
      "\n",
      "EPOCH 128: \tTraining loss: 0.385\tValidation loss: 4.131\n",
      "\n",
      "EPOCH 129: \tTraining loss: 0.385\tValidation loss: 4.128\n",
      "\n",
      "EPOCH 130: \tTraining loss: 0.385\tValidation loss: 4.126\n",
      "\n",
      "EPOCH 131: \tTraining loss: 0.385\tValidation loss: 4.123\n",
      "\n",
      "EPOCH 132: \tTraining loss: 0.384\tValidation loss: 4.121\n",
      "\n",
      "EPOCH 133: \tTraining loss: 0.384\tValidation loss: 4.118\n",
      "\n",
      "EPOCH 134: \tTraining loss: 0.384\tValidation loss: 4.116\n",
      "\n",
      "EPOCH 135: \tTraining loss: 0.384\tValidation loss: 4.113\n",
      "\n",
      "EPOCH 136: \tTraining loss: 0.384\tValidation loss: 4.111\n",
      "\n",
      "EPOCH 137: \tTraining loss: 0.384\tValidation loss: 4.109\n",
      "\n",
      "EPOCH 138: \tTraining loss: 0.384\tValidation loss: 4.106\n",
      "\n",
      "EPOCH 139: \tTraining loss: 0.384\tValidation loss: 4.104\n",
      "\n",
      "EPOCH 140: \tTraining loss: 0.384\tValidation loss: 4.102\n",
      "\n",
      "EPOCH 141: \tTraining loss: 0.384\tValidation loss: 4.100\n",
      "\n",
      "EPOCH 142: \tTraining loss: 0.383\tValidation loss: 4.097\n",
      "\n",
      "EPOCH 143: \tTraining loss: 0.383\tValidation loss: 4.095\n",
      "\n",
      "EPOCH 144: \tTraining loss: 0.383\tValidation loss: 4.093\n",
      "\n",
      "EPOCH 145: \tTraining loss: 0.383\tValidation loss: 4.091\n",
      "\n",
      "EPOCH 146: \tTraining loss: 0.383\tValidation loss: 4.089\n",
      "\n",
      "EPOCH 147: \tTraining loss: 0.383\tValidation loss: 4.087\n",
      "\n",
      "EPOCH 148: \tTraining loss: 0.383\tValidation loss: 4.085\n",
      "\n",
      "EPOCH 149: \tTraining loss: 0.383\tValidation loss: 4.083\n",
      "\n",
      "EPOCH 150: \tTraining loss: 0.383\tValidation loss: 4.081\n",
      "\n",
      "EPOCH 151: \tTraining loss: 0.383\tValidation loss: 4.079\n",
      "\n",
      "EPOCH 152: \tTraining loss: 0.383\tValidation loss: 4.077\n",
      "\n",
      "EPOCH 153: \tTraining loss: 0.382\tValidation loss: 4.075\n",
      "\n",
      "EPOCH 154: \tTraining loss: 0.382\tValidation loss: 4.073\n",
      "\n",
      "EPOCH 155: \tTraining loss: 0.382\tValidation loss: 4.071\n",
      "\n",
      "EPOCH 156: \tTraining loss: 0.382\tValidation loss: 4.069\n",
      "\n",
      "EPOCH 157: \tTraining loss: 0.382\tValidation loss: 4.067\n",
      "\n",
      "EPOCH 158: \tTraining loss: 0.382\tValidation loss: 4.065\n",
      "\n",
      "EPOCH 159: \tTraining loss: 0.382\tValidation loss: 4.063\n",
      "\n",
      "EPOCH 160: \tTraining loss: 0.382\tValidation loss: 4.061\n",
      "\n",
      "EPOCH 161: \tTraining loss: 0.382\tValidation loss: 4.059\n",
      "\n",
      "EPOCH 162: \tTraining loss: 0.382\tValidation loss: 4.058\n",
      "\n",
      "EPOCH 163: \tTraining loss: 0.382\tValidation loss: 4.056\n",
      "\n",
      "EPOCH 164: \tTraining loss: 0.382\tValidation loss: 4.054\n",
      "\n",
      "EPOCH 165: \tTraining loss: 0.382\tValidation loss: 4.052\n",
      "\n",
      "EPOCH 166: \tTraining loss: 0.382\tValidation loss: 4.051\n",
      "\n",
      "EPOCH 167: \tTraining loss: 0.381\tValidation loss: 4.049\n",
      "\n",
      "EPOCH 168: \tTraining loss: 0.381\tValidation loss: 4.047\n",
      "\n",
      "EPOCH 169: \tTraining loss: 0.381\tValidation loss: 4.046\n",
      "\n",
      "EPOCH 170: \tTraining loss: 0.381\tValidation loss: 4.044\n",
      "\n",
      "EPOCH 171: \tTraining loss: 0.381\tValidation loss: 4.042\n",
      "\n",
      "EPOCH 172: \tTraining loss: 0.381\tValidation loss: 4.041\n",
      "\n",
      "EPOCH 173: \tTraining loss: 0.381\tValidation loss: 4.039\n",
      "\n",
      "EPOCH 174: \tTraining loss: 0.381\tValidation loss: 4.037\n",
      "\n",
      "EPOCH 175: \tTraining loss: 0.381\tValidation loss: 4.036\n",
      "\n",
      "EPOCH 176: \tTraining loss: 0.381\tValidation loss: 4.034\n",
      "\n",
      "EPOCH 177: \tTraining loss: 0.381\tValidation loss: 4.033\n",
      "\n",
      "EPOCH 178: \tTraining loss: 0.381\tValidation loss: 4.031\n",
      "\n",
      "EPOCH 179: \tTraining loss: 0.381\tValidation loss: 4.029\n",
      "\n",
      "EPOCH 180: \tTraining loss: 0.381\tValidation loss: 4.028\n",
      "\n",
      "EPOCH 181: \tTraining loss: 0.381\tValidation loss: 4.026\n",
      "\n",
      "EPOCH 182: \tTraining loss: 0.381\tValidation loss: 4.025\n",
      "\n",
      "EPOCH 183: \tTraining loss: 0.381\tValidation loss: 4.023\n",
      "\n",
      "EPOCH 184: \tTraining loss: 0.381\tValidation loss: 4.022\n",
      "\n",
      "EPOCH 185: \tTraining loss: 0.380\tValidation loss: 4.021\n",
      "\n",
      "EPOCH 186: \tTraining loss: 0.380\tValidation loss: 4.019\n",
      "\n",
      "EPOCH 187: \tTraining loss: 0.380\tValidation loss: 4.018\n",
      "\n",
      "EPOCH 188: \tTraining loss: 0.380\tValidation loss: 4.016\n",
      "\n",
      "EPOCH 189: \tTraining loss: 0.380\tValidation loss: 4.015\n",
      "\n",
      "EPOCH 190: \tTraining loss: 0.380\tValidation loss: 4.013\n",
      "\n",
      "EPOCH 191: \tTraining loss: 0.380\tValidation loss: 4.012\n",
      "\n",
      "EPOCH 192: \tTraining loss: 0.380\tValidation loss: 4.011\n",
      "\n",
      "EPOCH 193: \tTraining loss: 0.380\tValidation loss: 4.009\n",
      "\n",
      "EPOCH 194: \tTraining loss: 0.380\tValidation loss: 4.008\n",
      "\n",
      "EPOCH 195: \tTraining loss: 0.380\tValidation loss: 4.007\n",
      "\n",
      "EPOCH 196: \tTraining loss: 0.380\tValidation loss: 4.005\n",
      "\n",
      "EPOCH 197: \tTraining loss: 0.380\tValidation loss: 4.004\n",
      "\n",
      "EPOCH 198: \tTraining loss: 0.380\tValidation loss: 4.003\n",
      "\n",
      "EPOCH 199: \tTraining loss: 0.380\tValidation loss: 4.001\n",
      "\n",
      "EPOCH 200: \tTraining loss: 0.380\tValidation loss: 4.000\n"
     ]
    }
   ],
   "source": [
    "train_accs, train_losses = [], []\n",
    "val_accs, val_losses = [], []\n",
    "\n",
    "for epoch in range(epochs):\n",
    "    train_batch_losses, train_batch_accs = [], []\n",
    "    val_batch_losses, val_batch_accs = [], []\n",
    "\n",
    "    for i in range(0, X_train.shape[0], batch_size):\n",
    "        X_i = X_train[i: i + batch_size]\n",
    "        y_i = y_train[i: i + batch_size]\n",
    "\n",
    "        y_pred = predict(X_i, theta)\n",
    "        train_loss = compute_loss(y_i, y_pred)\n",
    "        train_batch_losses.append(train_loss)\n",
    "        gradient = compute_gradient(X_i, y_i, y_pred)\n",
    "        theta = update_theta(theta, gradient, lr)\n",
    "\n",
    "        train_acc = compute_accuracy(X_train, y_train, theta)\n",
    "        train_batch_accs.append(train_acc)\n",
    "        \n",
    "        y_val_pred = predict(X_val, theta)\n",
    "        val_loss = compute_loss(y_val_pred, y_val)\n",
    "        val_batch_losses.append(val_loss)\n",
    "        \n",
    "        val_acc = compute_accuracy(X_val, y_val, theta)\n",
    "        val_batch_accs.append(val_acc)\n",
    "    \n",
    "    train_batch_loss = np.mean(train_batch_losses)\n",
    "    val_batch_loss = np.mean(val_batch_losses)\n",
    "    train_batch_acc = np.mean(train_batch_accs)\n",
    "    val_batch_acc = np.mean(val_batch_accs)\n",
    "    \n",
    "    train_losses.append(train_batch_loss)\n",
    "    val_losses.append(val_batch_loss)\n",
    "    train_accs.append(train_batch_acc)\n",
    "    val_accs.append(val_batch_acc)\n",
    "    \n",
    "    print(f\"\\nEPOCH {epoch + 1}: \\tTraining loss: {train_batch_loss:.3f}\\tValidation loss: {val_batch_loss:.3f}\")"
   ]
  },
  {
   "cell_type": "code",
   "execution_count": null,
   "metadata": {},
   "outputs": [
    {
     "data": {
      "image/png": "[encoded data removed]",
      "text/plain": [
       "<Figure size 1200x1000 with 4 Axes>"
      ]
     },
     "metadata": {},
     "output_type": "display_data"
    }
   ],
   "source": [
    "fig, ax = plt.subplots(2, 2, figsize=(12, 10))\n",
    "ax[0, 0].plot(train_losses)\n",
    "ax[0, 0].set(xlabel=\"Epoch\", ylabel=\"Loss\")\n",
    "ax[0, 0].set_title(\"Training Loss\")\n",
    "\n",
    "ax[0, 1].plot(val_losses, \"orange\")\n",
    "ax[0, 1].set(xlabel=\"Epoch\", ylabel=\"Loss\")\n",
    "ax[0, 1].set_title(\"Validation Loss\")\n",
    "\n",
    "ax[1, 0].plot(train_accs)\n",
    "ax[1, 0].set(xlabel=\"Epoch\", ylabel=\"Accuracy\")\n",
    "ax[1, 0].set_title(\"Training Accuracy\")\n",
    "\n",
    "ax[1, 1].plot(val_accs, \"orange\")\n",
    "ax[1, 1].set(xlabel=\"Epoch\", ylabel=\"Accuracy\")\n",
    "ax[1, 1].set_title(\"Validation Accuracy\")\n",
    "\n",
    "plt.show()"
   ]
  },
  {
   "cell_type": "code",
   "execution_count": 15,
   "metadata": {},
   "outputs": [
    {
     "name": "stdout",
     "output_type": "stream",
     "text": [
      "Evaluation on validation test set: \n",
      "Validation Accuracy:  0.82260101010101\n",
      "Test Accuracy:  0.8434343434343434\n"
     ]
    }
   ],
   "source": [
    "val_set_acc = compute_accuracy(X_val, y_val, theta)\n",
    "test_set_acc = compute_accuracy(X_test, y_test, theta)\n",
    "\n",
    "print(\"Evaluation on validation test set: \")\n",
    "print(\"Validation Accuracy: \", val_set_acc)\n",
    "print(\"Test Accuracy: \", test_set_acc)"
   ]
  },
  {
   "cell_type": "markdown",
   "metadata": {},
   "source": []
  },
  {
   "cell_type": "code",
   "execution_count": 26,
   "metadata": {},
   "outputs": [
    {
     "data": {
      "text/plain": [
       "array([0.92988994])"
      ]
     },
     "execution_count": 26,
     "metadata": {},
     "output_type": "execute_result"
    }
   ],
   "source": [
    "X = np.array([[22.3, -1.5, 1.1, 1]])\n",
    "theta = np.array([0.1, -0.15, 0.3, -0.2])\n",
    "predict(X, theta)"
   ]
  },
  {
   "cell_type": "code",
   "execution_count": 18,
   "metadata": {},
   "outputs": [
    {
     "data": {
      "text/plain": [
       "0.5043515376900958"
      ]
     },
     "execution_count": 18,
     "metadata": {},
     "output_type": "execute_result"
    }
   ],
   "source": [
    "y = np.array([1, 0, 0, 1])\n",
    "y_pred = np.array([0.8, 0.75, 0.3, 0.95])\n",
    "compute_loss(y, y_pred)"
   ]
  },
  {
   "cell_type": "code",
   "execution_count": 23,
   "metadata": {},
   "outputs": [
    {
     "data": {
      "text/plain": [
       "array([-0.0625,  0.0625])"
      ]
     },
     "execution_count": 23,
     "metadata": {},
     "output_type": "execute_result"
    }
   ],
   "source": [
    "X = np.array([[1, 2], [2, 1], [1, 1], [2, 2]])\n",
    "y_true = np.array([0, 1, 0, 1])\n",
    "y_pred = np.array([0.25, 0.75, 0.4, 0.8])\n",
    "\n",
    "compute_gradient(X, y_true, y_pred)"
   ]
  },
  {
   "cell_type": "code",
   "execution_count": null,
   "metadata": {},
   "outputs": [
    {
     "data": {
      "text/plain": [
       "1.0"
      ]
     },
     "execution_count": 27,
     "metadata": {},
     "output_type": "execute_result"
    }
   ],
   "source": [
    "def compute_accuracy(y_true , y_pred ) :\n",
    "    y_pred_rounded = np.round(y_pred)\n",
    "    accuracy = np.mean(y_true == y_pred_rounded)\n",
    "    return accuracy\n",
    "\n",
    "y_true = np.array([1, 0, 1, 1])\n",
    "y_pred = np.array([0.85, 0.35, 0.9, 0.75])\n",
    "\n",
    "compute_accuracy(y_true, y_pred)"
   ]
  },
  {
   "cell_type": "code",
   "execution_count": 33,
   "metadata": {},
   "outputs": [
    {
     "data": {
      "text/plain": [
       "array([-0.2125, -0.4   ])"
      ]
     },
     "execution_count": 33,
     "metadata": {},
     "output_type": "execute_result"
    }
   ],
   "source": [
    "X = np.array([[1, 3], [2, 1], [3, 2], [1, 2]])\n",
    "y_true = np.array([1, 0, 1, 1])\n",
    "y_pred = np.array([0.7, 0.4, 0.6, 0.85])\n",
    "\n",
    "compute_gradient(X, y_true, y_pred)"
   ]
  }
 ],
 "metadata": {
  "kernelspec": {
   "display_name": "py311",
   "language": "python",
   "name": "python3"
  },
  "language_info": {
   "codemirror_mode": {
    "name": "ipython",
    "version": 3
   },
   "file_extension": ".py",
   "mimetype": "text/x-python",
   "name": "python",
   "nbconvert_exporter": "python",
   "pygments_lexer": "ipython3",
   "version": "3.12.2"
  }
 },
 "nbformat": 4,
 "nbformat_minor": 2
}

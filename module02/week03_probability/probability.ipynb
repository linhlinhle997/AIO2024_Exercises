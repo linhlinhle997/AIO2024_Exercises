{
 "cells": [
  {
   "cell_type": "markdown",
   "metadata": {},
   "source": [
    "# Probability Exercise"
   ]
  },
  {
   "cell_type": "code",
   "execution_count": 1,
   "metadata": {},
   "outputs": [],
   "source": [
    "import numpy as np"
   ]
  },
  {
   "cell_type": "markdown",
   "metadata": {},
   "source": [
    "## Play Tennis Classifier Implementation"
   ]
  },
  {
   "cell_type": "markdown",
   "metadata": {},
   "source": [
    "### 4.1 Hoàn thiện function create_train_dataset() để tổ chức dữ liệu bảng 1 vào array 2 chiều như bên dưới."
   ]
  },
  {
   "cell_type": "code",
   "execution_count": 8,
   "metadata": {},
   "outputs": [],
   "source": [
    "def create_train_data():\n",
    "    data = [['Sunny', 'Hot', 'High', 'Weak', 'No'],\n",
    "            ['Sunny', 'Hot', 'High', 'Strong', 'No'],\n",
    "            ['Overcast', 'Hot', 'High', 'Weak', 'Yes'],\n",
    "            ['Rain', 'Mild', 'High', 'Weak', 'Yes'],\n",
    "            ['Rain', 'Cool', 'Normal', 'Weak', 'Yes'],\n",
    "            ['Rain', 'Cool', 'Normal', 'Strong', 'No'],\n",
    "            ['Overcast', 'Cool', 'Normal', 'Strong', 'Yes'],\n",
    "            ['Overcast', 'Mild', 'High', 'Weak', 'No'],\n",
    "            ['Sunny', 'Cool', 'Normal', 'Weak', 'Yes'],\n",
    "            ['Rain', 'Mild', 'Normal', 'Weak', 'Yes']]\n",
    "    return np.array(data)"
   ]
  },
  {
   "cell_type": "code",
   "execution_count": 9,
   "metadata": {},
   "outputs": [
    {
     "data": {
      "text/plain": [
       "array([['Sunny', 'Hot', 'High', 'Weak', 'No'],\n",
       "       ['Sunny', 'Hot', 'High', 'Strong', 'No'],\n",
       "       ['Overcast', 'Hot', 'High', 'Weak', 'Yes'],\n",
       "       ['Rain', 'Mild', 'High', 'Weak', 'Yes'],\n",
       "       ['Rain', 'Cool', 'Normal', 'Weak', 'Yes'],\n",
       "       ['Rain', 'Cool', 'Normal', 'Strong', 'No'],\n",
       "       ['Overcast', 'Cool', 'Normal', 'Strong', 'Yes'],\n",
       "       ['Overcast', 'Mild', 'High', 'Weak', 'No'],\n",
       "       ['Sunny', 'Cool', 'Normal', 'Weak', 'Yes'],\n",
       "       ['Rain', 'Mild', 'Normal', 'Weak', 'Yes']], dtype='<U8')"
      ]
     },
     "execution_count": 9,
     "metadata": {},
     "output_type": "execute_result"
    }
   ],
   "source": [
    "train_data = create_train_data()\n",
    "train_data"
   ]
  },
  {
   "cell_type": "markdown",
   "metadata": {},
   "source": [
    "### 4.2 Hoàn thiện function compute_prior_probability tính P(\"Play Tennis\" = \"Yes\") and tính P(\"Play Tennis\" = \"No\") như bên dưới:"
   ]
  },
  {
   "cell_type": "code",
   "execution_count": 10,
   "metadata": {},
   "outputs": [],
   "source": [
    "def compute_prior_probability(train_data):\n",
    "    y_unique = [\"No\", \"Yes\"]\n",
    "    prior_probability = np.zeros(len(y_unique))\n",
    "    play_tennis_cols = train_data[:, -1]\n",
    "    for i in range(len(y_unique)):\n",
    "        prior_probability[i] = len(train_data[play_tennis_cols == y_unique[i]]) / len(train_data)\n",
    "    return prior_probability"
   ]
  },
  {
   "cell_type": "code",
   "execution_count": 11,
   "metadata": {},
   "outputs": [
    {
     "name": "stdout",
     "output_type": "stream",
     "text": [
      "P(Play Tennis = No) =  0.4\n",
      "P(Play Tennis = Yes) =  0.6\n"
     ]
    }
   ],
   "source": [
    "prior_probability = compute_prior_probability(train_data)\n",
    "print(\"P(Play Tennis = No) = \", prior_probability[0])\n",
    "print(\"P(Play Tennis = Yes) = \", prior_probability[1])"
   ]
  },
  {
   "cell_type": "markdown",
   "metadata": {},
   "source": [
    "### 4.3 Hoàn thiện function compute_conditional_probability để tính likelihood (The probability of \"A\" being True. Given \"B\" True, P(A|B)) như bên dưới:"
   ]
  },
  {
   "cell_type": "code",
   "execution_count": 19,
   "metadata": {},
   "outputs": [],
   "source": [
    "def compute_conditional_probability(train_data):\n",
    "    y_unique = np.unique(train_data[:, -1])\n",
    "    conditional_probability = []\n",
    "    list_x_name = []\n",
    "\n",
    "    for i in range(train_data.shape[1] - 1):\n",
    "        x_unique = np.unique(train_data[:, i])\n",
    "        list_x_name.append(x_unique)\n",
    "        x_conditional_probability = []\n",
    "        for x_value in x_unique:\n",
    "            x_conditional_probability_y = []\n",
    "            for y_value in y_unique:\n",
    "                x_and_y_count = len(train_data[(train_data[:, i] == x_value) & (train_data[:, -1] == y_value)])\n",
    "                y_count = len(train_data[train_data[:, -1] == y_value])\n",
    "                probability = x_and_y_count / y_count if y_count > 0 else 0\n",
    "                x_conditional_probability_y.append(probability)\n",
    "            x_conditional_probability.append(x_conditional_probability_y)\n",
    "        conditional_probability.append(np.array(x_conditional_probability))  # Convert each list to a numpy array\n",
    "\n",
    "    return conditional_probability, list_x_name"
   ]
  },
  {
   "cell_type": "code",
   "execution_count": 12,
   "metadata": {},
   "outputs": [
    {
     "name": "stdout",
     "output_type": "stream",
     "text": [
      "x1 = ['Overcast' 'Rain' 'Sunny']\n",
      "x2 = ['Cool' 'Hot' 'Mild']\n",
      "x3 = ['High' 'Normal']\n",
      "x4 = ['Strong' 'Weak']\n"
     ]
    }
   ],
   "source": [
    "_, list_x_name = compute_conditional_probability(train_data)\n",
    "print(\"x1 =\", list_x_name[0])\n",
    "print(\"x2 =\", list_x_name[1])\n",
    "print(\"x3 =\", list_x_name[2])\n",
    "print(\"x4 =\", list_x_name[3])"
   ]
  },
  {
   "cell_type": "markdown",
   "metadata": {},
   "source": [
    "### 4.4 Hoàn thiện function get_index_from_value để tính trả về index tương ứng với feature name:"
   ]
  },
  {
   "cell_type": "code",
   "execution_count": 20,
   "metadata": {},
   "outputs": [],
   "source": [
    "def get_index_from_value(feature_name, list_feature):\n",
    "    return np.where(list_feature == feature_name)[0][0]"
   ]
  },
  {
   "cell_type": "code",
   "execution_count": 15,
   "metadata": {},
   "outputs": [
    {
     "name": "stdout",
     "output_type": "stream",
     "text": [
      "0 1 2\n"
     ]
    }
   ],
   "source": [
    "train_data = create_train_data()\n",
    "_, list_x_name = compute_conditional_probability(train_data)\n",
    "outlook = list_x_name[0]\n",
    "\n",
    "i1 = get_index_from_value(\"Overcast\", outlook)\n",
    "i2 = get_index_from_value(\"Rain\", outlook)\n",
    "i3 = get_index_from_value(\"Sunny\", outlook)\n",
    "\n",
    "print(i1, i2, i3)"
   ]
  },
  {
   "cell_type": "code",
   "execution_count": 23,
   "metadata": {},
   "outputs": [
    {
     "name": "stdout",
     "output_type": "stream",
     "text": [
      "P('Outlook'='Sunny' | 'Play Tennis'='Yes') = 0.17\n"
     ]
    }
   ],
   "source": [
    "train_data = create_train_data()\n",
    "conditional_probability, list_x_name = compute_conditional_probability(train_data)\n",
    "x1 = get_index_from_value(\"Sunny\", list_x_name[0])\n",
    "y_no_index = np.where(np.array(['No', 'Yes']) == 'Yes')[0][0]\n",
    "print(\"P('Outlook'='Sunny' | 'Play Tennis'='Yes') =\", np.round(conditional_probability[0][x1, y_no_index], 2))"
   ]
  },
  {
   "cell_type": "code",
   "execution_count": 22,
   "metadata": {},
   "outputs": [
    {
     "name": "stdout",
     "output_type": "stream",
     "text": [
      "P('Outlook'='Sunny' | 'Play Tennis'='No') = 0.5\n"
     ]
    }
   ],
   "source": [
    "train_data = create_train_data()\n",
    "conditional_probability, list_x_name = compute_conditional_probability(train_data)\n",
    "x1 = get_index_from_value(\"Sunny\", list_x_name[0])\n",
    "y_no_index = np.where(np.array(['No', 'Yes']) == 'No')[0][0]\n",
    "print(\"P('Outlook'='Sunny' | 'Play Tennis'='No') =\", np.round(conditional_probability[0][x1, y_no_index], 2))"
   ]
  },
  {
   "cell_type": "code",
   "execution_count": 24,
   "metadata": {},
   "outputs": [],
   "source": [
    "def train_naive_bayes(train_data):\n",
    "    y_unique = [\"No\", \"Yes\"]\n",
    "    prior_probability = compute_prior_probability(train_data)\n",
    "    conditional_probability, list_x_name = compute_conditional_probability(train_data)\n",
    "    return prior_probability, conditional_probability, list_x_name"
   ]
  },
  {
   "cell_type": "code",
   "execution_count": 25,
   "metadata": {},
   "outputs": [],
   "source": [
    "def prediction_play_tennis(X, list_x_name, prior_probability, conditional_probability):\n",
    "    x1= get_index_from_value(X[0], list_x_name[0])\n",
    "    x2 = get_index_from_value(X[1], list_x_name[1])\n",
    "    x3 = get_index_from_value(X[2], list_x_name[2])\n",
    "    x4 = get_index_from_value(X[3], list_x_name[3])\n",
    "    \n",
    "    p0 = 0\n",
    "    p1 = 0\n",
    "    \n",
    "    for i in range(len(prior_probability)):\n",
    "        p0 += np.log(conditional_probability[0][x1, i])\n",
    "        p0 += np.log(conditional_probability[1][x2, i])\n",
    "        p0 += np.log(conditional_probability[2][x3, i])\n",
    "        p0 += np.log(conditional_probability[3][x4, i])\n",
    "        p0 += np.log(prior_probability[i])\n",
    "    \n",
    "    if p0 > p1:\n",
    "        y_pred = 0\n",
    "    else:\n",
    "        y_pred = 1\n",
    "    \n",
    "    return y_pred"
   ]
  },
  {
   "cell_type": "code",
   "execution_count": 26,
   "metadata": {},
   "outputs": [
    {
     "name": "stdout",
     "output_type": "stream",
     "text": [
      "Ad should go!\n"
     ]
    }
   ],
   "source": [
    "X = [\"Sunny\", \"Cool\", \"High\", \"Strong\"]\n",
    "data = create_train_data()\n",
    "prior_probability, conditional_probability, list_x_name = train_naive_bayes(data)\n",
    "pred = prediction_play_tennis(X, list_x_name, prior_probability, conditional_probability)\n",
    "\n",
    "if pred:\n",
    "    print(\"Ad should go!\")\n",
    "else:\n",
    "    print(\"Ad should not go!\")"
   ]
  }
 ],
 "metadata": {
  "kernelspec": {
   "display_name": "Python 3",
   "language": "python",
   "name": "python3"
  },
  "language_info": {
   "codemirror_mode": {
    "name": "ipython",
    "version": 3
   },
   "file_extension": ".py",
   "mimetype": "text/x-python",
   "name": "python",
   "nbconvert_exporter": "python",
   "pygments_lexer": "ipython3",
   "version": "3.11.5"
  }
 },
 "nbformat": 4,
 "nbformat_minor": 2
}
